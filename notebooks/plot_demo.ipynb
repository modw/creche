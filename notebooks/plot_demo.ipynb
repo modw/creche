{
 "cells": [
  {
   "cell_type": "code",
   "execution_count": 4,
   "metadata": {},
   "outputs": [],
   "source": [
    "import numpy as np\n",
    "import pandas as pd"
   ]
  },
  {
   "cell_type": "code",
   "execution_count": 5,
   "metadata": {},
   "outputs": [],
   "source": [
    "n = 6 * 12\n",
    "x = np.arange(n)\n",
    "y = np.abs(np.random.randn(n))\n",
    "y_cs = np.cumsum(y) * 1000\n",
    "\n",
    "data = pd.DataFrame({\"x\": x, \"y\": y, \"A\": y_cs, \"B\": 2 * y_cs, \"C\": 3 * y_cs})"
   ]
  },
  {
   "cell_type": "code",
   "execution_count": 6,
   "metadata": {},
   "outputs": [],
   "source": [
    "# add `..` to python path\n",
    "import sys\n",
    "from importlib import reload\n",
    "\n",
    "sys.path.append(\"..\")\n",
    "from utils.plot import plot_trend"
   ]
  },
  {
   "cell_type": "code",
   "execution_count": 7,
   "metadata": {},
   "outputs": [
    {
     "data": {
      "application/vnd.plotly.v1+json": {
       "config": {
        "plotlyServerURL": "https://plot.ly"
       },
       "data": [
        {
         "hovertemplate": "<b>Cumulative Cost</b>: $%{y:,.0f}",
         "line": {
          "color": "rgba(60,60,60,0.25)",
          "width": 2
         },
         "mode": "lines",
         "name": "A",
         "showlegend": false,
         "type": "scatter",
         "x": [
          0,
          1,
          2,
          3,
          4,
          5,
          6,
          7,
          8,
          9,
          10,
          11,
          12,
          13,
          14,
          15,
          16,
          17,
          18,
          19,
          20,
          21,
          22,
          23,
          24,
          25,
          26,
          27,
          28,
          29,
          30,
          31,
          32,
          33,
          34,
          35,
          36,
          37,
          38,
          39,
          40,
          41,
          42,
          43,
          44,
          45,
          46,
          47,
          48,
          49,
          50,
          51,
          52,
          53,
          54,
          55,
          56,
          57,
          58,
          59,
          60,
          61,
          62,
          63,
          64,
          65,
          66,
          67,
          68,
          69,
          70,
          71
         ],
         "xaxis": "x",
         "y": [
          -1280.0123098013755,
          -1071.0075163534952,
          -697.688540142668,
          -397.2735973633289,
          -198.07777106353296,
          -109.31170253981645,
          0,
          608.1700464548458,
          2695.823128255795,
          4082.2155707656552,
          4338.337869109737,
          4536.586970094379,
          5650.567052881366,
          6648.709176713448,
          7721.214907581449,
          7826.513188702433,
          8449.582807281584,
          8567.086232742206,
          9796.469944622146,
          10015.658702642644,
          10565.829191808174,
          10992.136636389796,
          12126.101892721781,
          12627.59942988773,
          13549.399223462651,
          13817.286682799937,
          14760.565098966375,
          15330.859113612229,
          16383.496506955917,
          17070.785227684522,
          19699.210545273047,
          19782.29252816024,
          21339.29089196957,
          21625.046993256143,
          22391.176262693847,
          22688.496973767316,
          22790.43135746391,
          23842.966019618703,
          24170.34197236712,
          25130.967848929457,
          25570.910296429414,
          25706.017542206297,
          27205.4716416948,
          27368.259090515905,
          28034.116041163612,
          28362.711894392207,
          29802.148928260394,
          30255.60207326898,
          30590.959117239698,
          32187.459521949488,
          33832.85076456545,
          34222.102065750834,
          34355.453863625444,
          35081.25191212972,
          35380.227250491494,
          35999.6490997412,
          38100.1432672204,
          39084.67959482467,
          39100.56168406855,
          39711.97008809968,
          39778.18400406319,
          40069.62364174939,
          40132.3940239136,
          41506.218495428635,
          42688.89034109031,
          42956.98940552123,
          43320.80905782394,
          45591.51457236078,
          45983.03949495192,
          47052.545590206886,
          47483.79367615668,
          48086.568069499575
         ],
         "yaxis": "y"
        },
        {
         "hovertemplate": "<b>Cumulative Cost</b>: $%{y:,.0f}",
         "line": {
          "color": "rgba(65,40,200,1)",
          "width": 2
         },
         "mode": "lines",
         "name": "B",
         "opacity": 0.2,
         "showlegend": false,
         "type": "scatter",
         "x": [
          0,
          1,
          2,
          3,
          4,
          5
         ],
         "xaxis": "x",
         "y": [
          -2560.024619602751,
          -2142.0150327069905,
          -1395.377080285336,
          -794.5471947266578,
          -396.1555421270659,
          -218.6234050796329
         ],
         "yaxis": "y"
        },
        {
         "hovertemplate": "<b>Cumulative Cost</b>: $%{y:,.0f}",
         "line": {
          "color": "rgba(65,40,200,1)",
          "width": 2
         },
         "mode": "lines",
         "name": "B",
         "opacity": 0.2,
         "showlegend": false,
         "type": "scatter",
         "x": [
          55,
          56,
          57,
          58,
          59,
          60,
          61,
          62,
          63,
          64,
          65,
          66,
          67,
          68,
          69,
          70,
          71
         ],
         "xaxis": "x",
         "y": [
          71999.2981994824,
          76200.2865344408,
          78169.35918964935,
          78201.1233681371,
          79423.94017619936,
          79556.36800812637,
          80139.24728349879,
          80264.7880478272,
          83012.43699085727,
          85377.78068218062,
          85913.97881104246,
          86641.61811564789,
          91183.02914472156,
          91966.07898990384,
          94105.09118041377,
          94967.58735231336,
          96173.13613899915
         ],
         "yaxis": "y"
        },
        {
         "hovertemplate": "<b>Cumulative Cost</b>: $%{y:,.0f}",
         "line": {
          "color": "rgba(65,40,200,1)",
          "width": 2
         },
         "mode": "lines",
         "name": "B",
         "opacity": 1,
         "showlegend": false,
         "type": "scatter",
         "x": [
          6,
          7,
          8,
          9,
          10,
          11,
          12,
          13,
          14,
          15,
          16,
          17,
          18,
          19,
          20,
          21,
          22,
          23,
          24,
          25,
          26,
          27,
          28,
          29,
          30,
          31,
          32,
          33,
          34,
          35,
          36,
          37,
          38,
          39,
          40,
          41,
          42,
          43,
          44,
          45,
          46,
          47,
          48,
          49,
          50,
          51,
          52,
          53,
          54
         ],
         "xaxis": "x",
         "y": [
          0,
          1216.3400929096915,
          5391.64625651159,
          8164.4311415313105,
          8676.675738219474,
          9073.173940188757,
          11301.134105762732,
          13297.418353426896,
          15442.429815162897,
          15653.026377404865,
          16899.165614563168,
          17134.17246548441,
          19592.93988924429,
          20031.31740528529,
          21131.658383616348,
          21984.273272779592,
          24252.203785443562,
          25255.19885977546,
          27098.798446925302,
          27634.573365599874,
          29521.13019793275,
          30661.718227224457,
          32766.993013911833,
          34141.570455369045,
          39398.42109054609,
          39564.58505632048,
          42678.58178393914,
          43250.093986512285,
          44782.352525387694,
          45376.99394753463,
          45580.86271492782,
          47685.93203923741,
          48340.68394473424,
          50261.93569785891,
          51141.82059285883,
          51412.03508441259,
          54410.9432833896,
          54736.51818103181,
          56068.232082327224,
          56725.423788784414,
          59604.29785652079,
          60511.20414653796,
          61181.918234479395,
          64374.919043898975,
          67665.7015291309,
          68444.20413150167,
          68710.90772725089,
          70162.50382425945,
          70760.45450098299
         ],
         "yaxis": "y"
        },
        {
         "hovertemplate": "<b>Cumulative Cost</b>: $%{y:,.0f}",
         "line": {
          "color": "rgba(60,60,60,0.25)",
          "width": 2
         },
         "mode": "lines",
         "name": "C",
         "showlegend": false,
         "type": "scatter",
         "x": [
          0,
          1,
          2,
          3,
          4,
          5,
          6,
          7,
          8,
          9,
          10,
          11,
          12,
          13,
          14,
          15,
          16,
          17,
          18,
          19,
          20,
          21,
          22,
          23,
          24,
          25,
          26,
          27,
          28,
          29,
          30,
          31,
          32,
          33,
          34,
          35,
          36,
          37,
          38,
          39,
          40,
          41,
          42,
          43,
          44,
          45,
          46,
          47,
          48,
          49,
          50,
          51,
          52,
          53,
          54,
          55,
          56,
          57,
          58,
          59,
          60,
          61,
          62,
          63,
          64,
          65,
          66,
          67,
          68,
          69,
          70,
          71
         ],
         "xaxis": "x",
         "y": [
          -3840.0369294041266,
          -3213.022549060486,
          -2093.065620428004,
          -1191.8207920899877,
          -594.2333131905998,
          -327.9351076194507,
          0,
          1824.5101393645364,
          8087.469384767384,
          12246.646712296966,
          13015.013607329212,
          13609.760910283134,
          16951.701158644097,
          19946.12753014034,
          23163.644722744346,
          23479.539566107294,
          25348.748421844753,
          25701.25869822661,
          29389.409833866437,
          30046.97610792793,
          31697.48757542452,
          32976.40990916938,
          36378.30567816534,
          37882.79828966319,
          40648.19767038795,
          41451.8600483998,
          44281.695296899125,
          45992.57734083668,
          49150.48952086775,
          51212.35568305357,
          59097.63163581914,
          59346.877584480724,
          64017.8726759087,
          64875.14097976843,
          67173.52878808154,
          68065.49092130194,
          68371.29407239173,
          71528.89805885611,
          72511.02591710136,
          75392.90354678837,
          76712.73088928824,
          77118.05262661888,
          81616.41492508439,
          82104.77727154772,
          84102.34812349084,
          85088.13568317662,
          89406.44678478118,
          90766.80621980694,
          91772.8773517191,
          96562.37856584846,
          101498.55229369635,
          102666.3061972525,
          103066.36159087633,
          105243.75573638917,
          106140.68175147448,
          107998.9472992236,
          114300.4298016612,
          117254.03878447402,
          117301.68505220563,
          119135.91026429905,
          119334.55201218955,
          120208.87092524818,
          120397.1820717408,
          124518.65548628592,
          128066.67102327093,
          128870.96821656369,
          129962.42717347183,
          136774.54371708233,
          137949.11848485575,
          141157.63677062065,
          142451.38102847006,
          144259.70420849873
         ],
         "yaxis": "y"
        },
        {
         "hoverinfo": "skip",
         "marker": {
          "color": "rgba(65,40,200,1)",
          "size": 6
         },
         "mode": "markers+text",
         "showlegend": false,
         "text": [
          "$0",
          "$70,760"
         ],
         "textfont": {
          "color": "rgba(65,40,200,1)",
          "shadow": "0px 0px 3px white, 0 0 1px white",
          "size": 16,
          "weight": 3
         },
         "textposition": "top center",
         "type": "scatter",
         "x": [
          6,
          54
         ],
         "xaxis": "x",
         "y": [
          0,
          70760.45450098299
         ],
         "yaxis": "y"
        }
       ],
       "layout": {
        "font": {
         "size": 14
        },
        "height": 600,
        "hovermode": "x",
        "margin": {
         "b": 60,
         "l": 0,
         "r": 20,
         "t": 30
        },
        "plot_bgcolor": "white",
        "template": {
         "data": {
          "bar": [
           {
            "error_x": {
             "color": "#2a3f5f"
            },
            "error_y": {
             "color": "#2a3f5f"
            },
            "marker": {
             "line": {
              "color": "#E5ECF6",
              "width": 0.5
             },
             "pattern": {
              "fillmode": "overlay",
              "size": 10,
              "solidity": 0.2
             }
            },
            "type": "bar"
           }
          ],
          "barpolar": [
           {
            "marker": {
             "line": {
              "color": "#E5ECF6",
              "width": 0.5
             },
             "pattern": {
              "fillmode": "overlay",
              "size": 10,
              "solidity": 0.2
             }
            },
            "type": "barpolar"
           }
          ],
          "carpet": [
           {
            "aaxis": {
             "endlinecolor": "#2a3f5f",
             "gridcolor": "white",
             "linecolor": "white",
             "minorgridcolor": "white",
             "startlinecolor": "#2a3f5f"
            },
            "baxis": {
             "endlinecolor": "#2a3f5f",
             "gridcolor": "white",
             "linecolor": "white",
             "minorgridcolor": "white",
             "startlinecolor": "#2a3f5f"
            },
            "type": "carpet"
           }
          ],
          "choropleth": [
           {
            "colorbar": {
             "outlinewidth": 0,
             "ticks": ""
            },
            "type": "choropleth"
           }
          ],
          "contour": [
           {
            "colorbar": {
             "outlinewidth": 0,
             "ticks": ""
            },
            "colorscale": [
             [
              0,
              "#0d0887"
             ],
             [
              0.1111111111111111,
              "#46039f"
             ],
             [
              0.2222222222222222,
              "#7201a8"
             ],
             [
              0.3333333333333333,
              "#9c179e"
             ],
             [
              0.4444444444444444,
              "#bd3786"
             ],
             [
              0.5555555555555556,
              "#d8576b"
             ],
             [
              0.6666666666666666,
              "#ed7953"
             ],
             [
              0.7777777777777778,
              "#fb9f3a"
             ],
             [
              0.8888888888888888,
              "#fdca26"
             ],
             [
              1,
              "#f0f921"
             ]
            ],
            "type": "contour"
           }
          ],
          "contourcarpet": [
           {
            "colorbar": {
             "outlinewidth": 0,
             "ticks": ""
            },
            "type": "contourcarpet"
           }
          ],
          "heatmap": [
           {
            "colorbar": {
             "outlinewidth": 0,
             "ticks": ""
            },
            "colorscale": [
             [
              0,
              "#0d0887"
             ],
             [
              0.1111111111111111,
              "#46039f"
             ],
             [
              0.2222222222222222,
              "#7201a8"
             ],
             [
              0.3333333333333333,
              "#9c179e"
             ],
             [
              0.4444444444444444,
              "#bd3786"
             ],
             [
              0.5555555555555556,
              "#d8576b"
             ],
             [
              0.6666666666666666,
              "#ed7953"
             ],
             [
              0.7777777777777778,
              "#fb9f3a"
             ],
             [
              0.8888888888888888,
              "#fdca26"
             ],
             [
              1,
              "#f0f921"
             ]
            ],
            "type": "heatmap"
           }
          ],
          "heatmapgl": [
           {
            "colorbar": {
             "outlinewidth": 0,
             "ticks": ""
            },
            "colorscale": [
             [
              0,
              "#0d0887"
             ],
             [
              0.1111111111111111,
              "#46039f"
             ],
             [
              0.2222222222222222,
              "#7201a8"
             ],
             [
              0.3333333333333333,
              "#9c179e"
             ],
             [
              0.4444444444444444,
              "#bd3786"
             ],
             [
              0.5555555555555556,
              "#d8576b"
             ],
             [
              0.6666666666666666,
              "#ed7953"
             ],
             [
              0.7777777777777778,
              "#fb9f3a"
             ],
             [
              0.8888888888888888,
              "#fdca26"
             ],
             [
              1,
              "#f0f921"
             ]
            ],
            "type": "heatmapgl"
           }
          ],
          "histogram": [
           {
            "marker": {
             "pattern": {
              "fillmode": "overlay",
              "size": 10,
              "solidity": 0.2
             }
            },
            "type": "histogram"
           }
          ],
          "histogram2d": [
           {
            "colorbar": {
             "outlinewidth": 0,
             "ticks": ""
            },
            "colorscale": [
             [
              0,
              "#0d0887"
             ],
             [
              0.1111111111111111,
              "#46039f"
             ],
             [
              0.2222222222222222,
              "#7201a8"
             ],
             [
              0.3333333333333333,
              "#9c179e"
             ],
             [
              0.4444444444444444,
              "#bd3786"
             ],
             [
              0.5555555555555556,
              "#d8576b"
             ],
             [
              0.6666666666666666,
              "#ed7953"
             ],
             [
              0.7777777777777778,
              "#fb9f3a"
             ],
             [
              0.8888888888888888,
              "#fdca26"
             ],
             [
              1,
              "#f0f921"
             ]
            ],
            "type": "histogram2d"
           }
          ],
          "histogram2dcontour": [
           {
            "colorbar": {
             "outlinewidth": 0,
             "ticks": ""
            },
            "colorscale": [
             [
              0,
              "#0d0887"
             ],
             [
              0.1111111111111111,
              "#46039f"
             ],
             [
              0.2222222222222222,
              "#7201a8"
             ],
             [
              0.3333333333333333,
              "#9c179e"
             ],
             [
              0.4444444444444444,
              "#bd3786"
             ],
             [
              0.5555555555555556,
              "#d8576b"
             ],
             [
              0.6666666666666666,
              "#ed7953"
             ],
             [
              0.7777777777777778,
              "#fb9f3a"
             ],
             [
              0.8888888888888888,
              "#fdca26"
             ],
             [
              1,
              "#f0f921"
             ]
            ],
            "type": "histogram2dcontour"
           }
          ],
          "mesh3d": [
           {
            "colorbar": {
             "outlinewidth": 0,
             "ticks": ""
            },
            "type": "mesh3d"
           }
          ],
          "parcoords": [
           {
            "line": {
             "colorbar": {
              "outlinewidth": 0,
              "ticks": ""
             }
            },
            "type": "parcoords"
           }
          ],
          "pie": [
           {
            "automargin": true,
            "type": "pie"
           }
          ],
          "scatter": [
           {
            "fillpattern": {
             "fillmode": "overlay",
             "size": 10,
             "solidity": 0.2
            },
            "type": "scatter"
           }
          ],
          "scatter3d": [
           {
            "line": {
             "colorbar": {
              "outlinewidth": 0,
              "ticks": ""
             }
            },
            "marker": {
             "colorbar": {
              "outlinewidth": 0,
              "ticks": ""
             }
            },
            "type": "scatter3d"
           }
          ],
          "scattercarpet": [
           {
            "marker": {
             "colorbar": {
              "outlinewidth": 0,
              "ticks": ""
             }
            },
            "type": "scattercarpet"
           }
          ],
          "scattergeo": [
           {
            "marker": {
             "colorbar": {
              "outlinewidth": 0,
              "ticks": ""
             }
            },
            "type": "scattergeo"
           }
          ],
          "scattergl": [
           {
            "marker": {
             "colorbar": {
              "outlinewidth": 0,
              "ticks": ""
             }
            },
            "type": "scattergl"
           }
          ],
          "scattermapbox": [
           {
            "marker": {
             "colorbar": {
              "outlinewidth": 0,
              "ticks": ""
             }
            },
            "type": "scattermapbox"
           }
          ],
          "scatterpolar": [
           {
            "marker": {
             "colorbar": {
              "outlinewidth": 0,
              "ticks": ""
             }
            },
            "type": "scatterpolar"
           }
          ],
          "scatterpolargl": [
           {
            "marker": {
             "colorbar": {
              "outlinewidth": 0,
              "ticks": ""
             }
            },
            "type": "scatterpolargl"
           }
          ],
          "scatterternary": [
           {
            "marker": {
             "colorbar": {
              "outlinewidth": 0,
              "ticks": ""
             }
            },
            "type": "scatterternary"
           }
          ],
          "surface": [
           {
            "colorbar": {
             "outlinewidth": 0,
             "ticks": ""
            },
            "colorscale": [
             [
              0,
              "#0d0887"
             ],
             [
              0.1111111111111111,
              "#46039f"
             ],
             [
              0.2222222222222222,
              "#7201a8"
             ],
             [
              0.3333333333333333,
              "#9c179e"
             ],
             [
              0.4444444444444444,
              "#bd3786"
             ],
             [
              0.5555555555555556,
              "#d8576b"
             ],
             [
              0.6666666666666666,
              "#ed7953"
             ],
             [
              0.7777777777777778,
              "#fb9f3a"
             ],
             [
              0.8888888888888888,
              "#fdca26"
             ],
             [
              1,
              "#f0f921"
             ]
            ],
            "type": "surface"
           }
          ],
          "table": [
           {
            "cells": {
             "fill": {
              "color": "#EBF0F8"
             },
             "line": {
              "color": "white"
             }
            },
            "header": {
             "fill": {
              "color": "#C8D4E3"
             },
             "line": {
              "color": "white"
             }
            },
            "type": "table"
           }
          ]
         },
         "layout": {
          "annotationdefaults": {
           "arrowcolor": "#2a3f5f",
           "arrowhead": 0,
           "arrowwidth": 1
          },
          "autotypenumbers": "strict",
          "coloraxis": {
           "colorbar": {
            "outlinewidth": 0,
            "ticks": ""
           }
          },
          "colorscale": {
           "diverging": [
            [
             0,
             "#8e0152"
            ],
            [
             0.1,
             "#c51b7d"
            ],
            [
             0.2,
             "#de77ae"
            ],
            [
             0.3,
             "#f1b6da"
            ],
            [
             0.4,
             "#fde0ef"
            ],
            [
             0.5,
             "#f7f7f7"
            ],
            [
             0.6,
             "#e6f5d0"
            ],
            [
             0.7,
             "#b8e186"
            ],
            [
             0.8,
             "#7fbc41"
            ],
            [
             0.9,
             "#4d9221"
            ],
            [
             1,
             "#276419"
            ]
           ],
           "sequential": [
            [
             0,
             "#0d0887"
            ],
            [
             0.1111111111111111,
             "#46039f"
            ],
            [
             0.2222222222222222,
             "#7201a8"
            ],
            [
             0.3333333333333333,
             "#9c179e"
            ],
            [
             0.4444444444444444,
             "#bd3786"
            ],
            [
             0.5555555555555556,
             "#d8576b"
            ],
            [
             0.6666666666666666,
             "#ed7953"
            ],
            [
             0.7777777777777778,
             "#fb9f3a"
            ],
            [
             0.8888888888888888,
             "#fdca26"
            ],
            [
             1,
             "#f0f921"
            ]
           ],
           "sequentialminus": [
            [
             0,
             "#0d0887"
            ],
            [
             0.1111111111111111,
             "#46039f"
            ],
            [
             0.2222222222222222,
             "#7201a8"
            ],
            [
             0.3333333333333333,
             "#9c179e"
            ],
            [
             0.4444444444444444,
             "#bd3786"
            ],
            [
             0.5555555555555556,
             "#d8576b"
            ],
            [
             0.6666666666666666,
             "#ed7953"
            ],
            [
             0.7777777777777778,
             "#fb9f3a"
            ],
            [
             0.8888888888888888,
             "#fdca26"
            ],
            [
             1,
             "#f0f921"
            ]
           ]
          },
          "colorway": [
           "#636efa",
           "#EF553B",
           "#00cc96",
           "#ab63fa",
           "#FFA15A",
           "#19d3f3",
           "#FF6692",
           "#B6E880",
           "#FF97FF",
           "#FECB52"
          ],
          "font": {
           "color": "#2a3f5f"
          },
          "geo": {
           "bgcolor": "white",
           "lakecolor": "white",
           "landcolor": "#E5ECF6",
           "showlakes": true,
           "showland": true,
           "subunitcolor": "white"
          },
          "hoverlabel": {
           "align": "left"
          },
          "hovermode": "closest",
          "mapbox": {
           "style": "light"
          },
          "paper_bgcolor": "white",
          "plot_bgcolor": "#E5ECF6",
          "polar": {
           "angularaxis": {
            "gridcolor": "white",
            "linecolor": "white",
            "ticks": ""
           },
           "bgcolor": "#E5ECF6",
           "radialaxis": {
            "gridcolor": "white",
            "linecolor": "white",
            "ticks": ""
           }
          },
          "scene": {
           "xaxis": {
            "backgroundcolor": "#E5ECF6",
            "gridcolor": "white",
            "gridwidth": 2,
            "linecolor": "white",
            "showbackground": true,
            "ticks": "",
            "zerolinecolor": "white"
           },
           "yaxis": {
            "backgroundcolor": "#E5ECF6",
            "gridcolor": "white",
            "gridwidth": 2,
            "linecolor": "white",
            "showbackground": true,
            "ticks": "",
            "zerolinecolor": "white"
           },
           "zaxis": {
            "backgroundcolor": "#E5ECF6",
            "gridcolor": "white",
            "gridwidth": 2,
            "linecolor": "white",
            "showbackground": true,
            "ticks": "",
            "zerolinecolor": "white"
           }
          },
          "shapedefaults": {
           "line": {
            "color": "#2a3f5f"
           }
          },
          "ternary": {
           "aaxis": {
            "gridcolor": "white",
            "linecolor": "white",
            "ticks": ""
           },
           "baxis": {
            "gridcolor": "white",
            "linecolor": "white",
            "ticks": ""
           },
           "bgcolor": "#E5ECF6",
           "caxis": {
            "gridcolor": "white",
            "linecolor": "white",
            "ticks": ""
           }
          },
          "title": {
           "x": 0.05
          },
          "xaxis": {
           "automargin": true,
           "gridcolor": "white",
           "linecolor": "white",
           "ticks": "",
           "title": {
            "standoff": 15
           },
           "zerolinecolor": "white",
           "zerolinewidth": 2
          },
          "yaxis": {
           "automargin": true,
           "gridcolor": "white",
           "linecolor": "white",
           "ticks": "",
           "title": {
            "standoff": 15
           },
           "zerolinecolor": "white",
           "zerolinewidth": 2
          }
         }
        },
        "width": 800,
        "xaxis": {
         "anchor": "y",
         "domain": [
          0,
          1
         ],
         "linecolor": "black",
         "linewidth": 1,
         "range": [
          -10,
          72
         ],
         "showgrid": false,
         "showline": true,
         "tickangle": 0,
         "tickfont": {
          "size": 14
         },
         "ticks": "inside",
         "ticktext": [
          "0 <i>months</i>",
          "10",
          "20",
          "30",
          "40",
          "50",
          "60",
          "70"
         ],
         "tickvals": [
          0,
          10,
          20,
          30,
          40,
          50,
          60,
          70
         ]
        },
        "yaxis": {
         "anchor": "x",
         "domain": [
          0,
          1
         ],
         "gridcolor": "lightgray",
         "griddash": "dash",
         "gridwidth": 1,
         "range": [
          -3840.0369294041266,
          144259.70420849873
         ],
         "showgrid": true,
         "showline": false,
         "showticklabels": true,
         "tickfont": {
          "color": "gray",
          "size": 15
         },
         "tickformat": "$~s",
         "ticklabelposition": "inside top",
         "tickmode": "array",
         "zeroline": false
        }
       }
      }
     },
     "metadata": {},
     "output_type": "display_data"
    }
   ],
   "source": [
    "reload(sys.modules[\"utils.plot\"])\n",
    "plot_trend(data, \"x\", [\"A\", \"B\", \"C\"], \"B\", 6, 4 * 12 + 6)"
   ]
  }
 ],
 "metadata": {
  "kernelspec": {
   "display_name": "creche",
   "language": "python",
   "name": "python3"
  },
  "language_info": {
   "codemirror_mode": {
    "name": "ipython",
    "version": 3
   },
   "file_extension": ".py",
   "mimetype": "text/x-python",
   "name": "python",
   "nbconvert_exporter": "python",
   "pygments_lexer": "ipython3",
   "version": "3.12.5"
  }
 },
 "nbformat": 4,
 "nbformat_minor": 2
}
