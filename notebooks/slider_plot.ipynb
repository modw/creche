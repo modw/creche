{
 "cells": [
  {
   "cell_type": "code",
   "execution_count": 30,
   "metadata": {},
   "outputs": [],
   "source": [
    "import plotly.graph_objects as go\n",
    "from plotly.subplots import make_subplots\n",
    "import numpy as np\n",
    "import pandas as pd"
   ]
  },
  {
   "cell_type": "code",
   "execution_count": 129,
   "metadata": {},
   "outputs": [],
   "source": [
    "n = 5 * 12 + 6\n",
    "x = np.arange(n)\n",
    "y = np.abs(np.random.randn(n))\n",
    "y_cs = np.cumsum(y) * 1000\n",
    "\n",
    "data = pd.DataFrame({\"x\": x, \"y\": y, \"A\": y_cs, \"B\": 2 * y_cs, \"C\": 3 * y_cs})"
   ]
  },
  {
   "cell_type": "code",
   "execution_count": 281,
   "metadata": {},
   "outputs": [],
   "source": [
    "def sum_lines_traces(data, ycols, ycol_highlight, left, right):\n",
    "    hover_template = \"<b>Cumulative Cost</b>: $%{y:,.0f}\"\n",
    "\n",
    "    traces = []\n",
    "    for column in ycols:\n",
    "        if column == ycol_highlight:\n",
    "            # plot from 0 to shade_l\n",
    "            data_left = data.loc[data.index < left]\n",
    "            data_right = data.loc[data.index > right]\n",
    "            data_middle = data.loc[(data.index >= left) & (data.index <= right)]\n",
    "            for d in [data_left, data_right, data_middle]:\n",
    "                opacity = 1 if d is data_middle else 0.2\n",
    "                traces.append(\n",
    "                    go.Scatter(\n",
    "                        x=d.index,\n",
    "                        y=d[column],\n",
    "                        mode=\"lines\",\n",
    "                        line=dict(color=\"rgba(65,40,200,1)\"),\n",
    "                        showlegend=False,\n",
    "                        opacity=opacity,\n",
    "                        hovertemplate=hover_template,\n",
    "                        name=column,\n",
    "                    )\n",
    "                )\n",
    "\n",
    "        else:\n",
    "            traces.append(\n",
    "                go.Scatter(\n",
    "                    x=data.index,\n",
    "                    y=data[column],\n",
    "                    mode=\"lines\",\n",
    "                    line=dict(color=\"rgba(60,60,60,0.25)\"),\n",
    "                    showlegend=False,\n",
    "                    hovertemplate=hover_template,\n",
    "                    name=column,\n",
    "                )\n",
    "            )\n",
    "\n",
    "    # add maker at left, right\n",
    "    y_l = data.loc[data.index == left, ycol_highlight].values[0]\n",
    "    y_r = data.loc[data.index == right, ycol_highlight].values[0]\n",
    "\n",
    "    traces.append(\n",
    "        go.Scatter(\n",
    "            x=[left, right],\n",
    "            y=[y_l, y_r],\n",
    "            mode=\"markers\",\n",
    "            marker=dict(color=\"rgba(95,40,200,1)\", size=6),\n",
    "            showlegend=False,\n",
    "            hoverinfo=\"skip\",\n",
    "        )\n",
    "    )\n",
    "\n",
    "    return traces"
   ]
  },
  {
   "cell_type": "code",
   "execution_count": 297,
   "metadata": {},
   "outputs": [],
   "source": [
    "def vertical_traces(data, ycol_highlight, left, right):\n",
    "\n",
    "    traces = []\n",
    "    # plot from 0 to shade_l\n",
    "    data_left = data.loc[data.index < left, [ycol_highlight]]\n",
    "    data_right = data.loc[data.index > right, [ycol_highlight]]\n",
    "    data_middle = data.loc[\n",
    "        (data.index >= left) & (data.index <= right), [ycol_highlight]\n",
    "    ]\n",
    "    for d in [data_left, data_right, data_middle]:\n",
    "        opacity = 1 if d is data_middle else 0.2\n",
    "        traces.append(\n",
    "            go.Scatter(\n",
    "                x=[0] * len(d),\n",
    "                y=d[ycol_highlight],\n",
    "                mode=\"lines\",\n",
    "                line=dict(color=\"rgba(65,40,200,1)\"),\n",
    "                showlegend=False,\n",
    "                opacity=opacity,\n",
    "                hoverinfo=\"skip\",\n",
    "            )\n",
    "        )\n",
    "\n",
    "    # add marker at left, right\n",
    "    y_l = data_middle[ycol_highlight].min()\n",
    "    y_r = data_middle[ycol_highlight].max()\n",
    "\n",
    "    traces.append(\n",
    "        go.Scatter(\n",
    "            x=[0, 0],\n",
    "            y=[y_l, y_r],\n",
    "            mode=\"markers\",\n",
    "            marker=dict(color=\"rgba(95,40,200,1)\", size=6),\n",
    "            showlegend=False,\n",
    "            hovertemplate=\"<br><b>Cumulative Cost</b>: $%{y:,.0f}\",\n",
    "            name=ycol_highlight,\n",
    "        )\n",
    "    )\n",
    "\n",
    "    traces.append(\n",
    "        go.Scatter(\n",
    "            x=[0],\n",
    "            y=[(y_r + y_l) / 2],\n",
    "            # text=[f\"${y_r - y_l:,.0f}\"],\n",
    "            # textfont=dict(size=14, color=\"rgba(95,40,200,1)\", weight=\"bold\"),\n",
    "            # textposition=\"middle center\",\n",
    "            hoverinfo=\"skip\",\n",
    "            mode=\"text\",\n",
    "            showlegend=False,\n",
    "        )\n",
    "    )\n",
    "\n",
    "    return traces"
   ]
  },
  {
   "cell_type": "code",
   "execution_count": 334,
   "metadata": {},
   "outputs": [],
   "source": [
    "def plot_trend(data, xcol, columns_included, column_highlight, left, right):\n",
    "    # create a copy of data to avoid modifying the original\n",
    "    data = data.copy()\n",
    "    # make xcol the index\n",
    "    data.set_index(xcol, inplace=True)\n",
    "\n",
    "    # offset data to start at left\n",
    "    data[columns_included] = (\n",
    "        data[columns_included] - data.loc[left, columns_included]\n",
    "    )\n",
    "    # subplots\n",
    "    fig = make_subplots(\n",
    "        rows=1,\n",
    "        cols=2,\n",
    "        column_widths=[8, 1],\n",
    "        row_heights=[8],\n",
    "        shared_yaxes=True,\n",
    "        horizontal_spacing=0.02,\n",
    "    )\n",
    "\n",
    "    # plot lines in the main plot\n",
    "\n",
    "    y_l = data.loc[left, column_highlight]\n",
    "    y_r = data.loc[right, column_highlight]\n",
    "\n",
    "    duration_sum = y_r - y_l\n",
    "\n",
    "    main_traces = sum_lines_traces(\n",
    "        data, columns_included, column_highlight, left, right\n",
    "    )\n",
    "\n",
    "    vert_traces = vertical_traces(data, column_highlight, left, right)\n",
    "\n",
    "    for trace in main_traces:\n",
    "        fig.add_trace(trace, row=1, col=1)\n",
    "\n",
    "    for trace in vert_traces:\n",
    "        fig.add_trace(trace, row=1, col=2)\n",
    "\n",
    "    for y in [y_l, y_r]:\n",
    "        fig.add_hline(y=y, line_dash=\"dot\", row=1, col=\"all\", opacity=0.2)\n",
    "\n",
    "    # add anotation to the right plot\n",
    "    fig.add_annotation(\n",
    "        x=0,\n",
    "        y=(y_r + y_l) / 2,\n",
    "        text=f\"${duration_sum:,.0f}\",\n",
    "        showarrow=False,\n",
    "        font=dict(size=20, color=\"rgba(95,40,200,1)\", weight=\"bold\"),\n",
    "        xshift=15,\n",
    "        yshift=0,\n",
    "        row=1,\n",
    "        col=2,\n",
    "        textangle=90,\n",
    "    )\n",
    "\n",
    "    # add title as annotation to the left plot\n",
    "    fig.add_annotation(\n",
    "        text=f\"Cumulative Cost of Childcare\",\n",
    "        font=dict(\n",
    "            size=20,\n",
    "            color=\"rgba(95,40,200,1)\",\n",
    "            weight=\"bold\",\n",
    "            family=\"Helvetica\",\n",
    "        ),\n",
    "        xref=\"x domain\",\n",
    "        yref=\"y domain\",\n",
    "        x=0,  # Left edge of the subplot\n",
    "        y=1,  # Top edge of the subplot\n",
    "        xshift=20,\n",
    "        yshift=-15,\n",
    "        xanchor=\"left\",\n",
    "        yanchor=\"top\",\n",
    "        showarrow=False,\n",
    "    )\n",
    "\n",
    "    # hide tick labels from the right plot\n",
    "    fig.update_xaxes(\n",
    "        range=[-0.1, 0.1],\n",
    "        row=1,\n",
    "        col=2,\n",
    "        showgrid=False,  # This hides the vertical gridlines\n",
    "        tickformat=\"%d-%b\",  # This formats the tick labels (e.g., \"01-Jan\")\n",
    "    )\n",
    "\n",
    "    # update layout\n",
    "\n",
    "    fig.update_layout(\n",
    "        font=dict(size=14),\n",
    "        width=800,\n",
    "        height=600,\n",
    "        # ymin\n",
    "        yaxis=dict(\n",
    "            range=[\n",
    "                data[columns_included].min().min(),\n",
    "                data[columns_included].max().max(),\n",
    "            ],\n",
    "            showgrid=False,\n",
    "        ),\n",
    "        xaxis=dict(\n",
    "            showgrid=False,\n",
    "        ),\n",
    "        xaxis_title=\"Age (Month)\",\n",
    "        hovermode=\"x\",\n",
    "    )\n",
    "\n",
    "    # turn off grid\n",
    "    for i in range(1, 3):\n",
    "        fig.update_yaxes(showgrid=False, row=1, col=i)\n",
    "        fig.update_xaxes(showgrid=False, row=1, col=i)\n",
    "\n",
    "    fig.update_xaxes(showticklabels=False, row=1, col=2)\n",
    "\n",
    "    fig.show()"
   ]
  },
  {
   "cell_type": "code",
   "execution_count": 335,
   "metadata": {},
   "outputs": [
    {
     "data": {
      "application/vnd.plotly.v1+json": {
       "config": {
        "plotlyServerURL": "https://plot.ly"
       },
       "data": [
        {
         "hovertemplate": "<b>Cumulative Cost</b>: $%{y:,.0f}",
         "line": {
          "color": "rgba(60,60,60,0.25)"
         },
         "mode": "lines",
         "name": "A",
         "showlegend": false,
         "type": "scatter",
         "x": [
          0,
          1,
          2,
          3,
          4,
          5,
          6,
          7,
          8,
          9,
          10,
          11,
          12,
          13,
          14,
          15,
          16,
          17,
          18,
          19,
          20,
          21,
          22,
          23,
          24,
          25,
          26,
          27,
          28,
          29,
          30,
          31,
          32,
          33,
          34,
          35,
          36,
          37,
          38,
          39,
          40,
          41,
          42,
          43,
          44,
          45,
          46,
          47,
          48,
          49,
          50,
          51,
          52,
          53,
          54,
          55,
          56,
          57,
          58,
          59,
          60,
          61,
          62,
          63,
          64,
          65
         ],
         "xaxis": "x",
         "y": [
          -6423.4322560858345,
          -4536.412555355508,
          -4345.0565625924455,
          -3801.54096439717,
          -2970.086790873192,
          -1515.5145751749787,
          0,
          93.27834262269062,
          904.2614565128724,
          2404.0280713933907,
          4819.508963737103,
          5205.675247090602,
          7482.143398395071,
          8574.885958851508,
          8587.732771705261,
          8748.927460908602,
          9599.026107367183,
          9628.860491144176,
          10215.420879529189,
          11291.070705576953,
          12246.23462810404,
          13265.794294982723,
          14043.703981775852,
          14053.690338077398,
          15133.929555171926,
          15608.901770608056,
          17092.358871471577,
          18067.161194237036,
          18327.35542718823,
          18643.267720828077,
          19793.39916020036,
          22366.211693814683,
          23369.607432058052,
          23585.176751941926,
          25241.895494789744,
          26542.80898834694,
          27032.262275810815,
          27498.591523514322,
          28455.046339337972,
          28636.729094565508,
          28756.704702674422,
          29590.313419155147,
          31338.392937921057,
          31976.107162991462,
          32870.43090300684,
          34400.681412416474,
          34942.840519873505,
          37672.138184870855,
          37744.429876318405,
          38313.5881311824,
          39111.0340752703,
          39705.31139980837,
          40936.24403264586,
          41980.62906093282,
          43453.3391918096,
          45055.26806129364,
          46064.08860701677,
          47785.38929036678,
          48905.41007076002,
          48968.351502598875,
          48994.65366621066,
          49994.22682391354,
          51416.85358230018,
          51846.81167811498,
          51984.72522292973,
          53085.20316492845
         ],
         "yaxis": "y"
        },
        {
         "hovertemplate": "<b>Cumulative Cost</b>: $%{y:,.0f}",
         "line": {
          "color": "rgba(65,40,200,1)"
         },
         "mode": "lines",
         "name": "B",
         "opacity": 0.2,
         "showlegend": false,
         "type": "scatter",
         "x": [
          0,
          1,
          2,
          3,
          4,
          5
         ],
         "xaxis": "x",
         "y": [
          -12846.864512171669,
          -9072.825110711015,
          -8690.113125184891,
          -7603.08192879434,
          -5940.173581746384,
          -3031.0291503499575
         ],
         "yaxis": "y"
        },
        {
         "hovertemplate": "<b>Cumulative Cost</b>: $%{y:,.0f}",
         "line": {
          "color": "rgba(65,40,200,1)"
         },
         "mode": "lines",
         "name": "B",
         "opacity": 0.2,
         "showlegend": false,
         "type": "scatter",
         "x": [
          55,
          56,
          57,
          58,
          59,
          60,
          61,
          62,
          63,
          64,
          65
         ],
         "xaxis": "x",
         "y": [
          90110.53612258728,
          92128.17721403354,
          95570.77858073356,
          97810.82014152005,
          97936.70300519775,
          97989.30733242132,
          99988.45364782707,
          102833.70716460036,
          103693.62335622996,
          103969.45044585946,
          106170.4063298569
         ],
         "yaxis": "y"
        },
        {
         "hovertemplate": "<b>Cumulative Cost</b>: $%{y:,.0f}",
         "line": {
          "color": "rgba(65,40,200,1)"
         },
         "mode": "lines",
         "name": "B",
         "opacity": 1,
         "showlegend": false,
         "type": "scatter",
         "x": [
          6,
          7,
          8,
          9,
          10,
          11,
          12,
          13,
          14,
          15,
          16,
          17,
          18,
          19,
          20,
          21,
          22,
          23,
          24,
          25,
          26,
          27,
          28,
          29,
          30,
          31,
          32,
          33,
          34,
          35,
          36,
          37,
          38,
          39,
          40,
          41,
          42,
          43,
          44,
          45,
          46,
          47,
          48,
          49,
          50,
          51,
          52,
          53,
          54
         ],
         "xaxis": "x",
         "y": [
          0,
          186.55668524538123,
          1808.5229130257449,
          4808.0561427867815,
          9639.017927474206,
          10411.350494181204,
          14964.286796790142,
          17149.771917703016,
          17175.465543410523,
          17497.854921817205,
          19198.052214734365,
          19257.720982288352,
          20430.841759058378,
          22582.141411153905,
          24492.46925620808,
          26531.588589965446,
          28087.407963551705,
          28107.380676154797,
          30267.859110343852,
          31217.80354121611,
          34184.717742943154,
          36134.32238847407,
          36654.71085437646,
          37286.53544165615,
          39586.79832040072,
          44732.423387629366,
          46739.214864116104,
          47170.35350388385,
          50483.79098957949,
          53085.61797669388,
          54064.52455162163,
          54997.183047028644,
          56910.092678675945,
          57273.458189131015,
          57513.409405348844,
          59180.626838310294,
          62676.78587584211,
          63952.214325982924,
          65740.86180601368,
          68801.36282483295,
          69885.68103974701,
          75344.27636974171,
          75488.85975263681,
          76627.1762623648,
          78222.0681505406,
          79410.62279961674,
          81872.48806529172,
          83961.25812186564,
          86906.6783836192
         ],
         "yaxis": "y"
        },
        {
         "hovertemplate": "<b>Cumulative Cost</b>: $%{y:,.0f}",
         "line": {
          "color": "rgba(60,60,60,0.25)"
         },
         "mode": "lines",
         "name": "C",
         "showlegend": false,
         "type": "scatter",
         "x": [
          0,
          1,
          2,
          3,
          4,
          5,
          6,
          7,
          8,
          9,
          10,
          11,
          12,
          13,
          14,
          15,
          16,
          17,
          18,
          19,
          20,
          21,
          22,
          23,
          24,
          25,
          26,
          27,
          28,
          29,
          30,
          31,
          32,
          33,
          34,
          35,
          36,
          37,
          38,
          39,
          40,
          41,
          42,
          43,
          44,
          45,
          46,
          47,
          48,
          49,
          50,
          51,
          52,
          53,
          54,
          55,
          56,
          57,
          58,
          59,
          60,
          61,
          62,
          63,
          64,
          65
         ],
         "xaxis": "x",
         "y": [
          -19270.296768257504,
          -13609.237666066523,
          -13035.169687777337,
          -11404.62289319151,
          -8910.260372619578,
          -4546.543725524938,
          0,
          279.83502786807003,
          2712.784369538618,
          7212.0842141801695,
          14458.52689121131,
          15617.025741271806,
          22446.43019518521,
          25724.657876554527,
          25763.198315115784,
          26246.78238272581,
          28797.078322101544,
          28886.581473432525,
          30646.262638587563,
          33873.21211673086,
          36738.70388431212,
          39797.382884948165,
          42131.11194532755,
          42161.07101423219,
          45401.78866551577,
          46826.70531182417,
          51277.07661441473,
          54201.4835827111,
          54982.06628156469,
          55929.80316248423,
          59380.19748060108,
          67098.63508144405,
          70108.82229617416,
          70755.53025582578,
          75725.68648436922,
          79628.42696504082,
          81096.78682743243,
          82495.77457054297,
          85365.1390180139,
          85910.18728369652,
          86270.11410802326,
          88770.94025746544,
          94015.17881376317,
          95928.32148897438,
          98611.29270902052,
          103202.04423724941,
          104828.52155962051,
          113016.41455461257,
          113233.28962895522,
          114940.7643935472,
          117333.1022258109,
          119115.9341994251,
          122808.73209793758,
          125941.88718279847,
          130360.01757542882,
          135165.80418388091,
          138192.2658210503,
          143356.16787110033,
          146716.23021228006,
          146905.05450779662,
          146983.96099863198,
          149982.6804717406,
          154250.56074690053,
          155540.43503434493,
          155954.1756687892,
          159255.60949478534
         ],
         "yaxis": "y"
        },
        {
         "hoverinfo": "skip",
         "marker": {
          "color": "rgba(95,40,200,1)",
          "size": 6
         },
         "mode": "markers",
         "showlegend": false,
         "type": "scatter",
         "x": [
          6,
          54
         ],
         "xaxis": "x",
         "y": [
          0,
          86906.6783836192
         ],
         "yaxis": "y"
        },
        {
         "hoverinfo": "skip",
         "line": {
          "color": "rgba(65,40,200,1)"
         },
         "mode": "lines",
         "opacity": 0.2,
         "showlegend": false,
         "type": "scatter",
         "x": [
          0,
          0,
          0,
          0,
          0,
          0
         ],
         "xaxis": "x2",
         "y": [
          -12846.864512171669,
          -9072.825110711015,
          -8690.113125184891,
          -7603.08192879434,
          -5940.173581746384,
          -3031.0291503499575
         ],
         "yaxis": "y2"
        },
        {
         "hoverinfo": "skip",
         "line": {
          "color": "rgba(65,40,200,1)"
         },
         "mode": "lines",
         "opacity": 0.2,
         "showlegend": false,
         "type": "scatter",
         "x": [
          0,
          0,
          0,
          0,
          0,
          0,
          0,
          0,
          0,
          0,
          0
         ],
         "xaxis": "x2",
         "y": [
          90110.53612258728,
          92128.17721403354,
          95570.77858073356,
          97810.82014152005,
          97936.70300519775,
          97989.30733242132,
          99988.45364782707,
          102833.70716460036,
          103693.62335622996,
          103969.45044585946,
          106170.4063298569
         ],
         "yaxis": "y2"
        },
        {
         "hoverinfo": "skip",
         "line": {
          "color": "rgba(65,40,200,1)"
         },
         "mode": "lines",
         "opacity": 1,
         "showlegend": false,
         "type": "scatter",
         "x": [
          0,
          0,
          0,
          0,
          0,
          0,
          0,
          0,
          0,
          0,
          0,
          0,
          0,
          0,
          0,
          0,
          0,
          0,
          0,
          0,
          0,
          0,
          0,
          0,
          0,
          0,
          0,
          0,
          0,
          0,
          0,
          0,
          0,
          0,
          0,
          0,
          0,
          0,
          0,
          0,
          0,
          0,
          0,
          0,
          0,
          0,
          0,
          0,
          0
         ],
         "xaxis": "x2",
         "y": [
          0,
          186.55668524538123,
          1808.5229130257449,
          4808.0561427867815,
          9639.017927474206,
          10411.350494181204,
          14964.286796790142,
          17149.771917703016,
          17175.465543410523,
          17497.854921817205,
          19198.052214734365,
          19257.720982288352,
          20430.841759058378,
          22582.141411153905,
          24492.46925620808,
          26531.588589965446,
          28087.407963551705,
          28107.380676154797,
          30267.859110343852,
          31217.80354121611,
          34184.717742943154,
          36134.32238847407,
          36654.71085437646,
          37286.53544165615,
          39586.79832040072,
          44732.423387629366,
          46739.214864116104,
          47170.35350388385,
          50483.79098957949,
          53085.61797669388,
          54064.52455162163,
          54997.183047028644,
          56910.092678675945,
          57273.458189131015,
          57513.409405348844,
          59180.626838310294,
          62676.78587584211,
          63952.214325982924,
          65740.86180601368,
          68801.36282483295,
          69885.68103974701,
          75344.27636974171,
          75488.85975263681,
          76627.1762623648,
          78222.0681505406,
          79410.62279961674,
          81872.48806529172,
          83961.25812186564,
          86906.6783836192
         ],
         "yaxis": "y2"
        },
        {
         "hovertemplate": "<br><b>Cumulative Cost</b>: $%{y:,.0f}",
         "marker": {
          "color": "rgba(95,40,200,1)",
          "size": 6
         },
         "mode": "markers",
         "name": "B",
         "showlegend": false,
         "type": "scatter",
         "x": [
          0,
          0
         ],
         "xaxis": "x2",
         "y": [
          0,
          86906.6783836192
         ],
         "yaxis": "y2"
        },
        {
         "hoverinfo": "skip",
         "mode": "text",
         "showlegend": false,
         "type": "scatter",
         "x": [
          0
         ],
         "xaxis": "x2",
         "y": [
          43453.3391918096
         ],
         "yaxis": "y2"
        }
       ],
       "layout": {
        "annotations": [
         {
          "font": {
           "color": "rgba(95,40,200,1)",
           "size": 20,
           "weight": "bold"
          },
          "showarrow": false,
          "text": "$86,907",
          "textangle": 90,
          "x": 0,
          "xref": "x2",
          "xshift": 15,
          "y": 43453.3391918096,
          "yref": "y2",
          "yshift": 0
         },
         {
          "font": {
           "color": "rgba(95,40,200,1)",
           "family": "Helvetica",
           "size": 20,
           "weight": "bold"
          },
          "showarrow": false,
          "text": "Cumulative Cost of Childcare",
          "x": 0,
          "xanchor": "left",
          "xref": "x domain",
          "xshift": 20,
          "y": 1,
          "yanchor": "top",
          "yref": "y domain",
          "yshift": -15
         }
        ],
        "font": {
         "size": 14
        },
        "height": 600,
        "hovermode": "x",
        "shapes": [
         {
          "line": {
           "dash": "dot"
          },
          "opacity": 0.2,
          "type": "line",
          "x0": 0,
          "x1": 1,
          "xref": "x domain",
          "y0": 0,
          "y1": 0,
          "yref": "y"
         },
         {
          "line": {
           "dash": "dot"
          },
          "opacity": 0.2,
          "type": "line",
          "x0": 0,
          "x1": 1,
          "xref": "x2 domain",
          "y0": 0,
          "y1": 0,
          "yref": "y2"
         },
         {
          "line": {
           "dash": "dot"
          },
          "opacity": 0.2,
          "type": "line",
          "x0": 0,
          "x1": 1,
          "xref": "x domain",
          "y0": 86906.6783836192,
          "y1": 86906.6783836192,
          "yref": "y"
         },
         {
          "line": {
           "dash": "dot"
          },
          "opacity": 0.2,
          "type": "line",
          "x0": 0,
          "x1": 1,
          "xref": "x2 domain",
          "y0": 86906.6783836192,
          "y1": 86906.6783836192,
          "yref": "y2"
         }
        ],
        "template": {
         "data": {
          "bar": [
           {
            "error_x": {
             "color": "#2a3f5f"
            },
            "error_y": {
             "color": "#2a3f5f"
            },
            "marker": {
             "line": {
              "color": "#E5ECF6",
              "width": 0.5
             },
             "pattern": {
              "fillmode": "overlay",
              "size": 10,
              "solidity": 0.2
             }
            },
            "type": "bar"
           }
          ],
          "barpolar": [
           {
            "marker": {
             "line": {
              "color": "#E5ECF6",
              "width": 0.5
             },
             "pattern": {
              "fillmode": "overlay",
              "size": 10,
              "solidity": 0.2
             }
            },
            "type": "barpolar"
           }
          ],
          "carpet": [
           {
            "aaxis": {
             "endlinecolor": "#2a3f5f",
             "gridcolor": "white",
             "linecolor": "white",
             "minorgridcolor": "white",
             "startlinecolor": "#2a3f5f"
            },
            "baxis": {
             "endlinecolor": "#2a3f5f",
             "gridcolor": "white",
             "linecolor": "white",
             "minorgridcolor": "white",
             "startlinecolor": "#2a3f5f"
            },
            "type": "carpet"
           }
          ],
          "choropleth": [
           {
            "colorbar": {
             "outlinewidth": 0,
             "ticks": ""
            },
            "type": "choropleth"
           }
          ],
          "contour": [
           {
            "colorbar": {
             "outlinewidth": 0,
             "ticks": ""
            },
            "colorscale": [
             [
              0,
              "#0d0887"
             ],
             [
              0.1111111111111111,
              "#46039f"
             ],
             [
              0.2222222222222222,
              "#7201a8"
             ],
             [
              0.3333333333333333,
              "#9c179e"
             ],
             [
              0.4444444444444444,
              "#bd3786"
             ],
             [
              0.5555555555555556,
              "#d8576b"
             ],
             [
              0.6666666666666666,
              "#ed7953"
             ],
             [
              0.7777777777777778,
              "#fb9f3a"
             ],
             [
              0.8888888888888888,
              "#fdca26"
             ],
             [
              1,
              "#f0f921"
             ]
            ],
            "type": "contour"
           }
          ],
          "contourcarpet": [
           {
            "colorbar": {
             "outlinewidth": 0,
             "ticks": ""
            },
            "type": "contourcarpet"
           }
          ],
          "heatmap": [
           {
            "colorbar": {
             "outlinewidth": 0,
             "ticks": ""
            },
            "colorscale": [
             [
              0,
              "#0d0887"
             ],
             [
              0.1111111111111111,
              "#46039f"
             ],
             [
              0.2222222222222222,
              "#7201a8"
             ],
             [
              0.3333333333333333,
              "#9c179e"
             ],
             [
              0.4444444444444444,
              "#bd3786"
             ],
             [
              0.5555555555555556,
              "#d8576b"
             ],
             [
              0.6666666666666666,
              "#ed7953"
             ],
             [
              0.7777777777777778,
              "#fb9f3a"
             ],
             [
              0.8888888888888888,
              "#fdca26"
             ],
             [
              1,
              "#f0f921"
             ]
            ],
            "type": "heatmap"
           }
          ],
          "heatmapgl": [
           {
            "colorbar": {
             "outlinewidth": 0,
             "ticks": ""
            },
            "colorscale": [
             [
              0,
              "#0d0887"
             ],
             [
              0.1111111111111111,
              "#46039f"
             ],
             [
              0.2222222222222222,
              "#7201a8"
             ],
             [
              0.3333333333333333,
              "#9c179e"
             ],
             [
              0.4444444444444444,
              "#bd3786"
             ],
             [
              0.5555555555555556,
              "#d8576b"
             ],
             [
              0.6666666666666666,
              "#ed7953"
             ],
             [
              0.7777777777777778,
              "#fb9f3a"
             ],
             [
              0.8888888888888888,
              "#fdca26"
             ],
             [
              1,
              "#f0f921"
             ]
            ],
            "type": "heatmapgl"
           }
          ],
          "histogram": [
           {
            "marker": {
             "pattern": {
              "fillmode": "overlay",
              "size": 10,
              "solidity": 0.2
             }
            },
            "type": "histogram"
           }
          ],
          "histogram2d": [
           {
            "colorbar": {
             "outlinewidth": 0,
             "ticks": ""
            },
            "colorscale": [
             [
              0,
              "#0d0887"
             ],
             [
              0.1111111111111111,
              "#46039f"
             ],
             [
              0.2222222222222222,
              "#7201a8"
             ],
             [
              0.3333333333333333,
              "#9c179e"
             ],
             [
              0.4444444444444444,
              "#bd3786"
             ],
             [
              0.5555555555555556,
              "#d8576b"
             ],
             [
              0.6666666666666666,
              "#ed7953"
             ],
             [
              0.7777777777777778,
              "#fb9f3a"
             ],
             [
              0.8888888888888888,
              "#fdca26"
             ],
             [
              1,
              "#f0f921"
             ]
            ],
            "type": "histogram2d"
           }
          ],
          "histogram2dcontour": [
           {
            "colorbar": {
             "outlinewidth": 0,
             "ticks": ""
            },
            "colorscale": [
             [
              0,
              "#0d0887"
             ],
             [
              0.1111111111111111,
              "#46039f"
             ],
             [
              0.2222222222222222,
              "#7201a8"
             ],
             [
              0.3333333333333333,
              "#9c179e"
             ],
             [
              0.4444444444444444,
              "#bd3786"
             ],
             [
              0.5555555555555556,
              "#d8576b"
             ],
             [
              0.6666666666666666,
              "#ed7953"
             ],
             [
              0.7777777777777778,
              "#fb9f3a"
             ],
             [
              0.8888888888888888,
              "#fdca26"
             ],
             [
              1,
              "#f0f921"
             ]
            ],
            "type": "histogram2dcontour"
           }
          ],
          "mesh3d": [
           {
            "colorbar": {
             "outlinewidth": 0,
             "ticks": ""
            },
            "type": "mesh3d"
           }
          ],
          "parcoords": [
           {
            "line": {
             "colorbar": {
              "outlinewidth": 0,
              "ticks": ""
             }
            },
            "type": "parcoords"
           }
          ],
          "pie": [
           {
            "automargin": true,
            "type": "pie"
           }
          ],
          "scatter": [
           {
            "fillpattern": {
             "fillmode": "overlay",
             "size": 10,
             "solidity": 0.2
            },
            "type": "scatter"
           }
          ],
          "scatter3d": [
           {
            "line": {
             "colorbar": {
              "outlinewidth": 0,
              "ticks": ""
             }
            },
            "marker": {
             "colorbar": {
              "outlinewidth": 0,
              "ticks": ""
             }
            },
            "type": "scatter3d"
           }
          ],
          "scattercarpet": [
           {
            "marker": {
             "colorbar": {
              "outlinewidth": 0,
              "ticks": ""
             }
            },
            "type": "scattercarpet"
           }
          ],
          "scattergeo": [
           {
            "marker": {
             "colorbar": {
              "outlinewidth": 0,
              "ticks": ""
             }
            },
            "type": "scattergeo"
           }
          ],
          "scattergl": [
           {
            "marker": {
             "colorbar": {
              "outlinewidth": 0,
              "ticks": ""
             }
            },
            "type": "scattergl"
           }
          ],
          "scattermapbox": [
           {
            "marker": {
             "colorbar": {
              "outlinewidth": 0,
              "ticks": ""
             }
            },
            "type": "scattermapbox"
           }
          ],
          "scatterpolar": [
           {
            "marker": {
             "colorbar": {
              "outlinewidth": 0,
              "ticks": ""
             }
            },
            "type": "scatterpolar"
           }
          ],
          "scatterpolargl": [
           {
            "marker": {
             "colorbar": {
              "outlinewidth": 0,
              "ticks": ""
             }
            },
            "type": "scatterpolargl"
           }
          ],
          "scatterternary": [
           {
            "marker": {
             "colorbar": {
              "outlinewidth": 0,
              "ticks": ""
             }
            },
            "type": "scatterternary"
           }
          ],
          "surface": [
           {
            "colorbar": {
             "outlinewidth": 0,
             "ticks": ""
            },
            "colorscale": [
             [
              0,
              "#0d0887"
             ],
             [
              0.1111111111111111,
              "#46039f"
             ],
             [
              0.2222222222222222,
              "#7201a8"
             ],
             [
              0.3333333333333333,
              "#9c179e"
             ],
             [
              0.4444444444444444,
              "#bd3786"
             ],
             [
              0.5555555555555556,
              "#d8576b"
             ],
             [
              0.6666666666666666,
              "#ed7953"
             ],
             [
              0.7777777777777778,
              "#fb9f3a"
             ],
             [
              0.8888888888888888,
              "#fdca26"
             ],
             [
              1,
              "#f0f921"
             ]
            ],
            "type": "surface"
           }
          ],
          "table": [
           {
            "cells": {
             "fill": {
              "color": "#EBF0F8"
             },
             "line": {
              "color": "white"
             }
            },
            "header": {
             "fill": {
              "color": "#C8D4E3"
             },
             "line": {
              "color": "white"
             }
            },
            "type": "table"
           }
          ]
         },
         "layout": {
          "annotationdefaults": {
           "arrowcolor": "#2a3f5f",
           "arrowhead": 0,
           "arrowwidth": 1
          },
          "autotypenumbers": "strict",
          "coloraxis": {
           "colorbar": {
            "outlinewidth": 0,
            "ticks": ""
           }
          },
          "colorscale": {
           "diverging": [
            [
             0,
             "#8e0152"
            ],
            [
             0.1,
             "#c51b7d"
            ],
            [
             0.2,
             "#de77ae"
            ],
            [
             0.3,
             "#f1b6da"
            ],
            [
             0.4,
             "#fde0ef"
            ],
            [
             0.5,
             "#f7f7f7"
            ],
            [
             0.6,
             "#e6f5d0"
            ],
            [
             0.7,
             "#b8e186"
            ],
            [
             0.8,
             "#7fbc41"
            ],
            [
             0.9,
             "#4d9221"
            ],
            [
             1,
             "#276419"
            ]
           ],
           "sequential": [
            [
             0,
             "#0d0887"
            ],
            [
             0.1111111111111111,
             "#46039f"
            ],
            [
             0.2222222222222222,
             "#7201a8"
            ],
            [
             0.3333333333333333,
             "#9c179e"
            ],
            [
             0.4444444444444444,
             "#bd3786"
            ],
            [
             0.5555555555555556,
             "#d8576b"
            ],
            [
             0.6666666666666666,
             "#ed7953"
            ],
            [
             0.7777777777777778,
             "#fb9f3a"
            ],
            [
             0.8888888888888888,
             "#fdca26"
            ],
            [
             1,
             "#f0f921"
            ]
           ],
           "sequentialminus": [
            [
             0,
             "#0d0887"
            ],
            [
             0.1111111111111111,
             "#46039f"
            ],
            [
             0.2222222222222222,
             "#7201a8"
            ],
            [
             0.3333333333333333,
             "#9c179e"
            ],
            [
             0.4444444444444444,
             "#bd3786"
            ],
            [
             0.5555555555555556,
             "#d8576b"
            ],
            [
             0.6666666666666666,
             "#ed7953"
            ],
            [
             0.7777777777777778,
             "#fb9f3a"
            ],
            [
             0.8888888888888888,
             "#fdca26"
            ],
            [
             1,
             "#f0f921"
            ]
           ]
          },
          "colorway": [
           "#636efa",
           "#EF553B",
           "#00cc96",
           "#ab63fa",
           "#FFA15A",
           "#19d3f3",
           "#FF6692",
           "#B6E880",
           "#FF97FF",
           "#FECB52"
          ],
          "font": {
           "color": "#2a3f5f"
          },
          "geo": {
           "bgcolor": "white",
           "lakecolor": "white",
           "landcolor": "#E5ECF6",
           "showlakes": true,
           "showland": true,
           "subunitcolor": "white"
          },
          "hoverlabel": {
           "align": "left"
          },
          "hovermode": "closest",
          "mapbox": {
           "style": "light"
          },
          "paper_bgcolor": "white",
          "plot_bgcolor": "#E5ECF6",
          "polar": {
           "angularaxis": {
            "gridcolor": "white",
            "linecolor": "white",
            "ticks": ""
           },
           "bgcolor": "#E5ECF6",
           "radialaxis": {
            "gridcolor": "white",
            "linecolor": "white",
            "ticks": ""
           }
          },
          "scene": {
           "xaxis": {
            "backgroundcolor": "#E5ECF6",
            "gridcolor": "white",
            "gridwidth": 2,
            "linecolor": "white",
            "showbackground": true,
            "ticks": "",
            "zerolinecolor": "white"
           },
           "yaxis": {
            "backgroundcolor": "#E5ECF6",
            "gridcolor": "white",
            "gridwidth": 2,
            "linecolor": "white",
            "showbackground": true,
            "ticks": "",
            "zerolinecolor": "white"
           },
           "zaxis": {
            "backgroundcolor": "#E5ECF6",
            "gridcolor": "white",
            "gridwidth": 2,
            "linecolor": "white",
            "showbackground": true,
            "ticks": "",
            "zerolinecolor": "white"
           }
          },
          "shapedefaults": {
           "line": {
            "color": "#2a3f5f"
           }
          },
          "ternary": {
           "aaxis": {
            "gridcolor": "white",
            "linecolor": "white",
            "ticks": ""
           },
           "baxis": {
            "gridcolor": "white",
            "linecolor": "white",
            "ticks": ""
           },
           "bgcolor": "#E5ECF6",
           "caxis": {
            "gridcolor": "white",
            "linecolor": "white",
            "ticks": ""
           }
          },
          "title": {
           "x": 0.05
          },
          "xaxis": {
           "automargin": true,
           "gridcolor": "white",
           "linecolor": "white",
           "ticks": "",
           "title": {
            "standoff": 15
           },
           "zerolinecolor": "white",
           "zerolinewidth": 2
          },
          "yaxis": {
           "automargin": true,
           "gridcolor": "white",
           "linecolor": "white",
           "ticks": "",
           "title": {
            "standoff": 15
           },
           "zerolinecolor": "white",
           "zerolinewidth": 2
          }
         }
        },
        "width": 800,
        "xaxis": {
         "anchor": "y",
         "domain": [
          0,
          0.8711111111111111
         ],
         "showgrid": false,
         "title": {
          "text": "Month"
         }
        },
        "xaxis2": {
         "anchor": "y2",
         "domain": [
          0.8911111111111111,
          1
         ],
         "range": [
          -0.1,
          0.1
         ],
         "showgrid": false,
         "showticklabels": false,
         "tickformat": "%d-%b"
        },
        "yaxis": {
         "anchor": "x",
         "domain": [
          0,
          1
         ],
         "range": [
          -19270.296768257504,
          159255.60949478534
         ],
         "showgrid": false
        },
        "yaxis2": {
         "anchor": "x2",
         "domain": [
          0,
          1
         ],
         "matches": "y",
         "showgrid": false,
         "showticklabels": false
        }
       }
      }
     },
     "metadata": {},
     "output_type": "display_data"
    }
   ],
   "source": [
    "plot_trend(data, \"x\", [\"A\", \"B\", \"C\"], \"B\", 6, 4 * 12 + 6)"
   ]
  },
  {
   "cell_type": "markdown",
   "metadata": {},
   "source": [
    "## Old Code\n"
   ]
  },
  {
   "cell_type": "code",
   "execution_count": null,
   "metadata": {},
   "outputs": [],
   "source": [
    "def add_vrect(fig, l, r, x_min, x_max):\n",
    "    fig.add_vrect(\n",
    "        x0=x_min,\n",
    "        x1=l,\n",
    "        fillcolor=\"black\",\n",
    "        opacity=0.2,\n",
    "        line_width=0,\n",
    "        row=1,\n",
    "        col=1,\n",
    "    )\n",
    "    fig.add_vrect(\n",
    "        x0=r,\n",
    "        x1=x_max,\n",
    "        fillcolor=\"black\",\n",
    "        opacity=0.2,\n",
    "        line_width=0,\n",
    "        row=1,\n",
    "        col=1,\n",
    "    )\n",
    "\n",
    "\n",
    "def add_hrect(fig, b, t, y_min, y_max):\n",
    "    fig.add_hrect(\n",
    "        y0=y_min,\n",
    "        y1=b,\n",
    "        fillcolor=\"black\",\n",
    "        opacity=0.2,\n",
    "        line_width=0,\n",
    "        row=1,\n",
    "        col=1,\n",
    "    )\n",
    "    fig.add_hrect(\n",
    "        y0=t,\n",
    "        y1=y_max,\n",
    "        fillcolor=\"black\",\n",
    "        opacity=0.2,\n",
    "        line_width=0,\n",
    "        row=1,\n",
    "        col=1,\n",
    "    )\n",
    "\n",
    "\n",
    "def add_lines(fig, l, r, b, t):\n",
    "    fig.add_vline(\n",
    "        x=l, line_width=1, line_dash=\"dot\", line_color=\"black\", opacity=0.5\n",
    "    )\n",
    "\n",
    "    fig.add_vline(\n",
    "        x=r, line_width=1, line_dash=\"dot\", line_color=\"black\", opacity=0.5\n",
    "    )\n",
    "\n",
    "    fig.add_hline(\n",
    "        y=b, line_width=1, line_dash=\"dot\", line_color=\"black\", opacity=0.5\n",
    "    )\n",
    "\n",
    "    fig.add_hline(\n",
    "        y=t, line_width=1, line_dash=\"dot\", line_color=\"black\", opacity=0.5\n",
    "    )"
   ]
  }
 ],
 "metadata": {
  "kernelspec": {
   "display_name": "creche",
   "language": "python",
   "name": "python3"
  },
  "language_info": {
   "codemirror_mode": {
    "name": "ipython",
    "version": 3
   },
   "file_extension": ".py",
   "mimetype": "text/x-python",
   "name": "python",
   "nbconvert_exporter": "python",
   "pygments_lexer": "ipython3",
   "version": "3.12.5"
  }
 },
 "nbformat": 4,
 "nbformat_minor": 2
}
