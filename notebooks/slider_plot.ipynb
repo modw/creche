{
 "cells": [
  {
   "cell_type": "code",
   "execution_count": 1,
   "metadata": {},
   "outputs": [],
   "source": [
    "import plotly.graph_objects as go\n",
    "from plotly.subplots import make_subplots\n",
    "import numpy as np\n",
    "import pandas as pd"
   ]
  },
  {
   "cell_type": "code",
   "execution_count": 2,
   "metadata": {},
   "outputs": [],
   "source": [
    "n = 100\n",
    "x = np.arange(n)\n",
    "y = np.abs(np.random.randn(n))\n",
    "y_cs = np.cumsum(y)\n",
    "\n",
    "data = pd.DataFrame({\"x\": x, \"y\": y, \"A\": y_cs, \"B\": 2 * y_cs, \"C\": 3 * y_cs})"
   ]
  },
  {
   "cell_type": "code",
   "execution_count": 28,
   "metadata": {},
   "outputs": [],
   "source": [
    "def plot_trend(\n",
    "    data, xcol, columns_included, column_highlight, shade_l, shade_r\n",
    "):\n",
    "    # subplots\n",
    "    fig = make_subplots(\n",
    "        rows=1,\n",
    "        cols=2,\n",
    "        column_widths=[3, 1],\n",
    "        row_heights=[1],\n",
    "    )\n",
    "\n",
    "    # plot lines in the main plot\n",
    "    for column in columns_included:\n",
    "        if column == column_highlight:\n",
    "            fig.add_trace(\n",
    "                go.Scatter(\n",
    "                    x=data[xcol],\n",
    "                    y=data[column],\n",
    "                    mode=\"lines\",\n",
    "                    line=dict(color=\"rgba(65,40,200,1)\"),\n",
    "                    fill=\"tozeroy\",\n",
    "                    fillgradient=dict(\n",
    "                        type=\"horizontal\",\n",
    "                        colorscale=[\n",
    "                            (0.0, \"darkblue\"),\n",
    "                            (0.5, \"royalblue\"),\n",
    "                            (1.0, \"cyan\"),\n",
    "                        ],\n",
    "                    ),\n",
    "                    showlegend=False,\n",
    "                ),\n",
    "                row=1,\n",
    "                col=1,\n",
    "            )\n",
    "\n",
    "        else:\n",
    "            fig.add_trace(\n",
    "                go.Scatter(\n",
    "                    x=data[xcol],\n",
    "                    y=data[column],\n",
    "                    mode=\"lines\",\n",
    "                    line=dict(color=\"rgba(60,60,60,0.25)\"),\n",
    "                    showlegend=False,\n",
    "                ),\n",
    "                row=1,\n",
    "                col=1,\n",
    "            )\n",
    "\n",
    "    # add shaded area\n",
    "    x_min = min(data[xcol])\n",
    "    x_max = max(data[xcol])\n",
    "\n",
    "    def add_rect(fig, l, r, x_min=x_min, x_max=x_max):\n",
    "        fig.add_vrect(\n",
    "            x0=x_min,\n",
    "            x1=l,\n",
    "            fillcolor=\"black\",\n",
    "            opacity=0.2,\n",
    "            line_width=0,\n",
    "            row=1,\n",
    "            col=1,\n",
    "        )\n",
    "        fig.add_vrect(\n",
    "            x0=r,\n",
    "            x1=x_max,\n",
    "            fillcolor=\"black\",\n",
    "            opacity=0.2,\n",
    "            line_width=0,\n",
    "            row=1,\n",
    "            col=1,\n",
    "        )\n",
    "\n",
    "    add_rect(fig, shade_l, shade_r)\n",
    "\n",
    "    # get the total of the highlighted area\n",
    "    def get_y_at_x(x, x_data, y_data):\n",
    "        return np.interp(x, x_data, y_data)\n",
    "\n",
    "    y_r = get_y_at_x(shade_r, data[\"x\"], data[column_highlight])\n",
    "    y_l = get_y_at_x(shade_l, data[\"x\"], data[column_highlight])\n",
    "\n",
    "    shaded_sum = y_r - y_l\n",
    "\n",
    "    # plot the bar chart in the second plot\n",
    "    # first, from 0 to y_l\n",
    "    fig.add_trace(\n",
    "        go.Bar(\n",
    "            x=[0],\n",
    "            y=[y_l],\n",
    "            marker=dict(color=\"rgba(65,40,200,1)\"),\n",
    "            showlegend=False,\n",
    "        ),\n",
    "        row=1,\n",
    "        col=2,\n",
    "    )\n",
    "    # then from y_l to y_r\n",
    "    fig.add_trace(\n",
    "        go.Bar(\n",
    "            x=[0],\n",
    "            y=[shaded_sum],\n",
    "            marker=dict(color=\"rgba(65,40,200,0.5)\"),\n",
    "            showlegend=False,\n",
    "        ),\n",
    "        row=1,\n",
    "        col=2,\n",
    "    )\n",
    "\n",
    "    # then from y_r to the y(x_max)\n",
    "    fig.add_trace(\n",
    "        go.Bar(\n",
    "            x=[0],\n",
    "            y=[y_r],\n",
    "            marker=dict(color=\"rgba(65,40,200,0.25)\"),\n",
    "            showlegend=False,\n",
    "        ),\n",
    "        row=1,\n",
    "        col=2,\n",
    "    )\n",
    "\n",
    "    fig.update_layout(\n",
    "        font=dict(size=12),\n",
    "        width=800,\n",
    "        height=600,\n",
    "        title=f\"Shaded Area: {shaded_sum:.2f}\",\n",
    "    )\n",
    "\n",
    "    fig.show()"
   ]
  },
  {
   "cell_type": "code",
   "execution_count": 27,
   "metadata": {},
   "outputs": [
    {
     "data": {
      "application/vnd.plotly.v1+json": {
       "config": {
        "plotlyServerURL": "https://plot.ly"
       },
       "data": [
        {
         "line": {
          "color": "rgba(60,60,60,0.25)"
         },
         "mode": "lines",
         "showlegend": false,
         "type": "scatter",
         "x": [
          0,
          1,
          2,
          3,
          4,
          5,
          6,
          7,
          8,
          9,
          10,
          11,
          12,
          13,
          14,
          15,
          16,
          17,
          18,
          19,
          20,
          21,
          22,
          23,
          24,
          25,
          26,
          27,
          28,
          29,
          30,
          31,
          32,
          33,
          34,
          35,
          36,
          37,
          38,
          39,
          40,
          41,
          42,
          43,
          44,
          45,
          46,
          47,
          48,
          49,
          50,
          51,
          52,
          53,
          54,
          55,
          56,
          57,
          58,
          59,
          60,
          61,
          62,
          63,
          64,
          65,
          66,
          67,
          68,
          69,
          70,
          71,
          72,
          73,
          74,
          75,
          76,
          77,
          78,
          79,
          80,
          81,
          82,
          83,
          84,
          85,
          86,
          87,
          88,
          89,
          90,
          91,
          92,
          93,
          94,
          95,
          96,
          97,
          98,
          99
         ],
         "xaxis": "x",
         "y": [
          0.08549682845617995,
          0.37284672480095543,
          0.6440482289000241,
          2.9543312263918584,
          3.609988170394991,
          5.08617025401682,
          6.145357261666486,
          6.929636675499635,
          7.600563130243543,
          7.791731850417725,
          8.521537136822275,
          11.0251396974032,
          11.176529035302543,
          11.26478231136615,
          12.067169520871024,
          12.096432765814823,
          12.877753913153514,
          13.484508402533034,
          13.976148639124448,
          14.686421660377635,
          15.22461655836892,
          15.303833903124495,
          16.00712668561492,
          16.924018833121988,
          17.154969185811957,
          17.874257882344246,
          18.24839990342152,
          18.724055517907644,
          19.856936110841765,
          21.384180539790183,
          21.427123313166614,
          21.442856020135114,
          22.041001398847474,
          23.13480535543964,
          23.231728197286483,
          24.06649275494934,
          24.2174984034164,
          24.895298397280982,
          25.331864438064898,
          26.242516435938445,
          27.235041571693085,
          27.814990210937065,
          29.393326203173697,
          30.169024420751647,
          31.57698368537955,
          32.94438893301252,
          33.62344732019331,
          34.66264665031127,
          35.02933005774341,
          36.26603481439708,
          37.06848749895514,
          38.98493498382221,
          40.318229009414196,
          40.78963794743384,
          41.596406615100776,
          41.9745368790805,
          42.06167410554056,
          43.31510628062203,
          43.652300811486775,
          43.832052386230494,
          45.25801200552799,
          46.54279535844804,
          48.236931317404625,
          48.85132907777745,
          49.5664027972369,
          49.7719192166861,
          51.66389508915029,
          51.97598794267442,
          52.94449418773776,
          54.24676522343107,
          54.50831045493025,
          55.46237446575356,
          56.44311842826587,
          57.414993673610965,
          58.93445000661979,
          59.79846079943269,
          61.18271150648709,
          63.46321365594953,
          63.536615222979705,
          63.586720191962705,
          64.52496587735487,
          65.41470234821841,
          65.46282263293715,
          67.01956441144894,
          68.89171239492492,
          69.05355496475897,
          69.46347688763176,
          69.85315804078012,
          70.52243788021515,
          72.13304171122867,
          72.63051959082955,
          73.64387959198473,
          75.04515281595752,
          75.07535348659577,
          76.82103549487823,
          76.833485386796,
          77.29285915602148,
          78.08485648232288,
          78.79563650784603,
          79.91834030469825
         ],
         "yaxis": "y"
        },
        {
         "fill": "tozeroy",
         "fillgradient": {
          "colorscale": [
           [
            0,
            "darkblue"
           ],
           [
            0.5,
            "royalblue"
           ],
           [
            1,
            "cyan"
           ]
          ],
          "type": "horizontal"
         },
         "line": {
          "color": "rgba(65,40,200,1)"
         },
         "mode": "lines",
         "showlegend": false,
         "type": "scatter",
         "x": [
          0,
          1,
          2,
          3,
          4,
          5,
          6,
          7,
          8,
          9,
          10,
          11,
          12,
          13,
          14,
          15,
          16,
          17,
          18,
          19,
          20,
          21,
          22,
          23,
          24,
          25,
          26,
          27,
          28,
          29,
          30,
          31,
          32,
          33,
          34,
          35,
          36,
          37,
          38,
          39,
          40,
          41,
          42,
          43,
          44,
          45,
          46,
          47,
          48,
          49,
          50,
          51,
          52,
          53,
          54,
          55,
          56,
          57,
          58,
          59,
          60,
          61,
          62,
          63,
          64,
          65,
          66,
          67,
          68,
          69,
          70,
          71,
          72,
          73,
          74,
          75,
          76,
          77,
          78,
          79,
          80,
          81,
          82,
          83,
          84,
          85,
          86,
          87,
          88,
          89,
          90,
          91,
          92,
          93,
          94,
          95,
          96,
          97,
          98,
          99
         ],
         "xaxis": "x",
         "y": [
          0.1709936569123599,
          0.7456934496019109,
          1.2880964578000482,
          5.908662452783717,
          7.219976340789982,
          10.17234050803364,
          12.290714523332973,
          13.85927335099927,
          15.201126260487086,
          15.58346370083545,
          17.04307427364455,
          22.0502793948064,
          22.353058070605087,
          22.5295646227323,
          24.13433904174205,
          24.192865531629646,
          25.755507826307028,
          26.96901680506607,
          27.952297278248896,
          29.37284332075527,
          30.44923311673784,
          30.60766780624899,
          32.01425337122984,
          33.848037666243975,
          34.309938371623915,
          35.74851576468849,
          36.49679980684304,
          37.44811103581529,
          39.71387222168353,
          42.768361079580366,
          42.85424662633323,
          42.88571204027023,
          44.08200279769495,
          46.26961071087928,
          46.463456394572965,
          48.13298550989868,
          48.4349968068328,
          49.790596794561964,
          50.663728876129795,
          52.48503287187689,
          54.47008314338617,
          55.62998042187413,
          58.78665240634739,
          60.338048841503294,
          63.1539673707591,
          65.88877786602504,
          67.24689464038661,
          69.32529330062253,
          70.05866011548682,
          72.53206962879416,
          74.13697499791029,
          77.96986996764441,
          80.63645801882839,
          81.57927589486768,
          83.19281323020155,
          83.949073758161,
          84.12334821108112,
          86.63021256124406,
          87.30460162297355,
          87.66410477246099,
          90.51602401105598,
          93.08559071689608,
          96.47386263480925,
          97.7026581555549,
          99.1328055944738,
          99.5438384333722,
          103.32779017830057,
          103.95197588534884,
          105.88898837547552,
          108.49353044686214,
          109.0166209098605,
          110.92474893150712,
          112.88623685653174,
          114.82998734722193,
          117.86890001323958,
          119.59692159886538,
          122.36542301297418,
          126.92642731189906,
          127.07323044595941,
          127.17344038392541,
          129.04993175470975,
          130.82940469643682,
          130.9256452658743,
          134.03912882289788,
          137.78342478984985,
          138.10710992951795,
          138.9269537752635,
          139.70631608156023,
          141.0448757604303,
          144.26608342245734,
          145.2610391816591,
          147.28775918396946,
          150.09030563191504,
          150.15070697319155,
          153.64207098975646,
          153.666970773592,
          154.58571831204296,
          156.16971296464575,
          157.59127301569205,
          159.8366806093965
         ],
         "yaxis": "y"
        },
        {
         "line": {
          "color": "rgba(60,60,60,0.25)"
         },
         "mode": "lines",
         "showlegend": false,
         "type": "scatter",
         "x": [
          0,
          1,
          2,
          3,
          4,
          5,
          6,
          7,
          8,
          9,
          10,
          11,
          12,
          13,
          14,
          15,
          16,
          17,
          18,
          19,
          20,
          21,
          22,
          23,
          24,
          25,
          26,
          27,
          28,
          29,
          30,
          31,
          32,
          33,
          34,
          35,
          36,
          37,
          38,
          39,
          40,
          41,
          42,
          43,
          44,
          45,
          46,
          47,
          48,
          49,
          50,
          51,
          52,
          53,
          54,
          55,
          56,
          57,
          58,
          59,
          60,
          61,
          62,
          63,
          64,
          65,
          66,
          67,
          68,
          69,
          70,
          71,
          72,
          73,
          74,
          75,
          76,
          77,
          78,
          79,
          80,
          81,
          82,
          83,
          84,
          85,
          86,
          87,
          88,
          89,
          90,
          91,
          92,
          93,
          94,
          95,
          96,
          97,
          98,
          99
         ],
         "xaxis": "x",
         "y": [
          0.25649048536853986,
          1.1185401744028662,
          1.9321446867000724,
          8.862993679175576,
          10.829964511184972,
          15.25851076205046,
          18.43607178499946,
          20.788910026498904,
          22.80168939073063,
          23.375195551253174,
          25.564611410466824,
          33.0754190922096,
          33.52958710590763,
          33.79434693409845,
          36.20150856261307,
          36.28929829744447,
          38.63326173946054,
          40.4535252075991,
          41.928445917373345,
          44.059264981132905,
          45.67384967510676,
          45.91150170937348,
          48.02138005684476,
          50.77205649936596,
          51.46490755743587,
          53.62277364703274,
          54.745199710264565,
          56.17216655372293,
          59.570808332525296,
          64.15254161937055,
          64.28136993949984,
          64.32856806040535,
          66.12300419654242,
          69.40441606631892,
          69.69518459185944,
          72.19947826484803,
          72.6524952102492,
          74.68589519184295,
          75.99559331419469,
          78.72754930781534,
          81.70512471507925,
          83.44497063281119,
          88.17997860952109,
          90.50707326225495,
          94.73095105613865,
          98.83316679903756,
          100.87034196057992,
          103.9879399509338,
          105.08799017323022,
          108.79810444319125,
          111.20546249686544,
          116.95480495146663,
          120.95468702824259,
          122.36891384230151,
          124.78921984530233,
          125.92361063724151,
          126.18502231662168,
          129.94531884186608,
          130.95690243446032,
          131.4961571586915,
          135.77403601658398,
          139.6283860753441,
          144.71079395221386,
          146.55398723333235,
          148.6992083917107,
          149.3157576500583,
          154.99168526745086,
          155.92796382802328,
          158.8334825632133,
          162.74029567029322,
          163.52493136479075,
          166.3871233972607,
          169.3293552847976,
          172.24498102083288,
          176.80335001985938,
          179.39538239829807,
          183.54813451946126,
          190.3896409678486,
          190.6098456689391,
          190.7601605758881,
          193.57489763206462,
          196.24410704465524,
          196.38846789881143,
          201.05869323434683,
          206.67513718477477,
          207.16066489427692,
          208.39043066289526,
          209.55947412234036,
          211.56731364064547,
          216.39912513368603,
          217.89155877248865,
          220.93163877595418,
          225.13545844787257,
          225.22606045978733,
          230.4631064846347,
          230.500456160388,
          231.87857746806444,
          234.25456944696862,
          236.38690952353807,
          239.75502091409476
         ],
         "yaxis": "y"
        }
       ],
       "layout": {
        "font": {
         "size": 12
        },
        "height": 600,
        "shapes": [
         {
          "fillcolor": "black",
          "line": {
           "width": 0
          },
          "opacity": 0.2,
          "type": "rect",
          "x0": 0,
          "x1": 20,
          "xref": "x",
          "y0": 0,
          "y1": 1,
          "yref": "y domain"
         },
         {
          "fillcolor": "black",
          "line": {
           "width": 0
          },
          "opacity": 0.2,
          "type": "rect",
          "x0": 40,
          "x1": 99,
          "xref": "x",
          "y0": 0,
          "y1": 1,
          "yref": "y domain"
         }
        ],
        "template": {
         "data": {
          "bar": [
           {
            "error_x": {
             "color": "#2a3f5f"
            },
            "error_y": {
             "color": "#2a3f5f"
            },
            "marker": {
             "line": {
              "color": "#E5ECF6",
              "width": 0.5
             },
             "pattern": {
              "fillmode": "overlay",
              "size": 10,
              "solidity": 0.2
             }
            },
            "type": "bar"
           }
          ],
          "barpolar": [
           {
            "marker": {
             "line": {
              "color": "#E5ECF6",
              "width": 0.5
             },
             "pattern": {
              "fillmode": "overlay",
              "size": 10,
              "solidity": 0.2
             }
            },
            "type": "barpolar"
           }
          ],
          "carpet": [
           {
            "aaxis": {
             "endlinecolor": "#2a3f5f",
             "gridcolor": "white",
             "linecolor": "white",
             "minorgridcolor": "white",
             "startlinecolor": "#2a3f5f"
            },
            "baxis": {
             "endlinecolor": "#2a3f5f",
             "gridcolor": "white",
             "linecolor": "white",
             "minorgridcolor": "white",
             "startlinecolor": "#2a3f5f"
            },
            "type": "carpet"
           }
          ],
          "choropleth": [
           {
            "colorbar": {
             "outlinewidth": 0,
             "ticks": ""
            },
            "type": "choropleth"
           }
          ],
          "contour": [
           {
            "colorbar": {
             "outlinewidth": 0,
             "ticks": ""
            },
            "colorscale": [
             [
              0,
              "#0d0887"
             ],
             [
              0.1111111111111111,
              "#46039f"
             ],
             [
              0.2222222222222222,
              "#7201a8"
             ],
             [
              0.3333333333333333,
              "#9c179e"
             ],
             [
              0.4444444444444444,
              "#bd3786"
             ],
             [
              0.5555555555555556,
              "#d8576b"
             ],
             [
              0.6666666666666666,
              "#ed7953"
             ],
             [
              0.7777777777777778,
              "#fb9f3a"
             ],
             [
              0.8888888888888888,
              "#fdca26"
             ],
             [
              1,
              "#f0f921"
             ]
            ],
            "type": "contour"
           }
          ],
          "contourcarpet": [
           {
            "colorbar": {
             "outlinewidth": 0,
             "ticks": ""
            },
            "type": "contourcarpet"
           }
          ],
          "heatmap": [
           {
            "colorbar": {
             "outlinewidth": 0,
             "ticks": ""
            },
            "colorscale": [
             [
              0,
              "#0d0887"
             ],
             [
              0.1111111111111111,
              "#46039f"
             ],
             [
              0.2222222222222222,
              "#7201a8"
             ],
             [
              0.3333333333333333,
              "#9c179e"
             ],
             [
              0.4444444444444444,
              "#bd3786"
             ],
             [
              0.5555555555555556,
              "#d8576b"
             ],
             [
              0.6666666666666666,
              "#ed7953"
             ],
             [
              0.7777777777777778,
              "#fb9f3a"
             ],
             [
              0.8888888888888888,
              "#fdca26"
             ],
             [
              1,
              "#f0f921"
             ]
            ],
            "type": "heatmap"
           }
          ],
          "heatmapgl": [
           {
            "colorbar": {
             "outlinewidth": 0,
             "ticks": ""
            },
            "colorscale": [
             [
              0,
              "#0d0887"
             ],
             [
              0.1111111111111111,
              "#46039f"
             ],
             [
              0.2222222222222222,
              "#7201a8"
             ],
             [
              0.3333333333333333,
              "#9c179e"
             ],
             [
              0.4444444444444444,
              "#bd3786"
             ],
             [
              0.5555555555555556,
              "#d8576b"
             ],
             [
              0.6666666666666666,
              "#ed7953"
             ],
             [
              0.7777777777777778,
              "#fb9f3a"
             ],
             [
              0.8888888888888888,
              "#fdca26"
             ],
             [
              1,
              "#f0f921"
             ]
            ],
            "type": "heatmapgl"
           }
          ],
          "histogram": [
           {
            "marker": {
             "pattern": {
              "fillmode": "overlay",
              "size": 10,
              "solidity": 0.2
             }
            },
            "type": "histogram"
           }
          ],
          "histogram2d": [
           {
            "colorbar": {
             "outlinewidth": 0,
             "ticks": ""
            },
            "colorscale": [
             [
              0,
              "#0d0887"
             ],
             [
              0.1111111111111111,
              "#46039f"
             ],
             [
              0.2222222222222222,
              "#7201a8"
             ],
             [
              0.3333333333333333,
              "#9c179e"
             ],
             [
              0.4444444444444444,
              "#bd3786"
             ],
             [
              0.5555555555555556,
              "#d8576b"
             ],
             [
              0.6666666666666666,
              "#ed7953"
             ],
             [
              0.7777777777777778,
              "#fb9f3a"
             ],
             [
              0.8888888888888888,
              "#fdca26"
             ],
             [
              1,
              "#f0f921"
             ]
            ],
            "type": "histogram2d"
           }
          ],
          "histogram2dcontour": [
           {
            "colorbar": {
             "outlinewidth": 0,
             "ticks": ""
            },
            "colorscale": [
             [
              0,
              "#0d0887"
             ],
             [
              0.1111111111111111,
              "#46039f"
             ],
             [
              0.2222222222222222,
              "#7201a8"
             ],
             [
              0.3333333333333333,
              "#9c179e"
             ],
             [
              0.4444444444444444,
              "#bd3786"
             ],
             [
              0.5555555555555556,
              "#d8576b"
             ],
             [
              0.6666666666666666,
              "#ed7953"
             ],
             [
              0.7777777777777778,
              "#fb9f3a"
             ],
             [
              0.8888888888888888,
              "#fdca26"
             ],
             [
              1,
              "#f0f921"
             ]
            ],
            "type": "histogram2dcontour"
           }
          ],
          "mesh3d": [
           {
            "colorbar": {
             "outlinewidth": 0,
             "ticks": ""
            },
            "type": "mesh3d"
           }
          ],
          "parcoords": [
           {
            "line": {
             "colorbar": {
              "outlinewidth": 0,
              "ticks": ""
             }
            },
            "type": "parcoords"
           }
          ],
          "pie": [
           {
            "automargin": true,
            "type": "pie"
           }
          ],
          "scatter": [
           {
            "fillpattern": {
             "fillmode": "overlay",
             "size": 10,
             "solidity": 0.2
            },
            "type": "scatter"
           }
          ],
          "scatter3d": [
           {
            "line": {
             "colorbar": {
              "outlinewidth": 0,
              "ticks": ""
             }
            },
            "marker": {
             "colorbar": {
              "outlinewidth": 0,
              "ticks": ""
             }
            },
            "type": "scatter3d"
           }
          ],
          "scattercarpet": [
           {
            "marker": {
             "colorbar": {
              "outlinewidth": 0,
              "ticks": ""
             }
            },
            "type": "scattercarpet"
           }
          ],
          "scattergeo": [
           {
            "marker": {
             "colorbar": {
              "outlinewidth": 0,
              "ticks": ""
             }
            },
            "type": "scattergeo"
           }
          ],
          "scattergl": [
           {
            "marker": {
             "colorbar": {
              "outlinewidth": 0,
              "ticks": ""
             }
            },
            "type": "scattergl"
           }
          ],
          "scattermapbox": [
           {
            "marker": {
             "colorbar": {
              "outlinewidth": 0,
              "ticks": ""
             }
            },
            "type": "scattermapbox"
           }
          ],
          "scatterpolar": [
           {
            "marker": {
             "colorbar": {
              "outlinewidth": 0,
              "ticks": ""
             }
            },
            "type": "scatterpolar"
           }
          ],
          "scatterpolargl": [
           {
            "marker": {
             "colorbar": {
              "outlinewidth": 0,
              "ticks": ""
             }
            },
            "type": "scatterpolargl"
           }
          ],
          "scatterternary": [
           {
            "marker": {
             "colorbar": {
              "outlinewidth": 0,
              "ticks": ""
             }
            },
            "type": "scatterternary"
           }
          ],
          "surface": [
           {
            "colorbar": {
             "outlinewidth": 0,
             "ticks": ""
            },
            "colorscale": [
             [
              0,
              "#0d0887"
             ],
             [
              0.1111111111111111,
              "#46039f"
             ],
             [
              0.2222222222222222,
              "#7201a8"
             ],
             [
              0.3333333333333333,
              "#9c179e"
             ],
             [
              0.4444444444444444,
              "#bd3786"
             ],
             [
              0.5555555555555556,
              "#d8576b"
             ],
             [
              0.6666666666666666,
              "#ed7953"
             ],
             [
              0.7777777777777778,
              "#fb9f3a"
             ],
             [
              0.8888888888888888,
              "#fdca26"
             ],
             [
              1,
              "#f0f921"
             ]
            ],
            "type": "surface"
           }
          ],
          "table": [
           {
            "cells": {
             "fill": {
              "color": "#EBF0F8"
             },
             "line": {
              "color": "white"
             }
            },
            "header": {
             "fill": {
              "color": "#C8D4E3"
             },
             "line": {
              "color": "white"
             }
            },
            "type": "table"
           }
          ]
         },
         "layout": {
          "annotationdefaults": {
           "arrowcolor": "#2a3f5f",
           "arrowhead": 0,
           "arrowwidth": 1
          },
          "autotypenumbers": "strict",
          "coloraxis": {
           "colorbar": {
            "outlinewidth": 0,
            "ticks": ""
           }
          },
          "colorscale": {
           "diverging": [
            [
             0,
             "#8e0152"
            ],
            [
             0.1,
             "#c51b7d"
            ],
            [
             0.2,
             "#de77ae"
            ],
            [
             0.3,
             "#f1b6da"
            ],
            [
             0.4,
             "#fde0ef"
            ],
            [
             0.5,
             "#f7f7f7"
            ],
            [
             0.6,
             "#e6f5d0"
            ],
            [
             0.7,
             "#b8e186"
            ],
            [
             0.8,
             "#7fbc41"
            ],
            [
             0.9,
             "#4d9221"
            ],
            [
             1,
             "#276419"
            ]
           ],
           "sequential": [
            [
             0,
             "#0d0887"
            ],
            [
             0.1111111111111111,
             "#46039f"
            ],
            [
             0.2222222222222222,
             "#7201a8"
            ],
            [
             0.3333333333333333,
             "#9c179e"
            ],
            [
             0.4444444444444444,
             "#bd3786"
            ],
            [
             0.5555555555555556,
             "#d8576b"
            ],
            [
             0.6666666666666666,
             "#ed7953"
            ],
            [
             0.7777777777777778,
             "#fb9f3a"
            ],
            [
             0.8888888888888888,
             "#fdca26"
            ],
            [
             1,
             "#f0f921"
            ]
           ],
           "sequentialminus": [
            [
             0,
             "#0d0887"
            ],
            [
             0.1111111111111111,
             "#46039f"
            ],
            [
             0.2222222222222222,
             "#7201a8"
            ],
            [
             0.3333333333333333,
             "#9c179e"
            ],
            [
             0.4444444444444444,
             "#bd3786"
            ],
            [
             0.5555555555555556,
             "#d8576b"
            ],
            [
             0.6666666666666666,
             "#ed7953"
            ],
            [
             0.7777777777777778,
             "#fb9f3a"
            ],
            [
             0.8888888888888888,
             "#fdca26"
            ],
            [
             1,
             "#f0f921"
            ]
           ]
          },
          "colorway": [
           "#636efa",
           "#EF553B",
           "#00cc96",
           "#ab63fa",
           "#FFA15A",
           "#19d3f3",
           "#FF6692",
           "#B6E880",
           "#FF97FF",
           "#FECB52"
          ],
          "font": {
           "color": "#2a3f5f"
          },
          "geo": {
           "bgcolor": "white",
           "lakecolor": "white",
           "landcolor": "#E5ECF6",
           "showlakes": true,
           "showland": true,
           "subunitcolor": "white"
          },
          "hoverlabel": {
           "align": "left"
          },
          "hovermode": "closest",
          "mapbox": {
           "style": "light"
          },
          "paper_bgcolor": "white",
          "plot_bgcolor": "#E5ECF6",
          "polar": {
           "angularaxis": {
            "gridcolor": "white",
            "linecolor": "white",
            "ticks": ""
           },
           "bgcolor": "#E5ECF6",
           "radialaxis": {
            "gridcolor": "white",
            "linecolor": "white",
            "ticks": ""
           }
          },
          "scene": {
           "xaxis": {
            "backgroundcolor": "#E5ECF6",
            "gridcolor": "white",
            "gridwidth": 2,
            "linecolor": "white",
            "showbackground": true,
            "ticks": "",
            "zerolinecolor": "white"
           },
           "yaxis": {
            "backgroundcolor": "#E5ECF6",
            "gridcolor": "white",
            "gridwidth": 2,
            "linecolor": "white",
            "showbackground": true,
            "ticks": "",
            "zerolinecolor": "white"
           },
           "zaxis": {
            "backgroundcolor": "#E5ECF6",
            "gridcolor": "white",
            "gridwidth": 2,
            "linecolor": "white",
            "showbackground": true,
            "ticks": "",
            "zerolinecolor": "white"
           }
          },
          "shapedefaults": {
           "line": {
            "color": "#2a3f5f"
           }
          },
          "ternary": {
           "aaxis": {
            "gridcolor": "white",
            "linecolor": "white",
            "ticks": ""
           },
           "baxis": {
            "gridcolor": "white",
            "linecolor": "white",
            "ticks": ""
           },
           "bgcolor": "#E5ECF6",
           "caxis": {
            "gridcolor": "white",
            "linecolor": "white",
            "ticks": ""
           }
          },
          "title": {
           "x": 0.05
          },
          "xaxis": {
           "automargin": true,
           "gridcolor": "white",
           "linecolor": "white",
           "ticks": "",
           "title": {
            "standoff": 15
           },
           "zerolinecolor": "white",
           "zerolinewidth": 2
          },
          "yaxis": {
           "automargin": true,
           "gridcolor": "white",
           "linecolor": "white",
           "ticks": "",
           "title": {
            "standoff": 15
           },
           "zerolinecolor": "white",
           "zerolinewidth": 2
          }
         }
        },
        "title": {
         "text": "Shaded Area: 24.02"
        },
        "width": 800,
        "xaxis": {
         "anchor": "y",
         "domain": [
          0,
          0.675
         ]
        },
        "xaxis2": {
         "anchor": "y2",
         "domain": [
          0.775,
          1
         ]
        },
        "yaxis": {
         "anchor": "x",
         "domain": [
          0,
          1
         ]
        },
        "yaxis2": {
         "anchor": "x2",
         "domain": [
          0,
          1
         ]
        }
       }
      }
     },
     "metadata": {},
     "output_type": "display_data"
    }
   ],
   "source": [
    "plot_trend(data, \"x\", [\"A\", \"B\", \"C\"], \"B\", 20, 40)"
   ]
  }
 ],
 "metadata": {
  "kernelspec": {
   "display_name": "creche",
   "language": "python",
   "name": "python3"
  },
  "language_info": {
   "codemirror_mode": {
    "name": "ipython",
    "version": 3
   },
   "file_extension": ".py",
   "mimetype": "text/x-python",
   "name": "python",
   "nbconvert_exporter": "python",
   "pygments_lexer": "ipython3",
   "version": "3.12.5"
  }
 },
 "nbformat": 4,
 "nbformat_minor": 2
}
