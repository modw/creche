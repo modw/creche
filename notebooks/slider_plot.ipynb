{
 "cells": [
  {
   "cell_type": "code",
   "execution_count": 30,
   "metadata": {},
   "outputs": [],
   "source": [
    "import plotly.graph_objects as go\n",
    "from plotly.subplots import make_subplots\n",
    "import numpy as np\n",
    "import pandas as pd"
   ]
  },
  {
   "cell_type": "code",
   "execution_count": 399,
   "metadata": {},
   "outputs": [],
   "source": [
    "n = 6 * 12\n",
    "x = np.arange(n)\n",
    "y = np.abs(np.random.randn(n))\n",
    "y_cs = np.cumsum(y) * 1000\n",
    "\n",
    "data = pd.DataFrame({\"x\": x, \"y\": y, \"A\": y_cs, \"B\": 2 * y_cs, \"C\": 3 * y_cs})"
   ]
  },
  {
   "cell_type": "code",
   "execution_count": 400,
   "metadata": {},
   "outputs": [],
   "source": [
    "def sum_lines_traces(data, ycols, ycol_highlight, left, right):\n",
    "    hover_template = \"<b>Cumulative Cost</b>: $%{y:,.0f}\"\n",
    "\n",
    "    traces = []\n",
    "    for column in ycols:\n",
    "        if column == ycol_highlight:\n",
    "            # plot from 0 to shade_l\n",
    "            data_left = data.loc[data.index < left]\n",
    "            data_right = data.loc[data.index > right]\n",
    "            data_middle = data.loc[(data.index >= left) & (data.index <= right)]\n",
    "            for d in [data_left, data_right, data_middle]:\n",
    "                opacity = 1 if d is data_middle else 0.2\n",
    "                traces.append(\n",
    "                    go.Scatter(\n",
    "                        x=d.index,\n",
    "                        y=d[column],\n",
    "                        mode=\"lines\",\n",
    "                        line=dict(color=\"rgba(65,40,200,1)\"),\n",
    "                        showlegend=False,\n",
    "                        opacity=opacity,\n",
    "                        hovertemplate=hover_template,\n",
    "                        name=column,\n",
    "                    )\n",
    "                )\n",
    "\n",
    "        else:\n",
    "            traces.append(\n",
    "                go.Scatter(\n",
    "                    x=data.index,\n",
    "                    y=data[column],\n",
    "                    mode=\"lines\",\n",
    "                    line=dict(color=\"rgba(60,60,60,0.25)\"),\n",
    "                    showlegend=False,\n",
    "                    hovertemplate=hover_template,\n",
    "                    name=column,\n",
    "                )\n",
    "            )\n",
    "\n",
    "    # add maker at left, right\n",
    "    y_l = data.loc[data.index == left, ycol_highlight].values[0]\n",
    "    y_r = data.loc[data.index == right, ycol_highlight].values[0]\n",
    "\n",
    "    traces.append(\n",
    "        go.Scatter(\n",
    "            x=[left, right],\n",
    "            y=[y_l, y_r],\n",
    "            mode=\"markers\",\n",
    "            marker=dict(color=\"rgba(95,40,200,1)\", size=6),\n",
    "            showlegend=False,\n",
    "            hoverinfo=\"skip\",\n",
    "        )\n",
    "    )\n",
    "\n",
    "    return traces"
   ]
  },
  {
   "cell_type": "code",
   "execution_count": 401,
   "metadata": {},
   "outputs": [],
   "source": [
    "def vertical_traces(data, ycol_highlight, left, right):\n",
    "\n",
    "    traces = []\n",
    "    # plot from 0 to shade_l\n",
    "    data_left = data.loc[data.index < left, [ycol_highlight]]\n",
    "    data_right = data.loc[data.index > right, [ycol_highlight]]\n",
    "    data_middle = data.loc[\n",
    "        (data.index >= left) & (data.index <= right), [ycol_highlight]\n",
    "    ]\n",
    "    for d in [data_left, data_right, data_middle]:\n",
    "        opacity = 1 if d is data_middle else 0.2\n",
    "        traces.append(\n",
    "            go.Scatter(\n",
    "                x=[0] * len(d),\n",
    "                y=d[ycol_highlight],\n",
    "                mode=\"lines\",\n",
    "                line=dict(color=\"rgba(65,40,200,1)\"),\n",
    "                showlegend=False,\n",
    "                opacity=opacity,\n",
    "                hoverinfo=\"skip\",\n",
    "            )\n",
    "        )\n",
    "\n",
    "    # add marker at left, right\n",
    "    y_l = data_middle[ycol_highlight].min()\n",
    "    y_r = data_middle[ycol_highlight].max()\n",
    "\n",
    "    traces.append(\n",
    "        go.Scatter(\n",
    "            x=[0, 0],\n",
    "            y=[y_l, y_r],\n",
    "            mode=\"markers\",\n",
    "            marker=dict(color=\"rgba(95,40,200,1)\", size=6),\n",
    "            showlegend=False,\n",
    "            hovertemplate=\"<br><b>Cumulative Cost</b>: $%{y:,.0f}\",\n",
    "            name=ycol_highlight,\n",
    "        )\n",
    "    )\n",
    "\n",
    "    traces.append(\n",
    "        go.Scatter(\n",
    "            x=[0],\n",
    "            y=[(y_r + y_l) / 2],\n",
    "            # text=[f\"${y_r - y_l:,.0f}\"],\n",
    "            # textfont=dict(size=14, color=\"rgba(95,40,200,1)\", weight=\"bold\"),\n",
    "            # textposition=\"middle center\",\n",
    "            hoverinfo=\"skip\",\n",
    "            mode=\"text\",\n",
    "            showlegend=False,\n",
    "        )\n",
    "    )\n",
    "\n",
    "    return traces"
   ]
  },
  {
   "cell_type": "code",
   "execution_count": 402,
   "metadata": {},
   "outputs": [],
   "source": [
    "def plot_trend(data, xcol, columns_included, column_highlight, left, right):\n",
    "    # create a copy of data to avoid modifying the original\n",
    "    data = data.copy()\n",
    "    # make xcol the index\n",
    "    data.set_index(xcol, inplace=True)\n",
    "\n",
    "    # offset data to start at left\n",
    "    data[columns_included] = (\n",
    "        data[columns_included] - data.loc[left, columns_included]\n",
    "    )\n",
    "    # subplots\n",
    "    fig = make_subplots(\n",
    "        rows=1,\n",
    "        cols=2,\n",
    "        column_widths=[8, 1],\n",
    "        row_heights=[8],\n",
    "        shared_yaxes=True,\n",
    "        horizontal_spacing=0.02,\n",
    "    )\n",
    "\n",
    "    # plot lines in the main plot\n",
    "\n",
    "    y_l = data.loc[left, column_highlight]\n",
    "    y_r = data.loc[right, column_highlight]\n",
    "\n",
    "    duration_sum = y_r - y_l\n",
    "\n",
    "    main_traces = sum_lines_traces(\n",
    "        data, columns_included, column_highlight, left, right\n",
    "    )\n",
    "\n",
    "    vert_traces = vertical_traces(data, column_highlight, left, right)\n",
    "\n",
    "    for trace in main_traces:\n",
    "        fig.add_trace(trace, row=1, col=1)\n",
    "\n",
    "    for trace in vert_traces:\n",
    "        fig.add_trace(trace, row=1, col=2)\n",
    "\n",
    "    for y in [y_l, y_r]:\n",
    "        fig.add_hline(y=y, line_dash=\"dot\", row=1, col=\"all\", opacity=0.2)\n",
    "\n",
    "    # add anotation to the right plot\n",
    "    fig.add_annotation(\n",
    "        x=0,\n",
    "        y=(y_r + y_l) / 2,\n",
    "        text=f\"${duration_sum:,.0f}\",\n",
    "        showarrow=False,\n",
    "        font=dict(size=20, color=\"rgba(95,40,200,1)\", weight=\"bold\"),\n",
    "        xshift=15,\n",
    "        yshift=0,\n",
    "        row=1,\n",
    "        col=2,\n",
    "        textangle=90,\n",
    "    )\n",
    "\n",
    "    # add title as annotation to the left plot\n",
    "    fig.add_annotation(\n",
    "        text=f\"Cumulative Cost of Childcare<br>${duration_sum:,.0f}\",\n",
    "        font=dict(\n",
    "            size=20,\n",
    "            color=\"rgba(95,40,200,1)\",\n",
    "            weight=\"bold\",\n",
    "            family=\"Helvetica\",\n",
    "        ),\n",
    "        xref=\"x domain\",\n",
    "        yref=\"y domain\",\n",
    "        x=0,  # Left edge of the subplot\n",
    "        y=1,  # Top edge of the subplot\n",
    "        xshift=20,\n",
    "        yshift=-15,\n",
    "        xanchor=\"left\",\n",
    "        yanchor=\"top\",\n",
    "        showarrow=False,\n",
    "        align=\"left\",\n",
    "    )\n",
    "\n",
    "    # hide tick labels from the right plot\n",
    "    fig.update_xaxes(\n",
    "        range=[-0.1, 0.1],\n",
    "        row=1,\n",
    "        col=2,\n",
    "        showgrid=False,  # This hides the vertical gridlines\n",
    "        tickformat=\"%d-%b\",  # This formats the tick labels (e.g., \"01-Jan\")\n",
    "    )\n",
    "\n",
    "    # update layout\n",
    "\n",
    "    # update layout\n",
    "    fig.update_layout(\n",
    "        font=dict(size=14),\n",
    "        width=800,\n",
    "        height=600,\n",
    "        # ymin\n",
    "        yaxis=dict(\n",
    "            range=[\n",
    "                data[columns_included].min().min(),\n",
    "                data[columns_included].max().max(),\n",
    "            ],\n",
    "            showgrid=False,\n",
    "            tickformat=\"$,.0f\",  # format yaxis labels to show dollar sign\n",
    "        ),\n",
    "        xaxis=dict(\n",
    "            showgrid=False,\n",
    "        ),\n",
    "        xaxis_title=\"Age (Month)\",\n",
    "        hovermode=\"x\",\n",
    "    )\n",
    "\n",
    "    # turn off grid\n",
    "    for i in range(1, 3):\n",
    "        fig.update_yaxes(showgrid=False, row=1, col=i)\n",
    "        fig.update_xaxes(showgrid=False, row=1, col=i)\n",
    "\n",
    "    fig.update_xaxes(showticklabels=False, row=1, col=2)\n",
    "\n",
    "    fig.show()"
   ]
  },
  {
   "cell_type": "code",
   "execution_count": 403,
   "metadata": {},
   "outputs": [
    {
     "data": {
      "application/vnd.plotly.v1+json": {
       "config": {
        "plotlyServerURL": "https://plot.ly"
       },
       "data": [
        {
         "hovertemplate": "<b>Cumulative Cost</b>: $%{y:,.0f}",
         "line": {
          "color": "rgba(60,60,60,0.25)"
         },
         "mode": "lines",
         "name": "A",
         "showlegend": false,
         "type": "scatter",
         "x": [
          0,
          1,
          2,
          3,
          4,
          5,
          6,
          7,
          8,
          9,
          10,
          11,
          12,
          13,
          14,
          15,
          16,
          17,
          18,
          19,
          20,
          21,
          22,
          23,
          24,
          25,
          26,
          27,
          28,
          29,
          30,
          31,
          32,
          33,
          34,
          35,
          36,
          37,
          38,
          39,
          40,
          41,
          42,
          43,
          44,
          45,
          46,
          47,
          48,
          49,
          50,
          51,
          52,
          53,
          54,
          55,
          56,
          57,
          58,
          59,
          60,
          61,
          62,
          63,
          64,
          65,
          66,
          67,
          68,
          69,
          70,
          71
         ],
         "xaxis": "x",
         "y": [
          -5024.202344555937,
          -4887.327475253762,
          -4689.781810949651,
          -4041.7374254643432,
          -2219.095797014032,
          -483.1374788233561,
          0,
          907.6847819367749,
          2132.2795931713363,
          3768.5023401272792,
          4049.6611055601916,
          5495.46300317046,
          5519.535950436197,
          7328.654972403336,
          8662.131422967597,
          10473.568043851665,
          11369.211864403775,
          12467.692867658925,
          12694.534186434457,
          14141.272249629152,
          15247.622274012365,
          17548.05597452123,
          17819.92106732339,
          18517.960165308898,
          20475.659108241984,
          20984.96793723105,
          21308.14409114101,
          21525.994313975512,
          21527.54057117323,
          21713.347841818504,
          23196.952812031705,
          23231.743433644137,
          23274.405606145767,
          23495.585839240382,
          23531.60092461999,
          23606.65495298209,
          24157.747827309468,
          25674.580166004627,
          26291.38956766184,
          26981.644259937857,
          27179.826537023757,
          27957.816194907624,
          29487.965027322018,
          30765.988867078042,
          32436.41373590919,
          33133.58403719934,
          33340.08689027536,
          34128.05659862841,
          34270.63602472292,
          35084.31466977146,
          36038.0936633775,
          36385.9338636335,
          36997.436024516435,
          37017.250982030404,
          37312.82171521327,
          37551.760247547616,
          38478.14913019493,
          39317.98053823996,
          40278.55742313111,
          40522.40995658353,
          40722.46791710235,
          40881.80807025784,
          41837.72427630228,
          42023.886001027095,
          42763.91656501101,
          43413.05008063336,
          43528.14160002794,
          44579.3095477197,
          44967.930444495156,
          45005.548301787196,
          45867.75511166024,
          47603.789472188844
         ],
         "yaxis": "y"
        },
        {
         "hovertemplate": "<b>Cumulative Cost</b>: $%{y:,.0f}",
         "line": {
          "color": "rgba(65,40,200,1)"
         },
         "mode": "lines",
         "name": "B",
         "opacity": 0.2,
         "showlegend": false,
         "type": "scatter",
         "x": [
          0,
          1,
          2,
          3,
          4,
          5
         ],
         "xaxis": "x",
         "y": [
          -10048.404689111874,
          -9774.654950507524,
          -9379.563621899302,
          -8083.4748509286865,
          -4438.191594028064,
          -966.2749576467122
         ],
         "yaxis": "y"
        },
        {
         "hovertemplate": "<b>Cumulative Cost</b>: $%{y:,.0f}",
         "line": {
          "color": "rgba(65,40,200,1)"
         },
         "mode": "lines",
         "name": "B",
         "opacity": 0.2,
         "showlegend": false,
         "type": "scatter",
         "x": [
          55,
          56,
          57,
          58,
          59,
          60,
          61,
          62,
          63,
          64,
          65,
          66,
          67,
          68,
          69,
          70,
          71
         ],
         "xaxis": "x",
         "y": [
          75103.52049509523,
          76956.29826038986,
          78635.96107647991,
          80557.11484626222,
          81044.81991316706,
          81444.9358342047,
          81763.61614051567,
          83675.44855260456,
          84047.77200205419,
          85527.83313002202,
          86826.10016126672,
          87056.28320005588,
          89158.6190954394,
          89935.86088899031,
          90011.09660357439,
          91735.51022332048,
          95207.57894437769
         ],
         "yaxis": "y"
        },
        {
         "hovertemplate": "<b>Cumulative Cost</b>: $%{y:,.0f}",
         "line": {
          "color": "rgba(65,40,200,1)"
         },
         "mode": "lines",
         "name": "B",
         "opacity": 1,
         "showlegend": false,
         "type": "scatter",
         "x": [
          6,
          7,
          8,
          9,
          10,
          11,
          12,
          13,
          14,
          15,
          16,
          17,
          18,
          19,
          20,
          21,
          22,
          23,
          24,
          25,
          26,
          27,
          28,
          29,
          30,
          31,
          32,
          33,
          34,
          35,
          36,
          37,
          38,
          39,
          40,
          41,
          42,
          43,
          44,
          45,
          46,
          47,
          48,
          49,
          50,
          51,
          52,
          53,
          54
         ],
         "xaxis": "x",
         "y": [
          0,
          1815.3695638735499,
          4264.559186342673,
          7537.0046802545585,
          8099.322211120383,
          10990.92600634092,
          11039.071900872394,
          14657.309944806671,
          17324.262845935194,
          20947.13608770333,
          22738.42372880755,
          24935.38573531785,
          25389.068372868915,
          28282.544499258303,
          30495.24454802473,
          35096.11194904246,
          35639.84213464678,
          37035.920330617795,
          40951.31821648397,
          41969.9358744621,
          42616.28818228202,
          43051.988627951025,
          43055.08114234646,
          43426.69568363701,
          46393.90562406341,
          46463.48686728827,
          46548.81121229153,
          46991.171678480765,
          47063.20184923998,
          47213.30990596418,
          48315.495654618935,
          51349.160332009254,
          52582.77913532368,
          53963.288519875714,
          54359.653074047514,
          55915.63238981525,
          58975.930054644035,
          61531.977734156084,
          64872.82747181838,
          66267.16807439868,
          66680.17378055071,
          68256.11319725683,
          68541.27204944583,
          70168.62933954292,
          72076.187326755,
          72771.867727267,
          73994.87204903287,
          74034.50196406081,
          74625.64343042654
         ],
         "yaxis": "y"
        },
        {
         "hovertemplate": "<b>Cumulative Cost</b>: $%{y:,.0f}",
         "line": {
          "color": "rgba(60,60,60,0.25)"
         },
         "mode": "lines",
         "name": "C",
         "showlegend": false,
         "type": "scatter",
         "x": [
          0,
          1,
          2,
          3,
          4,
          5,
          6,
          7,
          8,
          9,
          10,
          11,
          12,
          13,
          14,
          15,
          16,
          17,
          18,
          19,
          20,
          21,
          22,
          23,
          24,
          25,
          26,
          27,
          28,
          29,
          30,
          31,
          32,
          33,
          34,
          35,
          36,
          37,
          38,
          39,
          40,
          41,
          42,
          43,
          44,
          45,
          46,
          47,
          48,
          49,
          50,
          51,
          52,
          53,
          54,
          55,
          56,
          57,
          58,
          59,
          60,
          61,
          62,
          63,
          64,
          65,
          66,
          67,
          68,
          69,
          70,
          71
         ],
         "xaxis": "x",
         "y": [
          -15072.607033667815,
          -14661.982425761285,
          -14069.345432848955,
          -12125.212276393031,
          -6657.2873910420985,
          -1449.4124364700692,
          0,
          2723.054345810324,
          6396.838779514008,
          11305.507020381836,
          12148.983316680573,
          16486.389009511382,
          16558.60785130859,
          21985.964917210003,
          25986.39426890279,
          31420.704131554994,
          34107.63559321132,
          37403.07860297677,
          38083.60255930337,
          42423.81674888745,
          45742.8668220371,
          52644.16792356369,
          53459.76320197016,
          55553.88049592669,
          61426.977324725936,
          62954.90381169314,
          63924.43227342303,
          64577.98294192654,
          64582.621713519686,
          65140.04352545551,
          69590.85843609512,
          69695.23030093242,
          69823.2168184373,
          70486.75751772115,
          70594.80277385996,
          70819.96485894627,
          72473.2434819284,
          77023.74049801388,
          78874.16870298551,
          80944.93277981356,
          81539.47961107126,
          83873.44858472288,
          88463.89508196604,
          92297.96660123413,
          97309.24120772758,
          99400.752111598,
          100020.26067082607,
          102384.16979588525,
          102811.90807416875,
          105252.94400931438,
          108114.28099013248,
          109157.80159090049,
          110992.3080735493,
          111051.7529460912,
          111938.46514563981,
          112655.28074264285,
          115434.4473905848,
          117953.94161471986,
          120835.67226939334,
          121567.22986975059,
          122167.40375130705,
          122645.42421077352,
          125513.17282890686,
          126071.65800308128,
          128291.74969503301,
          130239.15024190006,
          130584.42480008383,
          133737.9286431591,
          134903.79133348545,
          135016.64490536158,
          137603.26533498074,
          142811.36841656652
         ],
         "yaxis": "y"
        },
        {
         "hoverinfo": "skip",
         "marker": {
          "color": "rgba(95,40,200,1)",
          "size": 6
         },
         "mode": "markers",
         "showlegend": false,
         "type": "scatter",
         "x": [
          6,
          54
         ],
         "xaxis": "x",
         "y": [
          0,
          74625.64343042654
         ],
         "yaxis": "y"
        },
        {
         "hoverinfo": "skip",
         "line": {
          "color": "rgba(65,40,200,1)"
         },
         "mode": "lines",
         "opacity": 0.2,
         "showlegend": false,
         "type": "scatter",
         "x": [
          0,
          0,
          0,
          0,
          0,
          0
         ],
         "xaxis": "x2",
         "y": [
          -10048.404689111874,
          -9774.654950507524,
          -9379.563621899302,
          -8083.4748509286865,
          -4438.191594028064,
          -966.2749576467122
         ],
         "yaxis": "y2"
        },
        {
         "hoverinfo": "skip",
         "line": {
          "color": "rgba(65,40,200,1)"
         },
         "mode": "lines",
         "opacity": 0.2,
         "showlegend": false,
         "type": "scatter",
         "x": [
          0,
          0,
          0,
          0,
          0,
          0,
          0,
          0,
          0,
          0,
          0,
          0,
          0,
          0,
          0,
          0,
          0
         ],
         "xaxis": "x2",
         "y": [
          75103.52049509523,
          76956.29826038986,
          78635.96107647991,
          80557.11484626222,
          81044.81991316706,
          81444.9358342047,
          81763.61614051567,
          83675.44855260456,
          84047.77200205419,
          85527.83313002202,
          86826.10016126672,
          87056.28320005588,
          89158.6190954394,
          89935.86088899031,
          90011.09660357439,
          91735.51022332048,
          95207.57894437769
         ],
         "yaxis": "y2"
        },
        {
         "hoverinfo": "skip",
         "line": {
          "color": "rgba(65,40,200,1)"
         },
         "mode": "lines",
         "opacity": 1,
         "showlegend": false,
         "type": "scatter",
         "x": [
          0,
          0,
          0,
          0,
          0,
          0,
          0,
          0,
          0,
          0,
          0,
          0,
          0,
          0,
          0,
          0,
          0,
          0,
          0,
          0,
          0,
          0,
          0,
          0,
          0,
          0,
          0,
          0,
          0,
          0,
          0,
          0,
          0,
          0,
          0,
          0,
          0,
          0,
          0,
          0,
          0,
          0,
          0,
          0,
          0,
          0,
          0,
          0,
          0
         ],
         "xaxis": "x2",
         "y": [
          0,
          1815.3695638735499,
          4264.559186342673,
          7537.0046802545585,
          8099.322211120383,
          10990.92600634092,
          11039.071900872394,
          14657.309944806671,
          17324.262845935194,
          20947.13608770333,
          22738.42372880755,
          24935.38573531785,
          25389.068372868915,
          28282.544499258303,
          30495.24454802473,
          35096.11194904246,
          35639.84213464678,
          37035.920330617795,
          40951.31821648397,
          41969.9358744621,
          42616.28818228202,
          43051.988627951025,
          43055.08114234646,
          43426.69568363701,
          46393.90562406341,
          46463.48686728827,
          46548.81121229153,
          46991.171678480765,
          47063.20184923998,
          47213.30990596418,
          48315.495654618935,
          51349.160332009254,
          52582.77913532368,
          53963.288519875714,
          54359.653074047514,
          55915.63238981525,
          58975.930054644035,
          61531.977734156084,
          64872.82747181838,
          66267.16807439868,
          66680.17378055071,
          68256.11319725683,
          68541.27204944583,
          70168.62933954292,
          72076.187326755,
          72771.867727267,
          73994.87204903287,
          74034.50196406081,
          74625.64343042654
         ],
         "yaxis": "y2"
        },
        {
         "hovertemplate": "<br><b>Cumulative Cost</b>: $%{y:,.0f}",
         "marker": {
          "color": "rgba(95,40,200,1)",
          "size": 6
         },
         "mode": "markers",
         "name": "B",
         "showlegend": false,
         "type": "scatter",
         "x": [
          0,
          0
         ],
         "xaxis": "x2",
         "y": [
          0,
          74625.64343042654
         ],
         "yaxis": "y2"
        },
        {
         "hoverinfo": "skip",
         "mode": "text",
         "showlegend": false,
         "type": "scatter",
         "x": [
          0
         ],
         "xaxis": "x2",
         "y": [
          37312.82171521327
         ],
         "yaxis": "y2"
        }
       ],
       "layout": {
        "annotations": [
         {
          "font": {
           "color": "rgba(95,40,200,1)",
           "size": 20,
           "weight": "bold"
          },
          "showarrow": false,
          "text": "$74,626",
          "textangle": 90,
          "x": 0,
          "xref": "x2",
          "xshift": 15,
          "y": 37312.82171521327,
          "yref": "y2",
          "yshift": 0
         },
         {
          "align": "left",
          "font": {
           "color": "rgba(95,40,200,1)",
           "family": "Helvetica",
           "size": 20,
           "weight": "bold"
          },
          "showarrow": false,
          "text": "Cumulative Cost of Childcare<br>$74,626",
          "x": 0,
          "xanchor": "left",
          "xref": "x domain",
          "xshift": 20,
          "y": 1,
          "yanchor": "top",
          "yref": "y domain",
          "yshift": -15
         }
        ],
        "font": {
         "size": 14
        },
        "height": 600,
        "hovermode": "x",
        "shapes": [
         {
          "line": {
           "dash": "dot"
          },
          "opacity": 0.2,
          "type": "line",
          "x0": 0,
          "x1": 1,
          "xref": "x domain",
          "y0": 0,
          "y1": 0,
          "yref": "y"
         },
         {
          "line": {
           "dash": "dot"
          },
          "opacity": 0.2,
          "type": "line",
          "x0": 0,
          "x1": 1,
          "xref": "x2 domain",
          "y0": 0,
          "y1": 0,
          "yref": "y2"
         },
         {
          "line": {
           "dash": "dot"
          },
          "opacity": 0.2,
          "type": "line",
          "x0": 0,
          "x1": 1,
          "xref": "x domain",
          "y0": 74625.64343042654,
          "y1": 74625.64343042654,
          "yref": "y"
         },
         {
          "line": {
           "dash": "dot"
          },
          "opacity": 0.2,
          "type": "line",
          "x0": 0,
          "x1": 1,
          "xref": "x2 domain",
          "y0": 74625.64343042654,
          "y1": 74625.64343042654,
          "yref": "y2"
         }
        ],
        "template": {
         "data": {
          "bar": [
           {
            "error_x": {
             "color": "#2a3f5f"
            },
            "error_y": {
             "color": "#2a3f5f"
            },
            "marker": {
             "line": {
              "color": "#E5ECF6",
              "width": 0.5
             },
             "pattern": {
              "fillmode": "overlay",
              "size": 10,
              "solidity": 0.2
             }
            },
            "type": "bar"
           }
          ],
          "barpolar": [
           {
            "marker": {
             "line": {
              "color": "#E5ECF6",
              "width": 0.5
             },
             "pattern": {
              "fillmode": "overlay",
              "size": 10,
              "solidity": 0.2
             }
            },
            "type": "barpolar"
           }
          ],
          "carpet": [
           {
            "aaxis": {
             "endlinecolor": "#2a3f5f",
             "gridcolor": "white",
             "linecolor": "white",
             "minorgridcolor": "white",
             "startlinecolor": "#2a3f5f"
            },
            "baxis": {
             "endlinecolor": "#2a3f5f",
             "gridcolor": "white",
             "linecolor": "white",
             "minorgridcolor": "white",
             "startlinecolor": "#2a3f5f"
            },
            "type": "carpet"
           }
          ],
          "choropleth": [
           {
            "colorbar": {
             "outlinewidth": 0,
             "ticks": ""
            },
            "type": "choropleth"
           }
          ],
          "contour": [
           {
            "colorbar": {
             "outlinewidth": 0,
             "ticks": ""
            },
            "colorscale": [
             [
              0,
              "#0d0887"
             ],
             [
              0.1111111111111111,
              "#46039f"
             ],
             [
              0.2222222222222222,
              "#7201a8"
             ],
             [
              0.3333333333333333,
              "#9c179e"
             ],
             [
              0.4444444444444444,
              "#bd3786"
             ],
             [
              0.5555555555555556,
              "#d8576b"
             ],
             [
              0.6666666666666666,
              "#ed7953"
             ],
             [
              0.7777777777777778,
              "#fb9f3a"
             ],
             [
              0.8888888888888888,
              "#fdca26"
             ],
             [
              1,
              "#f0f921"
             ]
            ],
            "type": "contour"
           }
          ],
          "contourcarpet": [
           {
            "colorbar": {
             "outlinewidth": 0,
             "ticks": ""
            },
            "type": "contourcarpet"
           }
          ],
          "heatmap": [
           {
            "colorbar": {
             "outlinewidth": 0,
             "ticks": ""
            },
            "colorscale": [
             [
              0,
              "#0d0887"
             ],
             [
              0.1111111111111111,
              "#46039f"
             ],
             [
              0.2222222222222222,
              "#7201a8"
             ],
             [
              0.3333333333333333,
              "#9c179e"
             ],
             [
              0.4444444444444444,
              "#bd3786"
             ],
             [
              0.5555555555555556,
              "#d8576b"
             ],
             [
              0.6666666666666666,
              "#ed7953"
             ],
             [
              0.7777777777777778,
              "#fb9f3a"
             ],
             [
              0.8888888888888888,
              "#fdca26"
             ],
             [
              1,
              "#f0f921"
             ]
            ],
            "type": "heatmap"
           }
          ],
          "heatmapgl": [
           {
            "colorbar": {
             "outlinewidth": 0,
             "ticks": ""
            },
            "colorscale": [
             [
              0,
              "#0d0887"
             ],
             [
              0.1111111111111111,
              "#46039f"
             ],
             [
              0.2222222222222222,
              "#7201a8"
             ],
             [
              0.3333333333333333,
              "#9c179e"
             ],
             [
              0.4444444444444444,
              "#bd3786"
             ],
             [
              0.5555555555555556,
              "#d8576b"
             ],
             [
              0.6666666666666666,
              "#ed7953"
             ],
             [
              0.7777777777777778,
              "#fb9f3a"
             ],
             [
              0.8888888888888888,
              "#fdca26"
             ],
             [
              1,
              "#f0f921"
             ]
            ],
            "type": "heatmapgl"
           }
          ],
          "histogram": [
           {
            "marker": {
             "pattern": {
              "fillmode": "overlay",
              "size": 10,
              "solidity": 0.2
             }
            },
            "type": "histogram"
           }
          ],
          "histogram2d": [
           {
            "colorbar": {
             "outlinewidth": 0,
             "ticks": ""
            },
            "colorscale": [
             [
              0,
              "#0d0887"
             ],
             [
              0.1111111111111111,
              "#46039f"
             ],
             [
              0.2222222222222222,
              "#7201a8"
             ],
             [
              0.3333333333333333,
              "#9c179e"
             ],
             [
              0.4444444444444444,
              "#bd3786"
             ],
             [
              0.5555555555555556,
              "#d8576b"
             ],
             [
              0.6666666666666666,
              "#ed7953"
             ],
             [
              0.7777777777777778,
              "#fb9f3a"
             ],
             [
              0.8888888888888888,
              "#fdca26"
             ],
             [
              1,
              "#f0f921"
             ]
            ],
            "type": "histogram2d"
           }
          ],
          "histogram2dcontour": [
           {
            "colorbar": {
             "outlinewidth": 0,
             "ticks": ""
            },
            "colorscale": [
             [
              0,
              "#0d0887"
             ],
             [
              0.1111111111111111,
              "#46039f"
             ],
             [
              0.2222222222222222,
              "#7201a8"
             ],
             [
              0.3333333333333333,
              "#9c179e"
             ],
             [
              0.4444444444444444,
              "#bd3786"
             ],
             [
              0.5555555555555556,
              "#d8576b"
             ],
             [
              0.6666666666666666,
              "#ed7953"
             ],
             [
              0.7777777777777778,
              "#fb9f3a"
             ],
             [
              0.8888888888888888,
              "#fdca26"
             ],
             [
              1,
              "#f0f921"
             ]
            ],
            "type": "histogram2dcontour"
           }
          ],
          "mesh3d": [
           {
            "colorbar": {
             "outlinewidth": 0,
             "ticks": ""
            },
            "type": "mesh3d"
           }
          ],
          "parcoords": [
           {
            "line": {
             "colorbar": {
              "outlinewidth": 0,
              "ticks": ""
             }
            },
            "type": "parcoords"
           }
          ],
          "pie": [
           {
            "automargin": true,
            "type": "pie"
           }
          ],
          "scatter": [
           {
            "fillpattern": {
             "fillmode": "overlay",
             "size": 10,
             "solidity": 0.2
            },
            "type": "scatter"
           }
          ],
          "scatter3d": [
           {
            "line": {
             "colorbar": {
              "outlinewidth": 0,
              "ticks": ""
             }
            },
            "marker": {
             "colorbar": {
              "outlinewidth": 0,
              "ticks": ""
             }
            },
            "type": "scatter3d"
           }
          ],
          "scattercarpet": [
           {
            "marker": {
             "colorbar": {
              "outlinewidth": 0,
              "ticks": ""
             }
            },
            "type": "scattercarpet"
           }
          ],
          "scattergeo": [
           {
            "marker": {
             "colorbar": {
              "outlinewidth": 0,
              "ticks": ""
             }
            },
            "type": "scattergeo"
           }
          ],
          "scattergl": [
           {
            "marker": {
             "colorbar": {
              "outlinewidth": 0,
              "ticks": ""
             }
            },
            "type": "scattergl"
           }
          ],
          "scattermapbox": [
           {
            "marker": {
             "colorbar": {
              "outlinewidth": 0,
              "ticks": ""
             }
            },
            "type": "scattermapbox"
           }
          ],
          "scatterpolar": [
           {
            "marker": {
             "colorbar": {
              "outlinewidth": 0,
              "ticks": ""
             }
            },
            "type": "scatterpolar"
           }
          ],
          "scatterpolargl": [
           {
            "marker": {
             "colorbar": {
              "outlinewidth": 0,
              "ticks": ""
             }
            },
            "type": "scatterpolargl"
           }
          ],
          "scatterternary": [
           {
            "marker": {
             "colorbar": {
              "outlinewidth": 0,
              "ticks": ""
             }
            },
            "type": "scatterternary"
           }
          ],
          "surface": [
           {
            "colorbar": {
             "outlinewidth": 0,
             "ticks": ""
            },
            "colorscale": [
             [
              0,
              "#0d0887"
             ],
             [
              0.1111111111111111,
              "#46039f"
             ],
             [
              0.2222222222222222,
              "#7201a8"
             ],
             [
              0.3333333333333333,
              "#9c179e"
             ],
             [
              0.4444444444444444,
              "#bd3786"
             ],
             [
              0.5555555555555556,
              "#d8576b"
             ],
             [
              0.6666666666666666,
              "#ed7953"
             ],
             [
              0.7777777777777778,
              "#fb9f3a"
             ],
             [
              0.8888888888888888,
              "#fdca26"
             ],
             [
              1,
              "#f0f921"
             ]
            ],
            "type": "surface"
           }
          ],
          "table": [
           {
            "cells": {
             "fill": {
              "color": "#EBF0F8"
             },
             "line": {
              "color": "white"
             }
            },
            "header": {
             "fill": {
              "color": "#C8D4E3"
             },
             "line": {
              "color": "white"
             }
            },
            "type": "table"
           }
          ]
         },
         "layout": {
          "annotationdefaults": {
           "arrowcolor": "#2a3f5f",
           "arrowhead": 0,
           "arrowwidth": 1
          },
          "autotypenumbers": "strict",
          "coloraxis": {
           "colorbar": {
            "outlinewidth": 0,
            "ticks": ""
           }
          },
          "colorscale": {
           "diverging": [
            [
             0,
             "#8e0152"
            ],
            [
             0.1,
             "#c51b7d"
            ],
            [
             0.2,
             "#de77ae"
            ],
            [
             0.3,
             "#f1b6da"
            ],
            [
             0.4,
             "#fde0ef"
            ],
            [
             0.5,
             "#f7f7f7"
            ],
            [
             0.6,
             "#e6f5d0"
            ],
            [
             0.7,
             "#b8e186"
            ],
            [
             0.8,
             "#7fbc41"
            ],
            [
             0.9,
             "#4d9221"
            ],
            [
             1,
             "#276419"
            ]
           ],
           "sequential": [
            [
             0,
             "#0d0887"
            ],
            [
             0.1111111111111111,
             "#46039f"
            ],
            [
             0.2222222222222222,
             "#7201a8"
            ],
            [
             0.3333333333333333,
             "#9c179e"
            ],
            [
             0.4444444444444444,
             "#bd3786"
            ],
            [
             0.5555555555555556,
             "#d8576b"
            ],
            [
             0.6666666666666666,
             "#ed7953"
            ],
            [
             0.7777777777777778,
             "#fb9f3a"
            ],
            [
             0.8888888888888888,
             "#fdca26"
            ],
            [
             1,
             "#f0f921"
            ]
           ],
           "sequentialminus": [
            [
             0,
             "#0d0887"
            ],
            [
             0.1111111111111111,
             "#46039f"
            ],
            [
             0.2222222222222222,
             "#7201a8"
            ],
            [
             0.3333333333333333,
             "#9c179e"
            ],
            [
             0.4444444444444444,
             "#bd3786"
            ],
            [
             0.5555555555555556,
             "#d8576b"
            ],
            [
             0.6666666666666666,
             "#ed7953"
            ],
            [
             0.7777777777777778,
             "#fb9f3a"
            ],
            [
             0.8888888888888888,
             "#fdca26"
            ],
            [
             1,
             "#f0f921"
            ]
           ]
          },
          "colorway": [
           "#636efa",
           "#EF553B",
           "#00cc96",
           "#ab63fa",
           "#FFA15A",
           "#19d3f3",
           "#FF6692",
           "#B6E880",
           "#FF97FF",
           "#FECB52"
          ],
          "font": {
           "color": "#2a3f5f"
          },
          "geo": {
           "bgcolor": "white",
           "lakecolor": "white",
           "landcolor": "#E5ECF6",
           "showlakes": true,
           "showland": true,
           "subunitcolor": "white"
          },
          "hoverlabel": {
           "align": "left"
          },
          "hovermode": "closest",
          "mapbox": {
           "style": "light"
          },
          "paper_bgcolor": "white",
          "plot_bgcolor": "#E5ECF6",
          "polar": {
           "angularaxis": {
            "gridcolor": "white",
            "linecolor": "white",
            "ticks": ""
           },
           "bgcolor": "#E5ECF6",
           "radialaxis": {
            "gridcolor": "white",
            "linecolor": "white",
            "ticks": ""
           }
          },
          "scene": {
           "xaxis": {
            "backgroundcolor": "#E5ECF6",
            "gridcolor": "white",
            "gridwidth": 2,
            "linecolor": "white",
            "showbackground": true,
            "ticks": "",
            "zerolinecolor": "white"
           },
           "yaxis": {
            "backgroundcolor": "#E5ECF6",
            "gridcolor": "white",
            "gridwidth": 2,
            "linecolor": "white",
            "showbackground": true,
            "ticks": "",
            "zerolinecolor": "white"
           },
           "zaxis": {
            "backgroundcolor": "#E5ECF6",
            "gridcolor": "white",
            "gridwidth": 2,
            "linecolor": "white",
            "showbackground": true,
            "ticks": "",
            "zerolinecolor": "white"
           }
          },
          "shapedefaults": {
           "line": {
            "color": "#2a3f5f"
           }
          },
          "ternary": {
           "aaxis": {
            "gridcolor": "white",
            "linecolor": "white",
            "ticks": ""
           },
           "baxis": {
            "gridcolor": "white",
            "linecolor": "white",
            "ticks": ""
           },
           "bgcolor": "#E5ECF6",
           "caxis": {
            "gridcolor": "white",
            "linecolor": "white",
            "ticks": ""
           }
          },
          "title": {
           "x": 0.05
          },
          "xaxis": {
           "automargin": true,
           "gridcolor": "white",
           "linecolor": "white",
           "ticks": "",
           "title": {
            "standoff": 15
           },
           "zerolinecolor": "white",
           "zerolinewidth": 2
          },
          "yaxis": {
           "automargin": true,
           "gridcolor": "white",
           "linecolor": "white",
           "ticks": "",
           "title": {
            "standoff": 15
           },
           "zerolinecolor": "white",
           "zerolinewidth": 2
          }
         }
        },
        "width": 800,
        "xaxis": {
         "anchor": "y",
         "domain": [
          0,
          0.8711111111111111
         ],
         "showgrid": false,
         "title": {
          "text": "Age (Month)"
         }
        },
        "xaxis2": {
         "anchor": "y2",
         "domain": [
          0.8911111111111111,
          1
         ],
         "range": [
          -0.1,
          0.1
         ],
         "showgrid": false,
         "showticklabels": false,
         "tickformat": "%d-%b"
        },
        "yaxis": {
         "anchor": "x",
         "domain": [
          0,
          1
         ],
         "range": [
          -15072.607033667815,
          142811.36841656652
         ],
         "showgrid": false,
         "tickformat": "$,.0f"
        },
        "yaxis2": {
         "anchor": "x2",
         "domain": [
          0,
          1
         ],
         "matches": "y",
         "showgrid": false,
         "showticklabels": false
        }
       }
      }
     },
     "metadata": {},
     "output_type": "display_data"
    }
   ],
   "source": [
    "plot_trend(data, \"x\", [\"A\", \"B\", \"C\"], \"B\", 6, 4 * 12 + 6)"
   ]
  },
  {
   "cell_type": "markdown",
   "metadata": {},
   "source": [
    "## One subplot\n"
   ]
  },
  {
   "cell_type": "code",
   "execution_count": 404,
   "metadata": {},
   "outputs": [],
   "source": [
    "def vertical_traces(data, ycol_highlight, left, right):\n",
    "\n",
    "    traces = []\n",
    "    # plot from 0 to shade_l\n",
    "    data_left = data.loc[data.index < left, [ycol_highlight]]\n",
    "    data_right = data.loc[data.index > right, [ycol_highlight]]\n",
    "    data_middle = data.loc[\n",
    "        (data.index >= left) & (data.index <= right), [ycol_highlight]\n",
    "    ]\n",
    "    for d in [data_left, data_right, data_middle]:\n",
    "        opacity = 1 if d is data_middle else 0.2\n",
    "        traces.append(\n",
    "            go.Scatter(\n",
    "                x=[0] * len(d),\n",
    "                y=d[ycol_highlight],\n",
    "                mode=\"lines\",\n",
    "                line=dict(color=\"rgba(65,40,200,1)\"),\n",
    "                showlegend=False,\n",
    "                opacity=opacity,\n",
    "                hoverinfo=\"skip\",\n",
    "            )\n",
    "        )\n",
    "\n",
    "    # add marker at left, right\n",
    "    y_l = data_middle[ycol_highlight].min()\n",
    "    y_r = data_middle[ycol_highlight].max()\n",
    "\n",
    "    traces.append(\n",
    "        go.Scatter(\n",
    "            x=[0, 0],\n",
    "            y=[y_l, y_r],\n",
    "            mode=\"markers\",\n",
    "            marker=dict(color=\"rgba(95,40,200,1)\", size=6),\n",
    "            showlegend=False,\n",
    "            hovertemplate=\"<br><b>Cumulative Cost</b>: $%{y:,.0f}\",\n",
    "            name=ycol_highlight,\n",
    "        )\n",
    "    )\n",
    "\n",
    "    traces.append(\n",
    "        go.Scatter(\n",
    "            x=[1],\n",
    "            y=[y_r],\n",
    "            text=[f\"${y_r - y_l:,.0f}\"],\n",
    "            textfont=dict(size=16, color=\"rgba(95,40,200,1)\", weight=\"bold\"),\n",
    "            textposition=\"middle right\",\n",
    "            hoverinfo=\"skip\",\n",
    "            mode=\"text\",\n",
    "            showlegend=False,\n",
    "        )\n",
    "    )\n",
    "\n",
    "    return traces"
   ]
  },
  {
   "cell_type": "code",
   "execution_count": 468,
   "metadata": {},
   "outputs": [],
   "source": [
    "def plot_trend(data, xcol, columns_included, column_highlight, left, right):\n",
    "    # create a copy of data to avoid modifying the original\n",
    "    data = data.copy()\n",
    "    # make xcol the index\n",
    "    data.set_index(xcol, inplace=True)\n",
    "\n",
    "    # offset data to start at left\n",
    "    data[columns_included] = (\n",
    "        data[columns_included] - data.loc[left, columns_included]\n",
    "    )\n",
    "    # subplots\n",
    "    fig = make_subplots(\n",
    "        rows=1,\n",
    "        cols=1,\n",
    "        column_widths=[8],\n",
    "        row_heights=[8],\n",
    "        shared_yaxes=True,\n",
    "        horizontal_spacing=0.02,\n",
    "    )\n",
    "\n",
    "    # plot lines in the main plot\n",
    "\n",
    "    y_l = data.loc[left, column_highlight]\n",
    "    y_r = data.loc[right, column_highlight]\n",
    "\n",
    "    duration_sum = y_r - y_l\n",
    "\n",
    "    main_traces = sum_lines_traces(\n",
    "        data, columns_included, column_highlight, left, right\n",
    "    )\n",
    "\n",
    "    vert_traces = vertical_traces(data, column_highlight, left, right)\n",
    "\n",
    "    for trace in main_traces:\n",
    "        fig.add_trace(trace, row=1, col=1)\n",
    "\n",
    "    for trace in vert_traces:\n",
    "        fig.add_trace(trace, row=1, col=1)\n",
    "\n",
    "    # for y in [y_l, y_r]:\n",
    "    #     fig.add_hline(y=y, line_dash=\"dot\", row=1, col=\"all\", opacity=0.2)\n",
    "\n",
    "    # # add title as annotation to the left plot\n",
    "    # fig.add_annotation(\n",
    "    #     text=f\"Cumulative Cost of Childcare<br>${duration_sum:,.0f}\",\n",
    "    #     font=dict(\n",
    "    #         size=20,\n",
    "    #         color=\"rgba(95,40,200,1)\",\n",
    "    #         weight=\"bold\",\n",
    "    #         family=\"Helvetica\",\n",
    "    #     ),\n",
    "    #     xref=\"x domain\",\n",
    "    #     yref=\"y domain\",\n",
    "    #     x=0,  # Left edge of the subplot\n",
    "    #     y=1,  # Top edge of the subplot\n",
    "    #     xshift=20,\n",
    "    #     yshift=-15,\n",
    "    #     xanchor=\"left\",\n",
    "    #     yanchor=\"top\",\n",
    "    #     showarrow=False,\n",
    "    #     align=\"left\",\n",
    "    # )\n",
    "\n",
    "    # update layout\n",
    "    fig.update_layout(\n",
    "        font=dict(size=14),\n",
    "        width=800,\n",
    "        height=600,\n",
    "        # ymin\n",
    "        yaxis=dict(\n",
    "            range=[\n",
    "                data[columns_included].min().min(),\n",
    "                data[columns_included].max().max(),\n",
    "            ],\n",
    "            showgrid=True,\n",
    "            tickformat=\"$~s\",\n",
    "            # ticklabelposition=\"inside\",\n",
    "            gridcolor=\"lightgray\",\n",
    "            gridwidth=1,\n",
    "            griddash=\"dash\",\n",
    "            zeroline=False,\n",
    "            showline=False,\n",
    "            showticklabels=True,\n",
    "            tickmode=\"array\",\n",
    "            ticklabelposition=\"inside top\",\n",
    "            tickfont=dict(color=\"gray\", size=15),\n",
    "        ),\n",
    "        xaxis=dict(\n",
    "            showgrid=False,\n",
    "            ticks=\"inside\",\n",
    "            range=[-10, 72],\n",
    "            tickvals=[0, 10, 20, 30, 40, 50, 60, 70],\n",
    "            ticktext=[\n",
    "                \"0 <i>months</i>\",\n",
    "                \"10\",\n",
    "                \"20\",\n",
    "                \"30\",\n",
    "                \"40\",\n",
    "                \"50\",\n",
    "                \"60\",\n",
    "                \"70\",\n",
    "            ],\n",
    "            tickangle=0,\n",
    "            tickfont=dict(size=14),\n",
    "            showline=True,\n",
    "            linewidth=1,\n",
    "            linecolor=\"black\",\n",
    "        ),\n",
    "        # xaxis_title=\"Age (Month)\",\n",
    "        hovermode=\"x\",\n",
    "        plot_bgcolor=\"white\",\n",
    "        margin=dict(l=0, r=20, t=30, b=60),\n",
    "    )\n",
    "\n",
    "    fig.show()"
   ]
  },
  {
   "cell_type": "code",
   "execution_count": 469,
   "metadata": {},
   "outputs": [],
   "source": [
    "# move labels inside and make them 20k etc, add dashed horizontal lines for tickets\n",
    "# annotate the marker for the total\n",
    "# and notches"
   ]
  },
  {
   "cell_type": "code",
   "execution_count": 470,
   "metadata": {},
   "outputs": [
    {
     "data": {
      "application/vnd.plotly.v1+json": {
       "config": {
        "plotlyServerURL": "https://plot.ly"
       },
       "data": [
        {
         "hovertemplate": "<b>Cumulative Cost</b>: $%{y:,.0f}",
         "line": {
          "color": "rgba(60,60,60,0.25)"
         },
         "mode": "lines",
         "name": "A",
         "showlegend": false,
         "type": "scatter",
         "x": [
          0,
          1,
          2,
          3,
          4,
          5,
          6,
          7,
          8,
          9,
          10,
          11,
          12,
          13,
          14,
          15,
          16,
          17,
          18,
          19,
          20,
          21,
          22,
          23,
          24,
          25,
          26,
          27,
          28,
          29,
          30,
          31,
          32,
          33,
          34,
          35,
          36,
          37,
          38,
          39,
          40,
          41,
          42,
          43,
          44,
          45,
          46,
          47,
          48,
          49,
          50,
          51,
          52,
          53,
          54,
          55,
          56,
          57,
          58,
          59,
          60,
          61,
          62,
          63,
          64,
          65,
          66,
          67,
          68,
          69,
          70,
          71
         ],
         "xaxis": "x",
         "y": [
          -5024.202344555937,
          -4887.327475253762,
          -4689.781810949651,
          -4041.7374254643432,
          -2219.095797014032,
          -483.1374788233561,
          0,
          907.6847819367749,
          2132.2795931713363,
          3768.5023401272792,
          4049.6611055601916,
          5495.46300317046,
          5519.535950436197,
          7328.654972403336,
          8662.131422967597,
          10473.568043851665,
          11369.211864403775,
          12467.692867658925,
          12694.534186434457,
          14141.272249629152,
          15247.622274012365,
          17548.05597452123,
          17819.92106732339,
          18517.960165308898,
          20475.659108241984,
          20984.96793723105,
          21308.14409114101,
          21525.994313975512,
          21527.54057117323,
          21713.347841818504,
          23196.952812031705,
          23231.743433644137,
          23274.405606145767,
          23495.585839240382,
          23531.60092461999,
          23606.65495298209,
          24157.747827309468,
          25674.580166004627,
          26291.38956766184,
          26981.644259937857,
          27179.826537023757,
          27957.816194907624,
          29487.965027322018,
          30765.988867078042,
          32436.41373590919,
          33133.58403719934,
          33340.08689027536,
          34128.05659862841,
          34270.63602472292,
          35084.31466977146,
          36038.0936633775,
          36385.9338636335,
          36997.436024516435,
          37017.250982030404,
          37312.82171521327,
          37551.760247547616,
          38478.14913019493,
          39317.98053823996,
          40278.55742313111,
          40522.40995658353,
          40722.46791710235,
          40881.80807025784,
          41837.72427630228,
          42023.886001027095,
          42763.91656501101,
          43413.05008063336,
          43528.14160002794,
          44579.3095477197,
          44967.930444495156,
          45005.548301787196,
          45867.75511166024,
          47603.789472188844
         ],
         "yaxis": "y"
        },
        {
         "hovertemplate": "<b>Cumulative Cost</b>: $%{y:,.0f}",
         "line": {
          "color": "rgba(65,40,200,1)"
         },
         "mode": "lines",
         "name": "B",
         "opacity": 0.2,
         "showlegend": false,
         "type": "scatter",
         "x": [
          0,
          1,
          2,
          3,
          4,
          5
         ],
         "xaxis": "x",
         "y": [
          -10048.404689111874,
          -9774.654950507524,
          -9379.563621899302,
          -8083.4748509286865,
          -4438.191594028064,
          -966.2749576467122
         ],
         "yaxis": "y"
        },
        {
         "hovertemplate": "<b>Cumulative Cost</b>: $%{y:,.0f}",
         "line": {
          "color": "rgba(65,40,200,1)"
         },
         "mode": "lines",
         "name": "B",
         "opacity": 0.2,
         "showlegend": false,
         "type": "scatter",
         "x": [
          55,
          56,
          57,
          58,
          59,
          60,
          61,
          62,
          63,
          64,
          65,
          66,
          67,
          68,
          69,
          70,
          71
         ],
         "xaxis": "x",
         "y": [
          75103.52049509523,
          76956.29826038986,
          78635.96107647991,
          80557.11484626222,
          81044.81991316706,
          81444.9358342047,
          81763.61614051567,
          83675.44855260456,
          84047.77200205419,
          85527.83313002202,
          86826.10016126672,
          87056.28320005588,
          89158.6190954394,
          89935.86088899031,
          90011.09660357439,
          91735.51022332048,
          95207.57894437769
         ],
         "yaxis": "y"
        },
        {
         "hovertemplate": "<b>Cumulative Cost</b>: $%{y:,.0f}",
         "line": {
          "color": "rgba(65,40,200,1)"
         },
         "mode": "lines",
         "name": "B",
         "opacity": 1,
         "showlegend": false,
         "type": "scatter",
         "x": [
          6,
          7,
          8,
          9,
          10,
          11,
          12,
          13,
          14,
          15,
          16,
          17,
          18,
          19,
          20,
          21,
          22,
          23,
          24,
          25,
          26,
          27,
          28,
          29,
          30,
          31,
          32,
          33,
          34,
          35,
          36,
          37,
          38,
          39,
          40,
          41,
          42,
          43,
          44,
          45,
          46,
          47,
          48,
          49,
          50,
          51,
          52,
          53,
          54
         ],
         "xaxis": "x",
         "y": [
          0,
          1815.3695638735499,
          4264.559186342673,
          7537.0046802545585,
          8099.322211120383,
          10990.92600634092,
          11039.071900872394,
          14657.309944806671,
          17324.262845935194,
          20947.13608770333,
          22738.42372880755,
          24935.38573531785,
          25389.068372868915,
          28282.544499258303,
          30495.24454802473,
          35096.11194904246,
          35639.84213464678,
          37035.920330617795,
          40951.31821648397,
          41969.9358744621,
          42616.28818228202,
          43051.988627951025,
          43055.08114234646,
          43426.69568363701,
          46393.90562406341,
          46463.48686728827,
          46548.81121229153,
          46991.171678480765,
          47063.20184923998,
          47213.30990596418,
          48315.495654618935,
          51349.160332009254,
          52582.77913532368,
          53963.288519875714,
          54359.653074047514,
          55915.63238981525,
          58975.930054644035,
          61531.977734156084,
          64872.82747181838,
          66267.16807439868,
          66680.17378055071,
          68256.11319725683,
          68541.27204944583,
          70168.62933954292,
          72076.187326755,
          72771.867727267,
          73994.87204903287,
          74034.50196406081,
          74625.64343042654
         ],
         "yaxis": "y"
        },
        {
         "hovertemplate": "<b>Cumulative Cost</b>: $%{y:,.0f}",
         "line": {
          "color": "rgba(60,60,60,0.25)"
         },
         "mode": "lines",
         "name": "C",
         "showlegend": false,
         "type": "scatter",
         "x": [
          0,
          1,
          2,
          3,
          4,
          5,
          6,
          7,
          8,
          9,
          10,
          11,
          12,
          13,
          14,
          15,
          16,
          17,
          18,
          19,
          20,
          21,
          22,
          23,
          24,
          25,
          26,
          27,
          28,
          29,
          30,
          31,
          32,
          33,
          34,
          35,
          36,
          37,
          38,
          39,
          40,
          41,
          42,
          43,
          44,
          45,
          46,
          47,
          48,
          49,
          50,
          51,
          52,
          53,
          54,
          55,
          56,
          57,
          58,
          59,
          60,
          61,
          62,
          63,
          64,
          65,
          66,
          67,
          68,
          69,
          70,
          71
         ],
         "xaxis": "x",
         "y": [
          -15072.607033667815,
          -14661.982425761285,
          -14069.345432848955,
          -12125.212276393031,
          -6657.2873910420985,
          -1449.4124364700692,
          0,
          2723.054345810324,
          6396.838779514008,
          11305.507020381836,
          12148.983316680573,
          16486.389009511382,
          16558.60785130859,
          21985.964917210003,
          25986.39426890279,
          31420.704131554994,
          34107.63559321132,
          37403.07860297677,
          38083.60255930337,
          42423.81674888745,
          45742.8668220371,
          52644.16792356369,
          53459.76320197016,
          55553.88049592669,
          61426.977324725936,
          62954.90381169314,
          63924.43227342303,
          64577.98294192654,
          64582.621713519686,
          65140.04352545551,
          69590.85843609512,
          69695.23030093242,
          69823.2168184373,
          70486.75751772115,
          70594.80277385996,
          70819.96485894627,
          72473.2434819284,
          77023.74049801388,
          78874.16870298551,
          80944.93277981356,
          81539.47961107126,
          83873.44858472288,
          88463.89508196604,
          92297.96660123413,
          97309.24120772758,
          99400.752111598,
          100020.26067082607,
          102384.16979588525,
          102811.90807416875,
          105252.94400931438,
          108114.28099013248,
          109157.80159090049,
          110992.3080735493,
          111051.7529460912,
          111938.46514563981,
          112655.28074264285,
          115434.4473905848,
          117953.94161471986,
          120835.67226939334,
          121567.22986975059,
          122167.40375130705,
          122645.42421077352,
          125513.17282890686,
          126071.65800308128,
          128291.74969503301,
          130239.15024190006,
          130584.42480008383,
          133737.9286431591,
          134903.79133348545,
          135016.64490536158,
          137603.26533498074,
          142811.36841656652
         ],
         "yaxis": "y"
        },
        {
         "hoverinfo": "skip",
         "marker": {
          "color": "rgba(95,40,200,1)",
          "size": 6
         },
         "mode": "markers",
         "showlegend": false,
         "type": "scatter",
         "x": [
          6,
          54
         ],
         "xaxis": "x",
         "y": [
          0,
          74625.64343042654
         ],
         "yaxis": "y"
        },
        {
         "hoverinfo": "skip",
         "line": {
          "color": "rgba(65,40,200,1)"
         },
         "mode": "lines",
         "opacity": 0.2,
         "showlegend": false,
         "type": "scatter",
         "x": [
          0,
          0,
          0,
          0,
          0,
          0
         ],
         "xaxis": "x",
         "y": [
          -10048.404689111874,
          -9774.654950507524,
          -9379.563621899302,
          -8083.4748509286865,
          -4438.191594028064,
          -966.2749576467122
         ],
         "yaxis": "y"
        },
        {
         "hoverinfo": "skip",
         "line": {
          "color": "rgba(65,40,200,1)"
         },
         "mode": "lines",
         "opacity": 0.2,
         "showlegend": false,
         "type": "scatter",
         "x": [
          0,
          0,
          0,
          0,
          0,
          0,
          0,
          0,
          0,
          0,
          0,
          0,
          0,
          0,
          0,
          0,
          0
         ],
         "xaxis": "x",
         "y": [
          75103.52049509523,
          76956.29826038986,
          78635.96107647991,
          80557.11484626222,
          81044.81991316706,
          81444.9358342047,
          81763.61614051567,
          83675.44855260456,
          84047.77200205419,
          85527.83313002202,
          86826.10016126672,
          87056.28320005588,
          89158.6190954394,
          89935.86088899031,
          90011.09660357439,
          91735.51022332048,
          95207.57894437769
         ],
         "yaxis": "y"
        },
        {
         "hoverinfo": "skip",
         "line": {
          "color": "rgba(65,40,200,1)"
         },
         "mode": "lines",
         "opacity": 1,
         "showlegend": false,
         "type": "scatter",
         "x": [
          0,
          0,
          0,
          0,
          0,
          0,
          0,
          0,
          0,
          0,
          0,
          0,
          0,
          0,
          0,
          0,
          0,
          0,
          0,
          0,
          0,
          0,
          0,
          0,
          0,
          0,
          0,
          0,
          0,
          0,
          0,
          0,
          0,
          0,
          0,
          0,
          0,
          0,
          0,
          0,
          0,
          0,
          0,
          0,
          0,
          0,
          0,
          0,
          0
         ],
         "xaxis": "x",
         "y": [
          0,
          1815.3695638735499,
          4264.559186342673,
          7537.0046802545585,
          8099.322211120383,
          10990.92600634092,
          11039.071900872394,
          14657.309944806671,
          17324.262845935194,
          20947.13608770333,
          22738.42372880755,
          24935.38573531785,
          25389.068372868915,
          28282.544499258303,
          30495.24454802473,
          35096.11194904246,
          35639.84213464678,
          37035.920330617795,
          40951.31821648397,
          41969.9358744621,
          42616.28818228202,
          43051.988627951025,
          43055.08114234646,
          43426.69568363701,
          46393.90562406341,
          46463.48686728827,
          46548.81121229153,
          46991.171678480765,
          47063.20184923998,
          47213.30990596418,
          48315.495654618935,
          51349.160332009254,
          52582.77913532368,
          53963.288519875714,
          54359.653074047514,
          55915.63238981525,
          58975.930054644035,
          61531.977734156084,
          64872.82747181838,
          66267.16807439868,
          66680.17378055071,
          68256.11319725683,
          68541.27204944583,
          70168.62933954292,
          72076.187326755,
          72771.867727267,
          73994.87204903287,
          74034.50196406081,
          74625.64343042654
         ],
         "yaxis": "y"
        },
        {
         "hovertemplate": "<br><b>Cumulative Cost</b>: $%{y:,.0f}",
         "marker": {
          "color": "rgba(95,40,200,1)",
          "size": 6
         },
         "mode": "markers",
         "name": "B",
         "showlegend": false,
         "type": "scatter",
         "x": [
          0,
          0
         ],
         "xaxis": "x",
         "y": [
          0,
          74625.64343042654
         ],
         "yaxis": "y"
        },
        {
         "hoverinfo": "skip",
         "mode": "text",
         "showlegend": false,
         "text": [
          "$74,626"
         ],
         "textfont": {
          "color": "rgba(95,40,200,1)",
          "size": 16,
          "weight": "bold"
         },
         "textposition": "middle right",
         "type": "scatter",
         "x": [
          1
         ],
         "xaxis": "x",
         "y": [
          74625.64343042654
         ],
         "yaxis": "y"
        }
       ],
       "layout": {
        "font": {
         "size": 14
        },
        "height": 600,
        "hovermode": "x",
        "margin": {
         "b": 60,
         "l": 0,
         "r": 20,
         "t": 30
        },
        "plot_bgcolor": "white",
        "template": {
         "data": {
          "bar": [
           {
            "error_x": {
             "color": "#2a3f5f"
            },
            "error_y": {
             "color": "#2a3f5f"
            },
            "marker": {
             "line": {
              "color": "#E5ECF6",
              "width": 0.5
             },
             "pattern": {
              "fillmode": "overlay",
              "size": 10,
              "solidity": 0.2
             }
            },
            "type": "bar"
           }
          ],
          "barpolar": [
           {
            "marker": {
             "line": {
              "color": "#E5ECF6",
              "width": 0.5
             },
             "pattern": {
              "fillmode": "overlay",
              "size": 10,
              "solidity": 0.2
             }
            },
            "type": "barpolar"
           }
          ],
          "carpet": [
           {
            "aaxis": {
             "endlinecolor": "#2a3f5f",
             "gridcolor": "white",
             "linecolor": "white",
             "minorgridcolor": "white",
             "startlinecolor": "#2a3f5f"
            },
            "baxis": {
             "endlinecolor": "#2a3f5f",
             "gridcolor": "white",
             "linecolor": "white",
             "minorgridcolor": "white",
             "startlinecolor": "#2a3f5f"
            },
            "type": "carpet"
           }
          ],
          "choropleth": [
           {
            "colorbar": {
             "outlinewidth": 0,
             "ticks": ""
            },
            "type": "choropleth"
           }
          ],
          "contour": [
           {
            "colorbar": {
             "outlinewidth": 0,
             "ticks": ""
            },
            "colorscale": [
             [
              0,
              "#0d0887"
             ],
             [
              0.1111111111111111,
              "#46039f"
             ],
             [
              0.2222222222222222,
              "#7201a8"
             ],
             [
              0.3333333333333333,
              "#9c179e"
             ],
             [
              0.4444444444444444,
              "#bd3786"
             ],
             [
              0.5555555555555556,
              "#d8576b"
             ],
             [
              0.6666666666666666,
              "#ed7953"
             ],
             [
              0.7777777777777778,
              "#fb9f3a"
             ],
             [
              0.8888888888888888,
              "#fdca26"
             ],
             [
              1,
              "#f0f921"
             ]
            ],
            "type": "contour"
           }
          ],
          "contourcarpet": [
           {
            "colorbar": {
             "outlinewidth": 0,
             "ticks": ""
            },
            "type": "contourcarpet"
           }
          ],
          "heatmap": [
           {
            "colorbar": {
             "outlinewidth": 0,
             "ticks": ""
            },
            "colorscale": [
             [
              0,
              "#0d0887"
             ],
             [
              0.1111111111111111,
              "#46039f"
             ],
             [
              0.2222222222222222,
              "#7201a8"
             ],
             [
              0.3333333333333333,
              "#9c179e"
             ],
             [
              0.4444444444444444,
              "#bd3786"
             ],
             [
              0.5555555555555556,
              "#d8576b"
             ],
             [
              0.6666666666666666,
              "#ed7953"
             ],
             [
              0.7777777777777778,
              "#fb9f3a"
             ],
             [
              0.8888888888888888,
              "#fdca26"
             ],
             [
              1,
              "#f0f921"
             ]
            ],
            "type": "heatmap"
           }
          ],
          "heatmapgl": [
           {
            "colorbar": {
             "outlinewidth": 0,
             "ticks": ""
            },
            "colorscale": [
             [
              0,
              "#0d0887"
             ],
             [
              0.1111111111111111,
              "#46039f"
             ],
             [
              0.2222222222222222,
              "#7201a8"
             ],
             [
              0.3333333333333333,
              "#9c179e"
             ],
             [
              0.4444444444444444,
              "#bd3786"
             ],
             [
              0.5555555555555556,
              "#d8576b"
             ],
             [
              0.6666666666666666,
              "#ed7953"
             ],
             [
              0.7777777777777778,
              "#fb9f3a"
             ],
             [
              0.8888888888888888,
              "#fdca26"
             ],
             [
              1,
              "#f0f921"
             ]
            ],
            "type": "heatmapgl"
           }
          ],
          "histogram": [
           {
            "marker": {
             "pattern": {
              "fillmode": "overlay",
              "size": 10,
              "solidity": 0.2
             }
            },
            "type": "histogram"
           }
          ],
          "histogram2d": [
           {
            "colorbar": {
             "outlinewidth": 0,
             "ticks": ""
            },
            "colorscale": [
             [
              0,
              "#0d0887"
             ],
             [
              0.1111111111111111,
              "#46039f"
             ],
             [
              0.2222222222222222,
              "#7201a8"
             ],
             [
              0.3333333333333333,
              "#9c179e"
             ],
             [
              0.4444444444444444,
              "#bd3786"
             ],
             [
              0.5555555555555556,
              "#d8576b"
             ],
             [
              0.6666666666666666,
              "#ed7953"
             ],
             [
              0.7777777777777778,
              "#fb9f3a"
             ],
             [
              0.8888888888888888,
              "#fdca26"
             ],
             [
              1,
              "#f0f921"
             ]
            ],
            "type": "histogram2d"
           }
          ],
          "histogram2dcontour": [
           {
            "colorbar": {
             "outlinewidth": 0,
             "ticks": ""
            },
            "colorscale": [
             [
              0,
              "#0d0887"
             ],
             [
              0.1111111111111111,
              "#46039f"
             ],
             [
              0.2222222222222222,
              "#7201a8"
             ],
             [
              0.3333333333333333,
              "#9c179e"
             ],
             [
              0.4444444444444444,
              "#bd3786"
             ],
             [
              0.5555555555555556,
              "#d8576b"
             ],
             [
              0.6666666666666666,
              "#ed7953"
             ],
             [
              0.7777777777777778,
              "#fb9f3a"
             ],
             [
              0.8888888888888888,
              "#fdca26"
             ],
             [
              1,
              "#f0f921"
             ]
            ],
            "type": "histogram2dcontour"
           }
          ],
          "mesh3d": [
           {
            "colorbar": {
             "outlinewidth": 0,
             "ticks": ""
            },
            "type": "mesh3d"
           }
          ],
          "parcoords": [
           {
            "line": {
             "colorbar": {
              "outlinewidth": 0,
              "ticks": ""
             }
            },
            "type": "parcoords"
           }
          ],
          "pie": [
           {
            "automargin": true,
            "type": "pie"
           }
          ],
          "scatter": [
           {
            "fillpattern": {
             "fillmode": "overlay",
             "size": 10,
             "solidity": 0.2
            },
            "type": "scatter"
           }
          ],
          "scatter3d": [
           {
            "line": {
             "colorbar": {
              "outlinewidth": 0,
              "ticks": ""
             }
            },
            "marker": {
             "colorbar": {
              "outlinewidth": 0,
              "ticks": ""
             }
            },
            "type": "scatter3d"
           }
          ],
          "scattercarpet": [
           {
            "marker": {
             "colorbar": {
              "outlinewidth": 0,
              "ticks": ""
             }
            },
            "type": "scattercarpet"
           }
          ],
          "scattergeo": [
           {
            "marker": {
             "colorbar": {
              "outlinewidth": 0,
              "ticks": ""
             }
            },
            "type": "scattergeo"
           }
          ],
          "scattergl": [
           {
            "marker": {
             "colorbar": {
              "outlinewidth": 0,
              "ticks": ""
             }
            },
            "type": "scattergl"
           }
          ],
          "scattermapbox": [
           {
            "marker": {
             "colorbar": {
              "outlinewidth": 0,
              "ticks": ""
             }
            },
            "type": "scattermapbox"
           }
          ],
          "scatterpolar": [
           {
            "marker": {
             "colorbar": {
              "outlinewidth": 0,
              "ticks": ""
             }
            },
            "type": "scatterpolar"
           }
          ],
          "scatterpolargl": [
           {
            "marker": {
             "colorbar": {
              "outlinewidth": 0,
              "ticks": ""
             }
            },
            "type": "scatterpolargl"
           }
          ],
          "scatterternary": [
           {
            "marker": {
             "colorbar": {
              "outlinewidth": 0,
              "ticks": ""
             }
            },
            "type": "scatterternary"
           }
          ],
          "surface": [
           {
            "colorbar": {
             "outlinewidth": 0,
             "ticks": ""
            },
            "colorscale": [
             [
              0,
              "#0d0887"
             ],
             [
              0.1111111111111111,
              "#46039f"
             ],
             [
              0.2222222222222222,
              "#7201a8"
             ],
             [
              0.3333333333333333,
              "#9c179e"
             ],
             [
              0.4444444444444444,
              "#bd3786"
             ],
             [
              0.5555555555555556,
              "#d8576b"
             ],
             [
              0.6666666666666666,
              "#ed7953"
             ],
             [
              0.7777777777777778,
              "#fb9f3a"
             ],
             [
              0.8888888888888888,
              "#fdca26"
             ],
             [
              1,
              "#f0f921"
             ]
            ],
            "type": "surface"
           }
          ],
          "table": [
           {
            "cells": {
             "fill": {
              "color": "#EBF0F8"
             },
             "line": {
              "color": "white"
             }
            },
            "header": {
             "fill": {
              "color": "#C8D4E3"
             },
             "line": {
              "color": "white"
             }
            },
            "type": "table"
           }
          ]
         },
         "layout": {
          "annotationdefaults": {
           "arrowcolor": "#2a3f5f",
           "arrowhead": 0,
           "arrowwidth": 1
          },
          "autotypenumbers": "strict",
          "coloraxis": {
           "colorbar": {
            "outlinewidth": 0,
            "ticks": ""
           }
          },
          "colorscale": {
           "diverging": [
            [
             0,
             "#8e0152"
            ],
            [
             0.1,
             "#c51b7d"
            ],
            [
             0.2,
             "#de77ae"
            ],
            [
             0.3,
             "#f1b6da"
            ],
            [
             0.4,
             "#fde0ef"
            ],
            [
             0.5,
             "#f7f7f7"
            ],
            [
             0.6,
             "#e6f5d0"
            ],
            [
             0.7,
             "#b8e186"
            ],
            [
             0.8,
             "#7fbc41"
            ],
            [
             0.9,
             "#4d9221"
            ],
            [
             1,
             "#276419"
            ]
           ],
           "sequential": [
            [
             0,
             "#0d0887"
            ],
            [
             0.1111111111111111,
             "#46039f"
            ],
            [
             0.2222222222222222,
             "#7201a8"
            ],
            [
             0.3333333333333333,
             "#9c179e"
            ],
            [
             0.4444444444444444,
             "#bd3786"
            ],
            [
             0.5555555555555556,
             "#d8576b"
            ],
            [
             0.6666666666666666,
             "#ed7953"
            ],
            [
             0.7777777777777778,
             "#fb9f3a"
            ],
            [
             0.8888888888888888,
             "#fdca26"
            ],
            [
             1,
             "#f0f921"
            ]
           ],
           "sequentialminus": [
            [
             0,
             "#0d0887"
            ],
            [
             0.1111111111111111,
             "#46039f"
            ],
            [
             0.2222222222222222,
             "#7201a8"
            ],
            [
             0.3333333333333333,
             "#9c179e"
            ],
            [
             0.4444444444444444,
             "#bd3786"
            ],
            [
             0.5555555555555556,
             "#d8576b"
            ],
            [
             0.6666666666666666,
             "#ed7953"
            ],
            [
             0.7777777777777778,
             "#fb9f3a"
            ],
            [
             0.8888888888888888,
             "#fdca26"
            ],
            [
             1,
             "#f0f921"
            ]
           ]
          },
          "colorway": [
           "#636efa",
           "#EF553B",
           "#00cc96",
           "#ab63fa",
           "#FFA15A",
           "#19d3f3",
           "#FF6692",
           "#B6E880",
           "#FF97FF",
           "#FECB52"
          ],
          "font": {
           "color": "#2a3f5f"
          },
          "geo": {
           "bgcolor": "white",
           "lakecolor": "white",
           "landcolor": "#E5ECF6",
           "showlakes": true,
           "showland": true,
           "subunitcolor": "white"
          },
          "hoverlabel": {
           "align": "left"
          },
          "hovermode": "closest",
          "mapbox": {
           "style": "light"
          },
          "paper_bgcolor": "white",
          "plot_bgcolor": "#E5ECF6",
          "polar": {
           "angularaxis": {
            "gridcolor": "white",
            "linecolor": "white",
            "ticks": ""
           },
           "bgcolor": "#E5ECF6",
           "radialaxis": {
            "gridcolor": "white",
            "linecolor": "white",
            "ticks": ""
           }
          },
          "scene": {
           "xaxis": {
            "backgroundcolor": "#E5ECF6",
            "gridcolor": "white",
            "gridwidth": 2,
            "linecolor": "white",
            "showbackground": true,
            "ticks": "",
            "zerolinecolor": "white"
           },
           "yaxis": {
            "backgroundcolor": "#E5ECF6",
            "gridcolor": "white",
            "gridwidth": 2,
            "linecolor": "white",
            "showbackground": true,
            "ticks": "",
            "zerolinecolor": "white"
           },
           "zaxis": {
            "backgroundcolor": "#E5ECF6",
            "gridcolor": "white",
            "gridwidth": 2,
            "linecolor": "white",
            "showbackground": true,
            "ticks": "",
            "zerolinecolor": "white"
           }
          },
          "shapedefaults": {
           "line": {
            "color": "#2a3f5f"
           }
          },
          "ternary": {
           "aaxis": {
            "gridcolor": "white",
            "linecolor": "white",
            "ticks": ""
           },
           "baxis": {
            "gridcolor": "white",
            "linecolor": "white",
            "ticks": ""
           },
           "bgcolor": "#E5ECF6",
           "caxis": {
            "gridcolor": "white",
            "linecolor": "white",
            "ticks": ""
           }
          },
          "title": {
           "x": 0.05
          },
          "xaxis": {
           "automargin": true,
           "gridcolor": "white",
           "linecolor": "white",
           "ticks": "",
           "title": {
            "standoff": 15
           },
           "zerolinecolor": "white",
           "zerolinewidth": 2
          },
          "yaxis": {
           "automargin": true,
           "gridcolor": "white",
           "linecolor": "white",
           "ticks": "",
           "title": {
            "standoff": 15
           },
           "zerolinecolor": "white",
           "zerolinewidth": 2
          }
         }
        },
        "width": 800,
        "xaxis": {
         "anchor": "y",
         "domain": [
          0,
          1
         ],
         "linecolor": "black",
         "linewidth": 1,
         "range": [
          -10,
          72
         ],
         "showgrid": false,
         "showline": true,
         "tickangle": 0,
         "tickfont": {
          "size": 14
         },
         "ticks": "inside",
         "ticktext": [
          "0 <i>months</i>",
          "10",
          "20",
          "30",
          "40",
          "50",
          "60",
          "70"
         ],
         "tickvals": [
          0,
          10,
          20,
          30,
          40,
          50,
          60,
          70
         ]
        },
        "yaxis": {
         "anchor": "x",
         "domain": [
          0,
          1
         ],
         "gridcolor": "lightgray",
         "griddash": "dash",
         "gridwidth": 1,
         "range": [
          -15072.607033667815,
          142811.36841656652
         ],
         "showgrid": true,
         "showline": false,
         "showticklabels": true,
         "tickfont": {
          "color": "gray",
          "size": 15
         },
         "tickformat": "$~s",
         "ticklabelposition": "inside top",
         "tickmode": "array",
         "zeroline": false
        }
       }
      }
     },
     "metadata": {},
     "output_type": "display_data"
    }
   ],
   "source": [
    "plot_trend(data, \"x\", [\"A\", \"B\", \"C\"], \"B\", 6, 4 * 12 + 6)"
   ]
  },
  {
   "cell_type": "markdown",
   "metadata": {},
   "source": [
    "# Reference\n"
   ]
  },
  {
   "cell_type": "code",
   "execution_count": 415,
   "metadata": {},
   "outputs": [
    {
     "data": {
      "application/vnd.plotly.v1+json": {
       "config": {
        "plotlyServerURL": "https://plot.ly"
       },
       "data": [
        {
         "line": {
          "color": "#FF7F0E"
         },
         "name": "Chicken",
         "type": "scatter",
         "x": [
          1920,
          1940,
          1960,
          1980,
          2000,
          2020
         ],
         "y": [
          15,
          15,
          25,
          40,
          60,
          90
         ]
        },
        {
         "line": {
          "color": "#BCBCBC"
         },
         "name": "Beef",
         "type": "scatter",
         "x": [
          1920,
          1940,
          1960,
          1980,
          2000,
          2020
         ],
         "y": [
          50,
          60,
          70,
          75,
          65,
          55
         ]
        },
        {
         "line": {
          "color": "#DBDBDB"
         },
         "name": "Pork",
         "type": "scatter",
         "x": [
          1920,
          1940,
          1960,
          1980,
          2000,
          2020
         ],
         "y": [
          55,
          50,
          60,
          50,
          50,
          45
         ]
        },
        {
         "line": {
          "color": "#FFC000"
         },
         "name": "Cheese",
         "type": "scatter",
         "x": [
          1920,
          1940,
          1960,
          1980,
          2000,
          2020
         ],
         "y": [
          4,
          5,
          8,
          15,
          30,
          38
         ]
        },
        {
         "line": {
          "color": "#E5E5E5"
         },
         "name": "Yogurt",
         "type": "scatter",
         "x": [
          1920,
          1940,
          1960,
          1980,
          2000,
          2020
         ],
         "y": [
          0,
          0,
          2,
          5,
          10,
          14
         ]
        }
       ],
       "layout": {
        "legend": {
         "x": 1.02,
         "xanchor": "left",
         "y": 0.99,
         "yanchor": "top"
        },
        "margin": {
         "r": 100
        },
        "plot_bgcolor": "white",
        "template": {
         "data": {
          "bar": [
           {
            "error_x": {
             "color": "#2a3f5f"
            },
            "error_y": {
             "color": "#2a3f5f"
            },
            "marker": {
             "line": {
              "color": "#E5ECF6",
              "width": 0.5
             },
             "pattern": {
              "fillmode": "overlay",
              "size": 10,
              "solidity": 0.2
             }
            },
            "type": "bar"
           }
          ],
          "barpolar": [
           {
            "marker": {
             "line": {
              "color": "#E5ECF6",
              "width": 0.5
             },
             "pattern": {
              "fillmode": "overlay",
              "size": 10,
              "solidity": 0.2
             }
            },
            "type": "barpolar"
           }
          ],
          "carpet": [
           {
            "aaxis": {
             "endlinecolor": "#2a3f5f",
             "gridcolor": "white",
             "linecolor": "white",
             "minorgridcolor": "white",
             "startlinecolor": "#2a3f5f"
            },
            "baxis": {
             "endlinecolor": "#2a3f5f",
             "gridcolor": "white",
             "linecolor": "white",
             "minorgridcolor": "white",
             "startlinecolor": "#2a3f5f"
            },
            "type": "carpet"
           }
          ],
          "choropleth": [
           {
            "colorbar": {
             "outlinewidth": 0,
             "ticks": ""
            },
            "type": "choropleth"
           }
          ],
          "contour": [
           {
            "colorbar": {
             "outlinewidth": 0,
             "ticks": ""
            },
            "colorscale": [
             [
              0,
              "#0d0887"
             ],
             [
              0.1111111111111111,
              "#46039f"
             ],
             [
              0.2222222222222222,
              "#7201a8"
             ],
             [
              0.3333333333333333,
              "#9c179e"
             ],
             [
              0.4444444444444444,
              "#bd3786"
             ],
             [
              0.5555555555555556,
              "#d8576b"
             ],
             [
              0.6666666666666666,
              "#ed7953"
             ],
             [
              0.7777777777777778,
              "#fb9f3a"
             ],
             [
              0.8888888888888888,
              "#fdca26"
             ],
             [
              1,
              "#f0f921"
             ]
            ],
            "type": "contour"
           }
          ],
          "contourcarpet": [
           {
            "colorbar": {
             "outlinewidth": 0,
             "ticks": ""
            },
            "type": "contourcarpet"
           }
          ],
          "heatmap": [
           {
            "colorbar": {
             "outlinewidth": 0,
             "ticks": ""
            },
            "colorscale": [
             [
              0,
              "#0d0887"
             ],
             [
              0.1111111111111111,
              "#46039f"
             ],
             [
              0.2222222222222222,
              "#7201a8"
             ],
             [
              0.3333333333333333,
              "#9c179e"
             ],
             [
              0.4444444444444444,
              "#bd3786"
             ],
             [
              0.5555555555555556,
              "#d8576b"
             ],
             [
              0.6666666666666666,
              "#ed7953"
             ],
             [
              0.7777777777777778,
              "#fb9f3a"
             ],
             [
              0.8888888888888888,
              "#fdca26"
             ],
             [
              1,
              "#f0f921"
             ]
            ],
            "type": "heatmap"
           }
          ],
          "heatmapgl": [
           {
            "colorbar": {
             "outlinewidth": 0,
             "ticks": ""
            },
            "colorscale": [
             [
              0,
              "#0d0887"
             ],
             [
              0.1111111111111111,
              "#46039f"
             ],
             [
              0.2222222222222222,
              "#7201a8"
             ],
             [
              0.3333333333333333,
              "#9c179e"
             ],
             [
              0.4444444444444444,
              "#bd3786"
             ],
             [
              0.5555555555555556,
              "#d8576b"
             ],
             [
              0.6666666666666666,
              "#ed7953"
             ],
             [
              0.7777777777777778,
              "#fb9f3a"
             ],
             [
              0.8888888888888888,
              "#fdca26"
             ],
             [
              1,
              "#f0f921"
             ]
            ],
            "type": "heatmapgl"
           }
          ],
          "histogram": [
           {
            "marker": {
             "pattern": {
              "fillmode": "overlay",
              "size": 10,
              "solidity": 0.2
             }
            },
            "type": "histogram"
           }
          ],
          "histogram2d": [
           {
            "colorbar": {
             "outlinewidth": 0,
             "ticks": ""
            },
            "colorscale": [
             [
              0,
              "#0d0887"
             ],
             [
              0.1111111111111111,
              "#46039f"
             ],
             [
              0.2222222222222222,
              "#7201a8"
             ],
             [
              0.3333333333333333,
              "#9c179e"
             ],
             [
              0.4444444444444444,
              "#bd3786"
             ],
             [
              0.5555555555555556,
              "#d8576b"
             ],
             [
              0.6666666666666666,
              "#ed7953"
             ],
             [
              0.7777777777777778,
              "#fb9f3a"
             ],
             [
              0.8888888888888888,
              "#fdca26"
             ],
             [
              1,
              "#f0f921"
             ]
            ],
            "type": "histogram2d"
           }
          ],
          "histogram2dcontour": [
           {
            "colorbar": {
             "outlinewidth": 0,
             "ticks": ""
            },
            "colorscale": [
             [
              0,
              "#0d0887"
             ],
             [
              0.1111111111111111,
              "#46039f"
             ],
             [
              0.2222222222222222,
              "#7201a8"
             ],
             [
              0.3333333333333333,
              "#9c179e"
             ],
             [
              0.4444444444444444,
              "#bd3786"
             ],
             [
              0.5555555555555556,
              "#d8576b"
             ],
             [
              0.6666666666666666,
              "#ed7953"
             ],
             [
              0.7777777777777778,
              "#fb9f3a"
             ],
             [
              0.8888888888888888,
              "#fdca26"
             ],
             [
              1,
              "#f0f921"
             ]
            ],
            "type": "histogram2dcontour"
           }
          ],
          "mesh3d": [
           {
            "colorbar": {
             "outlinewidth": 0,
             "ticks": ""
            },
            "type": "mesh3d"
           }
          ],
          "parcoords": [
           {
            "line": {
             "colorbar": {
              "outlinewidth": 0,
              "ticks": ""
             }
            },
            "type": "parcoords"
           }
          ],
          "pie": [
           {
            "automargin": true,
            "type": "pie"
           }
          ],
          "scatter": [
           {
            "fillpattern": {
             "fillmode": "overlay",
             "size": 10,
             "solidity": 0.2
            },
            "type": "scatter"
           }
          ],
          "scatter3d": [
           {
            "line": {
             "colorbar": {
              "outlinewidth": 0,
              "ticks": ""
             }
            },
            "marker": {
             "colorbar": {
              "outlinewidth": 0,
              "ticks": ""
             }
            },
            "type": "scatter3d"
           }
          ],
          "scattercarpet": [
           {
            "marker": {
             "colorbar": {
              "outlinewidth": 0,
              "ticks": ""
             }
            },
            "type": "scattercarpet"
           }
          ],
          "scattergeo": [
           {
            "marker": {
             "colorbar": {
              "outlinewidth": 0,
              "ticks": ""
             }
            },
            "type": "scattergeo"
           }
          ],
          "scattergl": [
           {
            "marker": {
             "colorbar": {
              "outlinewidth": 0,
              "ticks": ""
             }
            },
            "type": "scattergl"
           }
          ],
          "scattermapbox": [
           {
            "marker": {
             "colorbar": {
              "outlinewidth": 0,
              "ticks": ""
             }
            },
            "type": "scattermapbox"
           }
          ],
          "scatterpolar": [
           {
            "marker": {
             "colorbar": {
              "outlinewidth": 0,
              "ticks": ""
             }
            },
            "type": "scatterpolar"
           }
          ],
          "scatterpolargl": [
           {
            "marker": {
             "colorbar": {
              "outlinewidth": 0,
              "ticks": ""
             }
            },
            "type": "scatterpolargl"
           }
          ],
          "scatterternary": [
           {
            "marker": {
             "colorbar": {
              "outlinewidth": 0,
              "ticks": ""
             }
            },
            "type": "scatterternary"
           }
          ],
          "surface": [
           {
            "colorbar": {
             "outlinewidth": 0,
             "ticks": ""
            },
            "colorscale": [
             [
              0,
              "#0d0887"
             ],
             [
              0.1111111111111111,
              "#46039f"
             ],
             [
              0.2222222222222222,
              "#7201a8"
             ],
             [
              0.3333333333333333,
              "#9c179e"
             ],
             [
              0.4444444444444444,
              "#bd3786"
             ],
             [
              0.5555555555555556,
              "#d8576b"
             ],
             [
              0.6666666666666666,
              "#ed7953"
             ],
             [
              0.7777777777777778,
              "#fb9f3a"
             ],
             [
              0.8888888888888888,
              "#fdca26"
             ],
             [
              1,
              "#f0f921"
             ]
            ],
            "type": "surface"
           }
          ],
          "table": [
           {
            "cells": {
             "fill": {
              "color": "#EBF0F8"
             },
             "line": {
              "color": "white"
             }
            },
            "header": {
             "fill": {
              "color": "#C8D4E3"
             },
             "line": {
              "color": "white"
             }
            },
            "type": "table"
           }
          ]
         },
         "layout": {
          "annotationdefaults": {
           "arrowcolor": "#2a3f5f",
           "arrowhead": 0,
           "arrowwidth": 1
          },
          "autotypenumbers": "strict",
          "coloraxis": {
           "colorbar": {
            "outlinewidth": 0,
            "ticks": ""
           }
          },
          "colorscale": {
           "diverging": [
            [
             0,
             "#8e0152"
            ],
            [
             0.1,
             "#c51b7d"
            ],
            [
             0.2,
             "#de77ae"
            ],
            [
             0.3,
             "#f1b6da"
            ],
            [
             0.4,
             "#fde0ef"
            ],
            [
             0.5,
             "#f7f7f7"
            ],
            [
             0.6,
             "#e6f5d0"
            ],
            [
             0.7,
             "#b8e186"
            ],
            [
             0.8,
             "#7fbc41"
            ],
            [
             0.9,
             "#4d9221"
            ],
            [
             1,
             "#276419"
            ]
           ],
           "sequential": [
            [
             0,
             "#0d0887"
            ],
            [
             0.1111111111111111,
             "#46039f"
            ],
            [
             0.2222222222222222,
             "#7201a8"
            ],
            [
             0.3333333333333333,
             "#9c179e"
            ],
            [
             0.4444444444444444,
             "#bd3786"
            ],
            [
             0.5555555555555556,
             "#d8576b"
            ],
            [
             0.6666666666666666,
             "#ed7953"
            ],
            [
             0.7777777777777778,
             "#fb9f3a"
            ],
            [
             0.8888888888888888,
             "#fdca26"
            ],
            [
             1,
             "#f0f921"
            ]
           ],
           "sequentialminus": [
            [
             0,
             "#0d0887"
            ],
            [
             0.1111111111111111,
             "#46039f"
            ],
            [
             0.2222222222222222,
             "#7201a8"
            ],
            [
             0.3333333333333333,
             "#9c179e"
            ],
            [
             0.4444444444444444,
             "#bd3786"
            ],
            [
             0.5555555555555556,
             "#d8576b"
            ],
            [
             0.6666666666666666,
             "#ed7953"
            ],
            [
             0.7777777777777778,
             "#fb9f3a"
            ],
            [
             0.8888888888888888,
             "#fdca26"
            ],
            [
             1,
             "#f0f921"
            ]
           ]
          },
          "colorway": [
           "#636efa",
           "#EF553B",
           "#00cc96",
           "#ab63fa",
           "#FFA15A",
           "#19d3f3",
           "#FF6692",
           "#B6E880",
           "#FF97FF",
           "#FECB52"
          ],
          "font": {
           "color": "#2a3f5f"
          },
          "geo": {
           "bgcolor": "white",
           "lakecolor": "white",
           "landcolor": "#E5ECF6",
           "showlakes": true,
           "showland": true,
           "subunitcolor": "white"
          },
          "hoverlabel": {
           "align": "left"
          },
          "hovermode": "closest",
          "mapbox": {
           "style": "light"
          },
          "paper_bgcolor": "white",
          "plot_bgcolor": "#E5ECF6",
          "polar": {
           "angularaxis": {
            "gridcolor": "white",
            "linecolor": "white",
            "ticks": ""
           },
           "bgcolor": "#E5ECF6",
           "radialaxis": {
            "gridcolor": "white",
            "linecolor": "white",
            "ticks": ""
           }
          },
          "scene": {
           "xaxis": {
            "backgroundcolor": "#E5ECF6",
            "gridcolor": "white",
            "gridwidth": 2,
            "linecolor": "white",
            "showbackground": true,
            "ticks": "",
            "zerolinecolor": "white"
           },
           "yaxis": {
            "backgroundcolor": "#E5ECF6",
            "gridcolor": "white",
            "gridwidth": 2,
            "linecolor": "white",
            "showbackground": true,
            "ticks": "",
            "zerolinecolor": "white"
           },
           "zaxis": {
            "backgroundcolor": "#E5ECF6",
            "gridcolor": "white",
            "gridwidth": 2,
            "linecolor": "white",
            "showbackground": true,
            "ticks": "",
            "zerolinecolor": "white"
           }
          },
          "shapedefaults": {
           "line": {
            "color": "#2a3f5f"
           }
          },
          "ternary": {
           "aaxis": {
            "gridcolor": "white",
            "linecolor": "white",
            "ticks": ""
           },
           "baxis": {
            "gridcolor": "white",
            "linecolor": "white",
            "ticks": ""
           },
           "bgcolor": "#E5ECF6",
           "caxis": {
            "gridcolor": "white",
            "linecolor": "white",
            "ticks": ""
           }
          },
          "title": {
           "x": 0.05
          },
          "xaxis": {
           "automargin": true,
           "gridcolor": "white",
           "linecolor": "white",
           "ticks": "",
           "title": {
            "standoff": 15
           },
           "zerolinecolor": "white",
           "zerolinewidth": 2
          },
          "yaxis": {
           "automargin": true,
           "gridcolor": "white",
           "linecolor": "white",
           "ticks": "",
           "title": {
            "standoff": 15
           },
           "zerolinecolor": "white",
           "zerolinewidth": 2
          }
         }
        },
        "title": {
         "text": "Americans' Changing Diet<br><span style='font-size:14px;color:gray'>80 pounds per person</span>",
         "x": 0.05,
         "xanchor": "left",
         "y": 0.95,
         "yanchor": "top"
        },
        "xaxis": {
         "anchor": "y",
         "domain": [
          0,
          1
         ],
         "dtick": 20,
         "range": [
          1920,
          2020
         ],
         "showgrid": false,
         "showline": true,
         "showticklabels": true,
         "zeroline": false
        },
        "yaxis": {
         "anchor": "x",
         "domain": [
          0,
          1
         ],
         "gridcolor": "lightgray",
         "griddash": "dash",
         "gridwidth": 1,
         "range": [
          0,
          90
         ],
         "showgrid": true,
         "showline": false,
         "showticklabels": true,
         "tickfont": {
          "color": "gray"
         },
         "ticklabelposition": "inside top",
         "tickmode": "array",
         "ticktext": [
          "20",
          "40",
          "60",
          "80"
         ],
         "tickvals": [
          20,
          40,
          60,
          80
         ],
         "zeroline": false
        }
       }
      }
     },
     "metadata": {},
     "output_type": "display_data"
    }
   ],
   "source": [
    "import plotly.graph_objects as go\n",
    "from plotly.subplots import make_subplots\n",
    "\n",
    "# Sample data (you'd replace this with your actual data)\n",
    "years = list(range(1920, 2021, 20))\n",
    "chicken = [15, 15, 25, 40, 60, 90]\n",
    "beef = [50, 60, 70, 75, 65, 55]\n",
    "pork = [55, 50, 60, 50, 50, 45]\n",
    "cheese = [4, 5, 8, 15, 30, 38]\n",
    "yogurt = [0, 0, 2, 5, 10, 14]\n",
    "\n",
    "# Create the figure\n",
    "fig = make_subplots(rows=1, cols=1)\n",
    "\n",
    "# Add traces for each food type\n",
    "fig.add_trace(\n",
    "    go.Scatter(x=years, y=chicken, name=\"Chicken\", line=dict(color=\"#FF7F0E\"))\n",
    ")\n",
    "fig.add_trace(\n",
    "    go.Scatter(x=years, y=beef, name=\"Beef\", line=dict(color=\"#BCBCBC\"))\n",
    ")\n",
    "fig.add_trace(\n",
    "    go.Scatter(x=years, y=pork, name=\"Pork\", line=dict(color=\"#DBDBDB\"))\n",
    ")\n",
    "fig.add_trace(\n",
    "    go.Scatter(x=years, y=cheese, name=\"Cheese\", line=dict(color=\"#FFC000\"))\n",
    ")\n",
    "fig.add_trace(\n",
    "    go.Scatter(x=years, y=yogurt, name=\"Yogurt\", line=dict(color=\"#E5E5E5\"))\n",
    ")\n",
    "\n",
    "# Update layout\n",
    "fig.update_layout(\n",
    "    title={\n",
    "        \"text\": \"Americans' Changing Diet<br><span style='font-size:14px;color:gray'>80 pounds per person</span>\",\n",
    "        \"y\": 0.95,\n",
    "        \"x\": 0.05,\n",
    "        \"xanchor\": \"left\",\n",
    "        \"yanchor\": \"top\",\n",
    "    },\n",
    "    xaxis=dict(\n",
    "        showgrid=False,\n",
    "        zeroline=False,\n",
    "        showline=True,\n",
    "        showticklabels=True,\n",
    "        range=[1920, 2020],\n",
    "        dtick=20,\n",
    "    ),\n",
    "    yaxis=dict(\n",
    "        showgrid=True,\n",
    "        gridcolor=\"lightgray\",\n",
    "        gridwidth=1,\n",
    "        griddash=\"dash\",\n",
    "        zeroline=False,\n",
    "        showline=False,\n",
    "        showticklabels=True,\n",
    "        tickmode=\"array\",\n",
    "        tickvals=[20, 40, 60, 80],\n",
    "        ticktext=[\"20\", \"40\", \"60\", \"80\"],\n",
    "        ticklabelposition=\"inside top\",\n",
    "        range=[0, 90],\n",
    "        tickfont=dict(color=\"gray\"),\n",
    "    ),\n",
    "    legend=dict(yanchor=\"top\", y=0.99, xanchor=\"left\", x=1.02),\n",
    "    margin=dict(r=100),  # Add right margin for legend\n",
    "    plot_bgcolor=\"white\",\n",
    ")\n",
    "\n",
    "fig.show()"
   ]
  },
  {
   "cell_type": "markdown",
   "metadata": {},
   "source": [
    "## Old Code\n"
   ]
  },
  {
   "cell_type": "code",
   "execution_count": null,
   "metadata": {},
   "outputs": [],
   "source": [
    "def add_vrect(fig, l, r, x_min, x_max):\n",
    "    fig.add_vrect(\n",
    "        x0=x_min,\n",
    "        x1=l,\n",
    "        fillcolor=\"black\",\n",
    "        opacity=0.2,\n",
    "        line_width=0,\n",
    "        row=1,\n",
    "        col=1,\n",
    "    )\n",
    "    fig.add_vrect(\n",
    "        x0=r,\n",
    "        x1=x_max,\n",
    "        fillcolor=\"black\",\n",
    "        opacity=0.2,\n",
    "        line_width=0,\n",
    "        row=1,\n",
    "        col=1,\n",
    "    )\n",
    "\n",
    "\n",
    "def add_hrect(fig, b, t, y_min, y_max):\n",
    "    fig.add_hrect(\n",
    "        y0=y_min,\n",
    "        y1=b,\n",
    "        fillcolor=\"black\",\n",
    "        opacity=0.2,\n",
    "        line_width=0,\n",
    "        row=1,\n",
    "        col=1,\n",
    "    )\n",
    "    fig.add_hrect(\n",
    "        y0=t,\n",
    "        y1=y_max,\n",
    "        fillcolor=\"black\",\n",
    "        opacity=0.2,\n",
    "        line_width=0,\n",
    "        row=1,\n",
    "        col=1,\n",
    "    )\n",
    "\n",
    "\n",
    "def add_lines(fig, l, r, b, t):\n",
    "    fig.add_vline(\n",
    "        x=l, line_width=1, line_dash=\"dot\", line_color=\"black\", opacity=0.5\n",
    "    )\n",
    "\n",
    "    fig.add_vline(\n",
    "        x=r, line_width=1, line_dash=\"dot\", line_color=\"black\", opacity=0.5\n",
    "    )\n",
    "\n",
    "    fig.add_hline(\n",
    "        y=b, line_width=1, line_dash=\"dot\", line_color=\"black\", opacity=0.5\n",
    "    )\n",
    "\n",
    "    fig.add_hline(\n",
    "        y=t, line_width=1, line_dash=\"dot\", line_color=\"black\", opacity=0.5\n",
    "    )"
   ]
  }
 ],
 "metadata": {
  "kernelspec": {
   "display_name": "creche",
   "language": "python",
   "name": "python3"
  },
  "language_info": {
   "codemirror_mode": {
    "name": "ipython",
    "version": 3
   },
   "file_extension": ".py",
   "mimetype": "text/x-python",
   "name": "python",
   "nbconvert_exporter": "python",
   "pygments_lexer": "ipython3",
   "version": "3.12.5"
  }
 },
 "nbformat": 4,
 "nbformat_minor": 2
}
