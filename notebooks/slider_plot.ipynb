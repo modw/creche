{
 "cells": [
  {
   "cell_type": "code",
   "execution_count": 30,
   "metadata": {},
   "outputs": [],
   "source": [
    "import plotly.graph_objects as go\n",
    "from plotly.subplots import make_subplots\n",
    "import numpy as np\n",
    "import pandas as pd"
   ]
  },
  {
   "cell_type": "code",
   "execution_count": 129,
   "metadata": {},
   "outputs": [],
   "source": [
    "n = 5 * 12 + 6\n",
    "x = np.arange(n)\n",
    "y = np.abs(np.random.randn(n))\n",
    "y_cs = np.cumsum(y) * 1000\n",
    "\n",
    "data = pd.DataFrame({\"x\": x, \"y\": y, \"A\": y_cs, \"B\": 2 * y_cs, \"C\": 3 * y_cs})"
   ]
  },
  {
   "cell_type": "code",
   "execution_count": 194,
   "metadata": {},
   "outputs": [],
   "source": [
    "def sum_lines_traces(data, ycols, ycol_highlight, left, right, xcol):\n",
    "    hover_template = (\n",
    "        \"<b>Month</b>: %{x}\" + \"<br><b>Cumulative Cost</b>: $%{y:,.0f}\"\n",
    "    )\n",
    "    traces = []\n",
    "    for column in ycols:\n",
    "        if column == ycol_highlight:\n",
    "            # plot from 0 to shade_l\n",
    "            data_left = data.loc[data[xcol] < left]\n",
    "            data_right = data.loc[data[xcol] > right]\n",
    "            data_middle = data.loc[(data[xcol] >= left) & (data[xcol] <= right)]\n",
    "\n",
    "            for d in [data_left, data_right, data_middle]:\n",
    "                opacity = 1 if d is data_middle else 0.2\n",
    "                traces.append(\n",
    "                    go.Scatter(\n",
    "                        x=d[xcol],\n",
    "                        y=d[column],\n",
    "                        mode=\"lines\",\n",
    "                        line=dict(color=\"rgba(65,40,200,1)\"),\n",
    "                        showlegend=False,\n",
    "                        opacity=opacity,\n",
    "                        hovertemplate=hover_template,\n",
    "                        name=column,\n",
    "                    )\n",
    "                )\n",
    "\n",
    "        else:\n",
    "            traces.append(\n",
    "                go.Scatter(\n",
    "                    x=data[xcol],\n",
    "                    y=data[column],\n",
    "                    mode=\"lines\",\n",
    "                    line=dict(color=\"rgba(60,60,60,0.25)\"),\n",
    "                    showlegend=False,\n",
    "                    hovertemplate=hover_template,\n",
    "                    name=column,\n",
    "                )\n",
    "            )\n",
    "\n",
    "    # add maker at left, right\n",
    "    y_l = data.loc[data[xcol] == left, ycol_highlight].values[0]\n",
    "    y_r = data.loc[data[xcol] == right, ycol_highlight].values[0]\n",
    "\n",
    "    traces.append(\n",
    "        go.Scatter(\n",
    "            x=[left, right],\n",
    "            y=[y_l, y_r],\n",
    "            mode=\"markers\",\n",
    "            marker=dict(color=\"rgba(95,40,200,1)\", size=6),\n",
    "            showlegend=False,\n",
    "            hoverinfo=\"skip\",\n",
    "        )\n",
    "    )\n",
    "\n",
    "    return traces"
   ]
  },
  {
   "cell_type": "code",
   "execution_count": 240,
   "metadata": {},
   "outputs": [],
   "source": [
    "def vertical_traces(data, ycol_highlight, left, right, xcol):\n",
    "\n",
    "    traces = []\n",
    "    # plot from 0 to shade_l\n",
    "    data_left = data.loc[data[xcol] < left, [ycol_highlight]]\n",
    "    data_right = data.loc[data[xcol] > right, [ycol_highlight]]\n",
    "    data_middle = data.loc[\n",
    "        (data[xcol] >= left) & (data[xcol] <= right), [ycol_highlight]\n",
    "    ]\n",
    "    for d in [data_left, data_right, data_middle]:\n",
    "        opacity = 1 if d is data_middle else 0.2\n",
    "        traces.append(\n",
    "            go.Scatter(\n",
    "                x=[0] * len(d),\n",
    "                y=d[ycol_highlight],\n",
    "                mode=\"lines\",\n",
    "                line=dict(color=\"rgba(65,40,200,1)\"),\n",
    "                showlegend=False,\n",
    "                opacity=opacity,\n",
    "                hoverinfo=\"skip\",\n",
    "            )\n",
    "        )\n",
    "\n",
    "    # add marker at left, right\n",
    "    y_l = data_middle[ycol_highlight].min()\n",
    "    y_r = data_middle[ycol_highlight].max()\n",
    "\n",
    "    traces.append(\n",
    "        go.Scatter(\n",
    "            x=[0, 0],\n",
    "            y=[y_l, y_r],\n",
    "            mode=\"markers\",\n",
    "            marker=dict(color=\"rgba(95,40,200,1)\", size=6),\n",
    "            showlegend=False,\n",
    "            hovertemplate=\"<br><b>Cumulative Cost</b>: $%{y:,.0f}\",\n",
    "            name=ycol_highlight,\n",
    "        )\n",
    "    )\n",
    "\n",
    "    traces.append(\n",
    "        go.Scatter(\n",
    "            x=[0],\n",
    "            y=[(y_r + y_l) / 2],\n",
    "            text=[f\"${y_r - y_l:,.0f}\"],\n",
    "            textfont=dict(size=12, color=\"rgba(95,40,200,1)\"),\n",
    "            textposition=\"middle center\",\n",
    "            hoverinfo=\"skip\",\n",
    "            mode=\"text\",\n",
    "            showlegend=False,\n",
    "        )\n",
    "    )\n",
    "\n",
    "    return traces"
   ]
  },
  {
   "cell_type": "code",
   "execution_count": 241,
   "metadata": {},
   "outputs": [],
   "source": [
    "def plot_trend(data, xcol, columns_included, column_highlight, left, right):\n",
    "    # subplots\n",
    "    fig = make_subplots(\n",
    "        rows=1,\n",
    "        cols=2,\n",
    "        column_widths=[8, 1],\n",
    "        row_heights=[8],\n",
    "        shared_yaxes=True,\n",
    "        horizontal_spacing=0.02,\n",
    "    )\n",
    "\n",
    "    # plot lines in the main plot\n",
    "\n",
    "    y_l = data.loc[data[xcol] == left, column_highlight].values[0]\n",
    "    y_r = data.loc[data[xcol] == right, column_highlight].values[0]\n",
    "\n",
    "    duration_sum = y_r - y_l\n",
    "\n",
    "    main_traces = sum_lines_traces(\n",
    "        data, columns_included, column_highlight, left, right, xcol\n",
    "    )\n",
    "\n",
    "    vert_traces = vertical_traces(data, column_highlight, left, right, xcol)\n",
    "\n",
    "    for trace in main_traces:\n",
    "        fig.add_trace(trace, row=1, col=1)\n",
    "\n",
    "    for trace in vert_traces:\n",
    "        fig.add_trace(trace, row=1, col=2)\n",
    "\n",
    "    for y in [y_l, y_r]:\n",
    "        fig.add_hline(y=y, line_dash=\"dot\", row=1, col=\"all\", opacity=0.5)\n",
    "\n",
    "    # hide tick labels from the right plot\n",
    "    fig.update_xaxes(\n",
    "        range=[-0.1, 0.1],\n",
    "        row=1,\n",
    "        col=2,\n",
    "        showgrid=False,  # This hides the vertical gridlines\n",
    "        tickformat=\"%d-%b\",  # This formats the tick labels (e.g., \"01-Jan\")\n",
    "    )\n",
    "\n",
    "    fig.update_layout(\n",
    "        font=dict(size=14),\n",
    "        width=800,\n",
    "        height=600,\n",
    "        title=f\"Total Cost: {duration_sum:.2f}\",\n",
    "        # ymin\n",
    "        yaxis=dict(\n",
    "            range=[0, data[columns_included].max().max()],\n",
    "            showgrid=False,\n",
    "        ),\n",
    "        xaxis=dict(\n",
    "            showgrid=False,\n",
    "        ),\n",
    "        xaxis_title=\"Month\",\n",
    "        yaxis_title=\"Cumulative Cost ($)\",\n",
    "        hovermode=\"x\",\n",
    "    )\n",
    "\n",
    "    # turn off grid\n",
    "    for i in range(1, 3):\n",
    "        fig.update_yaxes(showgrid=False, row=1, col=i)\n",
    "        fig.update_xaxes(showgrid=False, row=1, col=i)\n",
    "\n",
    "    fig.update_xaxes(showticklabels=False, row=1, col=2)\n",
    "\n",
    "    fig.show()"
   ]
  },
  {
   "cell_type": "code",
   "execution_count": 242,
   "metadata": {},
   "outputs": [
    {
     "data": {
      "application/vnd.plotly.v1+json": {
       "config": {
        "plotlyServerURL": "https://plot.ly"
       },
       "data": [
        {
         "hovertemplate": "<b>Month</b>: %{x}<br><b>Cumulative Cost</b>: $%{y:,0}",
         "line": {
          "color": "rgba(60,60,60,0.25)"
         },
         "mode": "lines",
         "name": "A",
         "showlegend": false,
         "type": "scatter",
         "x": [
          0,
          1,
          2,
          3,
          4,
          5,
          6,
          7,
          8,
          9,
          10,
          11,
          12,
          13,
          14,
          15,
          16,
          17,
          18,
          19,
          20,
          21,
          22,
          23,
          24,
          25,
          26,
          27,
          28,
          29,
          30,
          31,
          32,
          33,
          34,
          35,
          36,
          37,
          38,
          39,
          40,
          41,
          42,
          43,
          44,
          45,
          46,
          47,
          48,
          49,
          50,
          51,
          52,
          53,
          54,
          55,
          56,
          57,
          58,
          59,
          60,
          61,
          62,
          63,
          64,
          65
         ],
         "xaxis": "x",
         "y": [
          369.3010942345906,
          2256.320794964918,
          2447.67678772798,
          2991.1923859232556,
          3822.6465594472334,
          5277.218775145447,
          6792.733350320425,
          6886.011692943116,
          7696.994806833298,
          9196.761421713816,
          11612.242314057528,
          11998.408597411028,
          14274.876748715496,
          15367.619309171934,
          15380.466122025688,
          15541.660811229029,
          16391.759457687607,
          16421.5938414646,
          17008.154229849613,
          18083.804055897377,
          19038.967978424465,
          20058.527645303147,
          20836.437332096277,
          20846.423688397823,
          21926.66290549235,
          22401.63512092848,
          23885.092221792,
          24859.89454455746,
          25120.088777508656,
          25436.0010711485,
          26586.132510520783,
          29158.945044135107,
          30162.340782378476,
          30377.91010226235,
          32034.62884511017,
          33335.542338667365,
          33824.99562613124,
          34291.32487383475,
          35247.7796896584,
          35429.46244488593,
          35549.43805299485,
          36383.04676947557,
          38131.12628824148,
          38768.84051331189,
          39663.16425332727,
          41193.4147627369,
          41735.57387019393,
          44464.87153519128,
          44537.16322663883,
          45106.321481502826,
          45903.767425590726,
          46498.0447501288,
          47728.97738296629,
          48773.36241125325,
          50246.07254213003,
          51848.00141161407,
          52856.8219573372,
          54578.12264068721,
          55698.14342108045,
          55761.0848529193,
          55787.38701653109,
          56786.960174233966,
          58209.58693262061,
          58639.54502843541,
          58777.45857325016,
          59877.936515248875
         ],
         "yaxis": "y"
        },
        {
         "hovertemplate": "<b>Month</b>: %{x}<br><b>Cumulative Cost</b>: $%{y:,}",
         "line": {
          "color": "rgba(65,40,200,1)"
         },
         "mode": "lines",
         "name": "B",
         "opacity": 0.2,
         "showlegend": false,
         "type": "scatter",
         "x": [
          0,
          1,
          2,
          3,
          4,
          5
         ],
         "xaxis": "x",
         "y": [
          738.6021884691812,
          4512.641589929836,
          4895.35357545596,
          5982.384771846511,
          7645.293118894467,
          10554.437550290893
         ],
         "yaxis": "y"
        },
        {
         "hovertemplate": "<b>Month</b>: %{x}<br><b>Cumulative Cost</b>: $%{y:,}",
         "line": {
          "color": "rgba(65,40,200,1)"
         },
         "mode": "lines",
         "name": "B",
         "opacity": 0.2,
         "showlegend": false,
         "type": "scatter",
         "x": [
          55,
          56,
          57,
          58,
          59,
          60,
          61,
          62,
          63,
          64,
          65
         ],
         "xaxis": "x",
         "y": [
          103696.00282322813,
          105713.6439146744,
          109156.24528137442,
          111396.2868421609,
          111522.1697058386,
          111574.77403306217,
          113573.92034846793,
          116419.17386524122,
          117279.09005687082,
          117554.91714650032,
          119755.87303049775
         ],
         "yaxis": "y"
        },
        {
         "hovertemplate": "<b>Month</b>: %{x}<br><b>Cumulative Cost</b>: $%{y:,}",
         "line": {
          "color": "rgba(65,40,200,1)"
         },
         "mode": "lines",
         "name": "B",
         "opacity": 1,
         "showlegend": false,
         "type": "scatter",
         "x": [
          6,
          7,
          8,
          9,
          10,
          11,
          12,
          13,
          14,
          15,
          16,
          17,
          18,
          19,
          20,
          21,
          22,
          23,
          24,
          25,
          26,
          27,
          28,
          29,
          30,
          31,
          32,
          33,
          34,
          35,
          36,
          37,
          38,
          39,
          40,
          41,
          42,
          43,
          44,
          45,
          46,
          47,
          48,
          49,
          50,
          51,
          52,
          53,
          54
         ],
         "xaxis": "x",
         "y": [
          13585.46670064085,
          13772.023385886232,
          15393.989613666596,
          18393.522843427632,
          23224.484628115057,
          23996.817194822055,
          28549.753497430993,
          30735.23861834387,
          30760.932244051375,
          31083.321622458057,
          32783.518915375214,
          32843.1876829292,
          34016.30845969923,
          36167.608111794754,
          38077.93595684893,
          40117.055290606295,
          41672.87466419255,
          41692.847376795646,
          43853.3258109847,
          44803.27024185696,
          47770.184443584,
          49719.78908911492,
          50240.17755501731,
          50872.002142297,
          53172.26502104157,
          58317.890088270215,
          60324.68156475695,
          60755.8202045247,
          64069.25769022034,
          66671.08467733473,
          67649.99125226248,
          68582.6497476695,
          70495.5593793168,
          70858.92488977186,
          71098.8761059897,
          72766.09353895114,
          76262.25257648296,
          77537.68102662377,
          79326.32850665454,
          82386.8295254738,
          83471.14774038787,
          88929.74307038257,
          89074.32645327767,
          90212.64296300565,
          91807.53485118145,
          92996.0895002576,
          95457.95476593258,
          97546.7248225065,
          100492.14508426006
         ],
         "yaxis": "y"
        },
        {
         "hovertemplate": "<b>Month</b>: %{x}<br><b>Cumulative Cost</b>: $%{y:,0}",
         "line": {
          "color": "rgba(60,60,60,0.25)"
         },
         "mode": "lines",
         "name": "C",
         "showlegend": false,
         "type": "scatter",
         "x": [
          0,
          1,
          2,
          3,
          4,
          5,
          6,
          7,
          8,
          9,
          10,
          11,
          12,
          13,
          14,
          15,
          16,
          17,
          18,
          19,
          20,
          21,
          22,
          23,
          24,
          25,
          26,
          27,
          28,
          29,
          30,
          31,
          32,
          33,
          34,
          35,
          36,
          37,
          38,
          39,
          40,
          41,
          42,
          43,
          44,
          45,
          46,
          47,
          48,
          49,
          50,
          51,
          52,
          53,
          54,
          55,
          56,
          57,
          58,
          59,
          60,
          61,
          62,
          63,
          64,
          65
         ],
         "xaxis": "x",
         "y": [
          1107.9032827037718,
          6768.962384894754,
          7343.03036318394,
          8973.577157769767,
          11467.9396783417,
          15831.65632543634,
          20378.200050961277,
          20658.035078829347,
          23090.984420499895,
          27590.284265141447,
          34836.72694217259,
          35995.22579223308,
          42824.63024614649,
          46102.857927515804,
          46141.39836607706,
          46624.98243368709,
          49175.27837306282,
          49264.7815243938,
          51024.46268954884,
          54251.412167692135,
          57116.903935273396,
          60175.58293590944,
          62509.31199628883,
          62539.27106519347,
          65779.98871647705,
          67204.90536278544,
          71655.276665376,
          74579.68363367238,
          75360.26633252596,
          76308.00321344551,
          79758.39753156235,
          87476.83513240532,
          90487.02234713543,
          91133.73030678705,
          96103.8865353305,
          100006.6270160021,
          101474.98687839371,
          102873.97462150424,
          105743.33906897518,
          106288.3873346578,
          106648.31415898455,
          109149.14030842672,
          114393.37886472445,
          116306.52153993567,
          118989.4927599818,
          123580.2442882107,
          125206.7216105818,
          133394.61460557385,
          133611.4896799165,
          135318.96444450849,
          137711.30227677218,
          139494.13425038639,
          143186.93214889886,
          146320.08723375975,
          150738.2176263901,
          155544.0042348422,
          158570.46587201158,
          163734.36792206162,
          167094.43026324135,
          167283.2545587579,
          167362.16104959327,
          170360.8805227019,
          174628.76079786182,
          175918.63508530622,
          176332.37571975047,
          179633.80954574663
         ],
         "yaxis": "y"
        },
        {
         "hoverinfo": "skip",
         "marker": {
          "color": "rgba(95,40,200,1)",
          "size": 6
         },
         "mode": "markers",
         "showlegend": false,
         "type": "scatter",
         "x": [
          6,
          54
         ],
         "xaxis": "x",
         "y": [
          13585.46670064085,
          100492.14508426006
         ],
         "yaxis": "y"
        },
        {
         "hoverinfo": "skip",
         "line": {
          "color": "rgba(65,40,200,1)"
         },
         "mode": "lines",
         "opacity": 0.2,
         "showlegend": false,
         "type": "scatter",
         "x": [
          0,
          0,
          0,
          0,
          0,
          0
         ],
         "xaxis": "x2",
         "y": [
          738.6021884691812,
          4512.641589929836,
          4895.35357545596,
          5982.384771846511,
          7645.293118894467,
          10554.437550290893
         ],
         "yaxis": "y2"
        },
        {
         "hoverinfo": "skip",
         "line": {
          "color": "rgba(65,40,200,1)"
         },
         "mode": "lines",
         "opacity": 0.2,
         "showlegend": false,
         "type": "scatter",
         "x": [
          0,
          0,
          0,
          0,
          0,
          0,
          0,
          0,
          0,
          0,
          0
         ],
         "xaxis": "x2",
         "y": [
          103696.00282322813,
          105713.6439146744,
          109156.24528137442,
          111396.2868421609,
          111522.1697058386,
          111574.77403306217,
          113573.92034846793,
          116419.17386524122,
          117279.09005687082,
          117554.91714650032,
          119755.87303049775
         ],
         "yaxis": "y2"
        },
        {
         "hoverinfo": "skip",
         "line": {
          "color": "rgba(65,40,200,1)"
         },
         "mode": "lines",
         "opacity": 1,
         "showlegend": false,
         "type": "scatter",
         "x": [
          0,
          0,
          0,
          0,
          0,
          0,
          0,
          0,
          0,
          0,
          0,
          0,
          0,
          0,
          0,
          0,
          0,
          0,
          0,
          0,
          0,
          0,
          0,
          0,
          0,
          0,
          0,
          0,
          0,
          0,
          0,
          0,
          0,
          0,
          0,
          0,
          0,
          0,
          0,
          0,
          0,
          0,
          0,
          0,
          0,
          0,
          0,
          0,
          0
         ],
         "xaxis": "x2",
         "y": [
          13585.46670064085,
          13772.023385886232,
          15393.989613666596,
          18393.522843427632,
          23224.484628115057,
          23996.817194822055,
          28549.753497430993,
          30735.23861834387,
          30760.932244051375,
          31083.321622458057,
          32783.518915375214,
          32843.1876829292,
          34016.30845969923,
          36167.608111794754,
          38077.93595684893,
          40117.055290606295,
          41672.87466419255,
          41692.847376795646,
          43853.3258109847,
          44803.27024185696,
          47770.184443584,
          49719.78908911492,
          50240.17755501731,
          50872.002142297,
          53172.26502104157,
          58317.890088270215,
          60324.68156475695,
          60755.8202045247,
          64069.25769022034,
          66671.08467733473,
          67649.99125226248,
          68582.6497476695,
          70495.5593793168,
          70858.92488977186,
          71098.8761059897,
          72766.09353895114,
          76262.25257648296,
          77537.68102662377,
          79326.32850665454,
          82386.8295254738,
          83471.14774038787,
          88929.74307038257,
          89074.32645327767,
          90212.64296300565,
          91807.53485118145,
          92996.0895002576,
          95457.95476593258,
          97546.7248225065,
          100492.14508426006
         ],
         "yaxis": "y2"
        },
        {
         "hovertemplate": "<br><b>Cumulative Cost</b>: $%{y:,.0f}",
         "marker": {
          "color": "rgba(95,40,200,1)",
          "size": 6
         },
         "mode": "markers",
         "name": "B",
         "showlegend": false,
         "type": "scatter",
         "x": [
          0,
          0
         ],
         "xaxis": "x2",
         "y": [
          13585.46670064085,
          100492.14508426006
         ],
         "yaxis": "y2"
        },
        {
         "hoverinfo": "skip",
         "mode": "text",
         "showlegend": false,
         "text": [
          "$86,907"
         ],
         "textfont": {
          "color": "rgba(95,40,200,1)",
          "size": 12
         },
         "textposition": "middle center",
         "type": "scatter",
         "x": [
          0
         ],
         "xaxis": "x2",
         "y": [
          57038.80589245046
         ],
         "yaxis": "y2"
        }
       ],
       "layout": {
        "font": {
         "size": 14
        },
        "height": 600,
        "hovermode": "x",
        "shapes": [
         {
          "line": {
           "dash": "dot"
          },
          "opacity": 0.5,
          "type": "line",
          "x0": 0,
          "x1": 1,
          "xref": "x domain",
          "y0": 13585.46670064085,
          "y1": 13585.46670064085,
          "yref": "y"
         },
         {
          "line": {
           "dash": "dot"
          },
          "opacity": 0.5,
          "type": "line",
          "x0": 0,
          "x1": 1,
          "xref": "x2 domain",
          "y0": 13585.46670064085,
          "y1": 13585.46670064085,
          "yref": "y2"
         },
         {
          "line": {
           "dash": "dot"
          },
          "opacity": 0.5,
          "type": "line",
          "x0": 0,
          "x1": 1,
          "xref": "x domain",
          "y0": 100492.14508426006,
          "y1": 100492.14508426006,
          "yref": "y"
         },
         {
          "line": {
           "dash": "dot"
          },
          "opacity": 0.5,
          "type": "line",
          "x0": 0,
          "x1": 1,
          "xref": "x2 domain",
          "y0": 100492.14508426006,
          "y1": 100492.14508426006,
          "yref": "y2"
         }
        ],
        "template": {
         "data": {
          "bar": [
           {
            "error_x": {
             "color": "#2a3f5f"
            },
            "error_y": {
             "color": "#2a3f5f"
            },
            "marker": {
             "line": {
              "color": "#E5ECF6",
              "width": 0.5
             },
             "pattern": {
              "fillmode": "overlay",
              "size": 10,
              "solidity": 0.2
             }
            },
            "type": "bar"
           }
          ],
          "barpolar": [
           {
            "marker": {
             "line": {
              "color": "#E5ECF6",
              "width": 0.5
             },
             "pattern": {
              "fillmode": "overlay",
              "size": 10,
              "solidity": 0.2
             }
            },
            "type": "barpolar"
           }
          ],
          "carpet": [
           {
            "aaxis": {
             "endlinecolor": "#2a3f5f",
             "gridcolor": "white",
             "linecolor": "white",
             "minorgridcolor": "white",
             "startlinecolor": "#2a3f5f"
            },
            "baxis": {
             "endlinecolor": "#2a3f5f",
             "gridcolor": "white",
             "linecolor": "white",
             "minorgridcolor": "white",
             "startlinecolor": "#2a3f5f"
            },
            "type": "carpet"
           }
          ],
          "choropleth": [
           {
            "colorbar": {
             "outlinewidth": 0,
             "ticks": ""
            },
            "type": "choropleth"
           }
          ],
          "contour": [
           {
            "colorbar": {
             "outlinewidth": 0,
             "ticks": ""
            },
            "colorscale": [
             [
              0,
              "#0d0887"
             ],
             [
              0.1111111111111111,
              "#46039f"
             ],
             [
              0.2222222222222222,
              "#7201a8"
             ],
             [
              0.3333333333333333,
              "#9c179e"
             ],
             [
              0.4444444444444444,
              "#bd3786"
             ],
             [
              0.5555555555555556,
              "#d8576b"
             ],
             [
              0.6666666666666666,
              "#ed7953"
             ],
             [
              0.7777777777777778,
              "#fb9f3a"
             ],
             [
              0.8888888888888888,
              "#fdca26"
             ],
             [
              1,
              "#f0f921"
             ]
            ],
            "type": "contour"
           }
          ],
          "contourcarpet": [
           {
            "colorbar": {
             "outlinewidth": 0,
             "ticks": ""
            },
            "type": "contourcarpet"
           }
          ],
          "heatmap": [
           {
            "colorbar": {
             "outlinewidth": 0,
             "ticks": ""
            },
            "colorscale": [
             [
              0,
              "#0d0887"
             ],
             [
              0.1111111111111111,
              "#46039f"
             ],
             [
              0.2222222222222222,
              "#7201a8"
             ],
             [
              0.3333333333333333,
              "#9c179e"
             ],
             [
              0.4444444444444444,
              "#bd3786"
             ],
             [
              0.5555555555555556,
              "#d8576b"
             ],
             [
              0.6666666666666666,
              "#ed7953"
             ],
             [
              0.7777777777777778,
              "#fb9f3a"
             ],
             [
              0.8888888888888888,
              "#fdca26"
             ],
             [
              1,
              "#f0f921"
             ]
            ],
            "type": "heatmap"
           }
          ],
          "heatmapgl": [
           {
            "colorbar": {
             "outlinewidth": 0,
             "ticks": ""
            },
            "colorscale": [
             [
              0,
              "#0d0887"
             ],
             [
              0.1111111111111111,
              "#46039f"
             ],
             [
              0.2222222222222222,
              "#7201a8"
             ],
             [
              0.3333333333333333,
              "#9c179e"
             ],
             [
              0.4444444444444444,
              "#bd3786"
             ],
             [
              0.5555555555555556,
              "#d8576b"
             ],
             [
              0.6666666666666666,
              "#ed7953"
             ],
             [
              0.7777777777777778,
              "#fb9f3a"
             ],
             [
              0.8888888888888888,
              "#fdca26"
             ],
             [
              1,
              "#f0f921"
             ]
            ],
            "type": "heatmapgl"
           }
          ],
          "histogram": [
           {
            "marker": {
             "pattern": {
              "fillmode": "overlay",
              "size": 10,
              "solidity": 0.2
             }
            },
            "type": "histogram"
           }
          ],
          "histogram2d": [
           {
            "colorbar": {
             "outlinewidth": 0,
             "ticks": ""
            },
            "colorscale": [
             [
              0,
              "#0d0887"
             ],
             [
              0.1111111111111111,
              "#46039f"
             ],
             [
              0.2222222222222222,
              "#7201a8"
             ],
             [
              0.3333333333333333,
              "#9c179e"
             ],
             [
              0.4444444444444444,
              "#bd3786"
             ],
             [
              0.5555555555555556,
              "#d8576b"
             ],
             [
              0.6666666666666666,
              "#ed7953"
             ],
             [
              0.7777777777777778,
              "#fb9f3a"
             ],
             [
              0.8888888888888888,
              "#fdca26"
             ],
             [
              1,
              "#f0f921"
             ]
            ],
            "type": "histogram2d"
           }
          ],
          "histogram2dcontour": [
           {
            "colorbar": {
             "outlinewidth": 0,
             "ticks": ""
            },
            "colorscale": [
             [
              0,
              "#0d0887"
             ],
             [
              0.1111111111111111,
              "#46039f"
             ],
             [
              0.2222222222222222,
              "#7201a8"
             ],
             [
              0.3333333333333333,
              "#9c179e"
             ],
             [
              0.4444444444444444,
              "#bd3786"
             ],
             [
              0.5555555555555556,
              "#d8576b"
             ],
             [
              0.6666666666666666,
              "#ed7953"
             ],
             [
              0.7777777777777778,
              "#fb9f3a"
             ],
             [
              0.8888888888888888,
              "#fdca26"
             ],
             [
              1,
              "#f0f921"
             ]
            ],
            "type": "histogram2dcontour"
           }
          ],
          "mesh3d": [
           {
            "colorbar": {
             "outlinewidth": 0,
             "ticks": ""
            },
            "type": "mesh3d"
           }
          ],
          "parcoords": [
           {
            "line": {
             "colorbar": {
              "outlinewidth": 0,
              "ticks": ""
             }
            },
            "type": "parcoords"
           }
          ],
          "pie": [
           {
            "automargin": true,
            "type": "pie"
           }
          ],
          "scatter": [
           {
            "fillpattern": {
             "fillmode": "overlay",
             "size": 10,
             "solidity": 0.2
            },
            "type": "scatter"
           }
          ],
          "scatter3d": [
           {
            "line": {
             "colorbar": {
              "outlinewidth": 0,
              "ticks": ""
             }
            },
            "marker": {
             "colorbar": {
              "outlinewidth": 0,
              "ticks": ""
             }
            },
            "type": "scatter3d"
           }
          ],
          "scattercarpet": [
           {
            "marker": {
             "colorbar": {
              "outlinewidth": 0,
              "ticks": ""
             }
            },
            "type": "scattercarpet"
           }
          ],
          "scattergeo": [
           {
            "marker": {
             "colorbar": {
              "outlinewidth": 0,
              "ticks": ""
             }
            },
            "type": "scattergeo"
           }
          ],
          "scattergl": [
           {
            "marker": {
             "colorbar": {
              "outlinewidth": 0,
              "ticks": ""
             }
            },
            "type": "scattergl"
           }
          ],
          "scattermapbox": [
           {
            "marker": {
             "colorbar": {
              "outlinewidth": 0,
              "ticks": ""
             }
            },
            "type": "scattermapbox"
           }
          ],
          "scatterpolar": [
           {
            "marker": {
             "colorbar": {
              "outlinewidth": 0,
              "ticks": ""
             }
            },
            "type": "scatterpolar"
           }
          ],
          "scatterpolargl": [
           {
            "marker": {
             "colorbar": {
              "outlinewidth": 0,
              "ticks": ""
             }
            },
            "type": "scatterpolargl"
           }
          ],
          "scatterternary": [
           {
            "marker": {
             "colorbar": {
              "outlinewidth": 0,
              "ticks": ""
             }
            },
            "type": "scatterternary"
           }
          ],
          "surface": [
           {
            "colorbar": {
             "outlinewidth": 0,
             "ticks": ""
            },
            "colorscale": [
             [
              0,
              "#0d0887"
             ],
             [
              0.1111111111111111,
              "#46039f"
             ],
             [
              0.2222222222222222,
              "#7201a8"
             ],
             [
              0.3333333333333333,
              "#9c179e"
             ],
             [
              0.4444444444444444,
              "#bd3786"
             ],
             [
              0.5555555555555556,
              "#d8576b"
             ],
             [
              0.6666666666666666,
              "#ed7953"
             ],
             [
              0.7777777777777778,
              "#fb9f3a"
             ],
             [
              0.8888888888888888,
              "#fdca26"
             ],
             [
              1,
              "#f0f921"
             ]
            ],
            "type": "surface"
           }
          ],
          "table": [
           {
            "cells": {
             "fill": {
              "color": "#EBF0F8"
             },
             "line": {
              "color": "white"
             }
            },
            "header": {
             "fill": {
              "color": "#C8D4E3"
             },
             "line": {
              "color": "white"
             }
            },
            "type": "table"
           }
          ]
         },
         "layout": {
          "annotationdefaults": {
           "arrowcolor": "#2a3f5f",
           "arrowhead": 0,
           "arrowwidth": 1
          },
          "autotypenumbers": "strict",
          "coloraxis": {
           "colorbar": {
            "outlinewidth": 0,
            "ticks": ""
           }
          },
          "colorscale": {
           "diverging": [
            [
             0,
             "#8e0152"
            ],
            [
             0.1,
             "#c51b7d"
            ],
            [
             0.2,
             "#de77ae"
            ],
            [
             0.3,
             "#f1b6da"
            ],
            [
             0.4,
             "#fde0ef"
            ],
            [
             0.5,
             "#f7f7f7"
            ],
            [
             0.6,
             "#e6f5d0"
            ],
            [
             0.7,
             "#b8e186"
            ],
            [
             0.8,
             "#7fbc41"
            ],
            [
             0.9,
             "#4d9221"
            ],
            [
             1,
             "#276419"
            ]
           ],
           "sequential": [
            [
             0,
             "#0d0887"
            ],
            [
             0.1111111111111111,
             "#46039f"
            ],
            [
             0.2222222222222222,
             "#7201a8"
            ],
            [
             0.3333333333333333,
             "#9c179e"
            ],
            [
             0.4444444444444444,
             "#bd3786"
            ],
            [
             0.5555555555555556,
             "#d8576b"
            ],
            [
             0.6666666666666666,
             "#ed7953"
            ],
            [
             0.7777777777777778,
             "#fb9f3a"
            ],
            [
             0.8888888888888888,
             "#fdca26"
            ],
            [
             1,
             "#f0f921"
            ]
           ],
           "sequentialminus": [
            [
             0,
             "#0d0887"
            ],
            [
             0.1111111111111111,
             "#46039f"
            ],
            [
             0.2222222222222222,
             "#7201a8"
            ],
            [
             0.3333333333333333,
             "#9c179e"
            ],
            [
             0.4444444444444444,
             "#bd3786"
            ],
            [
             0.5555555555555556,
             "#d8576b"
            ],
            [
             0.6666666666666666,
             "#ed7953"
            ],
            [
             0.7777777777777778,
             "#fb9f3a"
            ],
            [
             0.8888888888888888,
             "#fdca26"
            ],
            [
             1,
             "#f0f921"
            ]
           ]
          },
          "colorway": [
           "#636efa",
           "#EF553B",
           "#00cc96",
           "#ab63fa",
           "#FFA15A",
           "#19d3f3",
           "#FF6692",
           "#B6E880",
           "#FF97FF",
           "#FECB52"
          ],
          "font": {
           "color": "#2a3f5f"
          },
          "geo": {
           "bgcolor": "white",
           "lakecolor": "white",
           "landcolor": "#E5ECF6",
           "showlakes": true,
           "showland": true,
           "subunitcolor": "white"
          },
          "hoverlabel": {
           "align": "left"
          },
          "hovermode": "closest",
          "mapbox": {
           "style": "light"
          },
          "paper_bgcolor": "white",
          "plot_bgcolor": "#E5ECF6",
          "polar": {
           "angularaxis": {
            "gridcolor": "white",
            "linecolor": "white",
            "ticks": ""
           },
           "bgcolor": "#E5ECF6",
           "radialaxis": {
            "gridcolor": "white",
            "linecolor": "white",
            "ticks": ""
           }
          },
          "scene": {
           "xaxis": {
            "backgroundcolor": "#E5ECF6",
            "gridcolor": "white",
            "gridwidth": 2,
            "linecolor": "white",
            "showbackground": true,
            "ticks": "",
            "zerolinecolor": "white"
           },
           "yaxis": {
            "backgroundcolor": "#E5ECF6",
            "gridcolor": "white",
            "gridwidth": 2,
            "linecolor": "white",
            "showbackground": true,
            "ticks": "",
            "zerolinecolor": "white"
           },
           "zaxis": {
            "backgroundcolor": "#E5ECF6",
            "gridcolor": "white",
            "gridwidth": 2,
            "linecolor": "white",
            "showbackground": true,
            "ticks": "",
            "zerolinecolor": "white"
           }
          },
          "shapedefaults": {
           "line": {
            "color": "#2a3f5f"
           }
          },
          "ternary": {
           "aaxis": {
            "gridcolor": "white",
            "linecolor": "white",
            "ticks": ""
           },
           "baxis": {
            "gridcolor": "white",
            "linecolor": "white",
            "ticks": ""
           },
           "bgcolor": "#E5ECF6",
           "caxis": {
            "gridcolor": "white",
            "linecolor": "white",
            "ticks": ""
           }
          },
          "title": {
           "x": 0.05
          },
          "xaxis": {
           "automargin": true,
           "gridcolor": "white",
           "linecolor": "white",
           "ticks": "",
           "title": {
            "standoff": 15
           },
           "zerolinecolor": "white",
           "zerolinewidth": 2
          },
          "yaxis": {
           "automargin": true,
           "gridcolor": "white",
           "linecolor": "white",
           "ticks": "",
           "title": {
            "standoff": 15
           },
           "zerolinecolor": "white",
           "zerolinewidth": 2
          }
         }
        },
        "title": {
         "text": "Total Cost: 86906.68"
        },
        "width": 800,
        "xaxis": {
         "anchor": "y",
         "domain": [
          0,
          0.8711111111111111
         ],
         "showgrid": false,
         "title": {
          "text": "Month"
         }
        },
        "xaxis2": {
         "anchor": "y2",
         "domain": [
          0.8911111111111111,
          1
         ],
         "range": [
          -0.1,
          0.1
         ],
         "showgrid": false,
         "showticklabels": false,
         "tickformat": "%d-%b"
        },
        "yaxis": {
         "anchor": "x",
         "domain": [
          0,
          1
         ],
         "range": [
          0,
          179633.80954574663
         ],
         "showgrid": false,
         "title": {
          "text": "Cumulative Cost ($)"
         }
        },
        "yaxis2": {
         "anchor": "x2",
         "domain": [
          0,
          1
         ],
         "matches": "y",
         "showgrid": false,
         "showticklabels": false
        }
       }
      }
     },
     "metadata": {},
     "output_type": "display_data"
    }
   ],
   "source": [
    "plot_trend(data, \"x\", [\"A\", \"B\", \"C\"], \"B\", 6, 4 * 12 + 6)"
   ]
  },
  {
   "cell_type": "markdown",
   "metadata": {},
   "source": [
    "## Old Code\n"
   ]
  },
  {
   "cell_type": "code",
   "execution_count": null,
   "metadata": {},
   "outputs": [],
   "source": [
    "def add_vrect(fig, l, r, x_min, x_max):\n",
    "    fig.add_vrect(\n",
    "        x0=x_min,\n",
    "        x1=l,\n",
    "        fillcolor=\"black\",\n",
    "        opacity=0.2,\n",
    "        line_width=0,\n",
    "        row=1,\n",
    "        col=1,\n",
    "    )\n",
    "    fig.add_vrect(\n",
    "        x0=r,\n",
    "        x1=x_max,\n",
    "        fillcolor=\"black\",\n",
    "        opacity=0.2,\n",
    "        line_width=0,\n",
    "        row=1,\n",
    "        col=1,\n",
    "    )\n",
    "\n",
    "\n",
    "def add_hrect(fig, b, t, y_min, y_max):\n",
    "    fig.add_hrect(\n",
    "        y0=y_min,\n",
    "        y1=b,\n",
    "        fillcolor=\"black\",\n",
    "        opacity=0.2,\n",
    "        line_width=0,\n",
    "        row=1,\n",
    "        col=1,\n",
    "    )\n",
    "    fig.add_hrect(\n",
    "        y0=t,\n",
    "        y1=y_max,\n",
    "        fillcolor=\"black\",\n",
    "        opacity=0.2,\n",
    "        line_width=0,\n",
    "        row=1,\n",
    "        col=1,\n",
    "    )\n",
    "\n",
    "\n",
    "def add_lines(fig, l, r, b, t):\n",
    "    fig.add_vline(\n",
    "        x=l, line_width=1, line_dash=\"dot\", line_color=\"black\", opacity=0.5\n",
    "    )\n",
    "\n",
    "    fig.add_vline(\n",
    "        x=r, line_width=1, line_dash=\"dot\", line_color=\"black\", opacity=0.5\n",
    "    )\n",
    "\n",
    "    fig.add_hline(\n",
    "        y=b, line_width=1, line_dash=\"dot\", line_color=\"black\", opacity=0.5\n",
    "    )\n",
    "\n",
    "    fig.add_hline(\n",
    "        y=t, line_width=1, line_dash=\"dot\", line_color=\"black\", opacity=0.5\n",
    "    )"
   ]
  }
 ],
 "metadata": {
  "kernelspec": {
   "display_name": "creche",
   "language": "python",
   "name": "python3"
  },
  "language_info": {
   "codemirror_mode": {
    "name": "ipython",
    "version": 3
   },
   "file_extension": ".py",
   "mimetype": "text/x-python",
   "name": "python",
   "nbconvert_exporter": "python",
   "pygments_lexer": "ipython3",
   "version": "3.12.5"
  }
 },
 "nbformat": 4,
 "nbformat_minor": 2
}
